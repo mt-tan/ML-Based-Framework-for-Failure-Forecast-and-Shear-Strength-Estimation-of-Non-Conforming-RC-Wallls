{
  "cells": [
    {
      "cell_type": "markdown",
      "metadata": {
        "id": "JogPOOZctxxA"
      },
      "source": [
        "# Data Pre-processing and Visualization"
      ]
    },
    {
      "cell_type": "code",
      "execution_count": 3,
      "metadata": {
        "id": "bwXKh_KTgmAd"
      },
      "outputs": [],
      "source": [
        "import pandas as pd\n",
        "import numpy as np\n",
        "import seaborn as sns\n",
        "import matplotlib.pyplot as plt\n",
        "import matplotlib\n",
        "import random\n",
        "\n",
        "from scipy import stats\n",
        "\n",
        "from sklearn.model_selection import train_test_split, cross_val_score, GridSearchCV, KFold\n",
        "\n",
        "from sklearn.preprocessing import RobustScaler\n",
        "\n",
        "from sklearn.metrics import confusion_matrix, accuracy_score, classification_report, precision_score, plot_confusion_matrix\n",
        "from sklearn.neighbors import KNeighborsClassifier\n",
        "from sklearn.linear_model import LogisticRegression \n",
        "from sklearn.neural_network import MLPClassifier \n",
        "from sklearn.svm import SVC \n",
        "from sklearn.ensemble import RandomForestClassifier\n",
        "from lightgbm import LGBMClassifier\n",
        "from xgboost import XGBClassifier\n",
        "from catboost import CatBoostClassifier\n",
        "\n",
        "pd.set_option('display.max_columns', None)\n",
        "pd.set_option('display.max_rows', None)\n",
        "\n",
        "from warnings import filterwarnings\n",
        "filterwarnings('ignore')\n",
        "\n",
        "matplotlib.rcParams['mathtext.fontset'] = 'stix'\n",
        "matplotlib.rcParams['font.family'] = 'STIXGeneral'\n",
        "\n",
        "data = pd.read_excel(\"data.xlsx\")\n",
        "raw_data = pd.read_excel(\"raw_data.xlsx\")\n",
        "df = data.copy()"
      ]
    },
    {
      "cell_type": "code",
      "execution_count": 4,
      "metadata": {
        "colab": {
          "base_uri": "https://localhost:8080/",
          "height": 267
        },
        "id": "xyBEqDiN2Yyk",
        "outputId": "b3d66789-5d17-41c2-ea91-714fc30c17ed"
      },
      "outputs": [
        {
          "data": {
            "text/html": [
              "\n",
              "  <div id=\"df-25c89aaa-bbe0-4b52-900c-bc91044b499e\">\n",
              "    <div class=\"colab-df-container\">\n",
              "      <div>\n",
              "<style scoped>\n",
              "    .dataframe tbody tr th:only-of-type {\n",
              "        vertical-align: middle;\n",
              "    }\n",
              "\n",
              "    .dataframe tbody tr th {\n",
              "        vertical-align: top;\n",
              "    }\n",
              "\n",
              "    .dataframe thead th {\n",
              "        text-align: right;\n",
              "    }\n",
              "</style>\n",
              "<table border=\"1\" class=\"dataframe\">\n",
              "  <thead>\n",
              "    <tr style=\"text-align: right;\">\n",
              "      <th></th>\n",
              "      <th>tw (mm)</th>\n",
              "      <th>lw (mm)</th>\n",
              "      <th>hw (mm)</th>\n",
              "      <th>M/(V.L)</th>\n",
              "      <th>P/(Ag.fc)</th>\n",
              "      <th>fc (MPa)</th>\n",
              "      <th>Agb (cm2)</th>\n",
              "      <th>ρbl.fybl (MPa)</th>\n",
              "      <th>ρsh.fysh (MPa)</th>\n",
              "      <th>ρl.fyl (MPa)</th>\n",
              "      <th>ρt.fyt (MPa)</th>\n",
              "      <th>v_test (kN)</th>\n",
              "      <th>failure_mode</th>\n",
              "    </tr>\n",
              "  </thead>\n",
              "  <tbody>\n",
              "    <tr>\n",
              "      <th>0</th>\n",
              "      <td>150.0</td>\n",
              "      <td>1000</td>\n",
              "      <td>2200.0</td>\n",
              "      <td>2.20</td>\n",
              "      <td>0.00</td>\n",
              "      <td>30.5</td>\n",
              "      <td>300.0</td>\n",
              "      <td>5.652500</td>\n",
              "      <td>7.395000</td>\n",
              "      <td>2.847500</td>\n",
              "      <td>3.740000</td>\n",
              "      <td>155.15</td>\n",
              "      <td>3.0</td>\n",
              "    </tr>\n",
              "    <tr>\n",
              "      <th>1</th>\n",
              "      <td>150.0</td>\n",
              "      <td>1400</td>\n",
              "      <td>2000.0</td>\n",
              "      <td>1.43</td>\n",
              "      <td>0.01</td>\n",
              "      <td>46.8</td>\n",
              "      <td>0.0</td>\n",
              "      <td>0.000000</td>\n",
              "      <td>0.000000</td>\n",
              "      <td>4.410368</td>\n",
              "      <td>2.021229</td>\n",
              "      <td>666.82</td>\n",
              "      <td>3.0</td>\n",
              "    </tr>\n",
              "    <tr>\n",
              "      <th>2</th>\n",
              "      <td>150.0</td>\n",
              "      <td>1400</td>\n",
              "      <td>2000.0</td>\n",
              "      <td>1.43</td>\n",
              "      <td>0.01</td>\n",
              "      <td>46.6</td>\n",
              "      <td>0.0</td>\n",
              "      <td>0.000000</td>\n",
              "      <td>0.000000</td>\n",
              "      <td>7.725619</td>\n",
              "      <td>2.021229</td>\n",
              "      <td>787.40</td>\n",
              "      <td>1.0</td>\n",
              "    </tr>\n",
              "    <tr>\n",
              "      <th>3</th>\n",
              "      <td>127.0</td>\n",
              "      <td>1625</td>\n",
              "      <td>12000.0</td>\n",
              "      <td>7.38</td>\n",
              "      <td>0.10</td>\n",
              "      <td>49.0</td>\n",
              "      <td>771.4</td>\n",
              "      <td>2.956163</td>\n",
              "      <td>2.667677</td>\n",
              "      <td>1.219476</td>\n",
              "      <td>1.177428</td>\n",
              "      <td>144.75</td>\n",
              "      <td>3.0</td>\n",
              "    </tr>\n",
              "    <tr>\n",
              "      <th>4</th>\n",
              "      <td>100.0</td>\n",
              "      <td>700</td>\n",
              "      <td>1600.0</td>\n",
              "      <td>2.50</td>\n",
              "      <td>0.15</td>\n",
              "      <td>27.4</td>\n",
              "      <td>100.0</td>\n",
              "      <td>14.732880</td>\n",
              "      <td>0.000000</td>\n",
              "      <td>2.673600</td>\n",
              "      <td>2.655481</td>\n",
              "      <td>143.15</td>\n",
              "      <td>2.0</td>\n",
              "    </tr>\n",
              "  </tbody>\n",
              "</table>\n",
              "</div>\n",
              "      <button class=\"colab-df-convert\" onclick=\"convertToInteractive('df-25c89aaa-bbe0-4b52-900c-bc91044b499e')\"\n",
              "              title=\"Convert this dataframe to an interactive table.\"\n",
              "              style=\"display:none;\">\n",
              "        \n",
              "  <svg xmlns=\"http://www.w3.org/2000/svg\" height=\"24px\"viewBox=\"0 0 24 24\"\n",
              "       width=\"24px\">\n",
              "    <path d=\"M0 0h24v24H0V0z\" fill=\"none\"/>\n",
              "    <path d=\"M18.56 5.44l.94 2.06.94-2.06 2.06-.94-2.06-.94-.94-2.06-.94 2.06-2.06.94zm-11 1L8.5 8.5l.94-2.06 2.06-.94-2.06-.94L8.5 2.5l-.94 2.06-2.06.94zm10 10l.94 2.06.94-2.06 2.06-.94-2.06-.94-.94-2.06-.94 2.06-2.06.94z\"/><path d=\"M17.41 7.96l-1.37-1.37c-.4-.4-.92-.59-1.43-.59-.52 0-1.04.2-1.43.59L10.3 9.45l-7.72 7.72c-.78.78-.78 2.05 0 2.83L4 21.41c.39.39.9.59 1.41.59.51 0 1.02-.2 1.41-.59l7.78-7.78 2.81-2.81c.8-.78.8-2.07 0-2.86zM5.41 20L4 18.59l7.72-7.72 1.47 1.35L5.41 20z\"/>\n",
              "  </svg>\n",
              "      </button>\n",
              "      \n",
              "  <style>\n",
              "    .colab-df-container {\n",
              "      display:flex;\n",
              "      flex-wrap:wrap;\n",
              "      gap: 12px;\n",
              "    }\n",
              "\n",
              "    .colab-df-convert {\n",
              "      background-color: #E8F0FE;\n",
              "      border: none;\n",
              "      border-radius: 50%;\n",
              "      cursor: pointer;\n",
              "      display: none;\n",
              "      fill: #1967D2;\n",
              "      height: 32px;\n",
              "      padding: 0 0 0 0;\n",
              "      width: 32px;\n",
              "    }\n",
              "\n",
              "    .colab-df-convert:hover {\n",
              "      background-color: #E2EBFA;\n",
              "      box-shadow: 0px 1px 2px rgba(60, 64, 67, 0.3), 0px 1px 3px 1px rgba(60, 64, 67, 0.15);\n",
              "      fill: #174EA6;\n",
              "    }\n",
              "\n",
              "    [theme=dark] .colab-df-convert {\n",
              "      background-color: #3B4455;\n",
              "      fill: #D2E3FC;\n",
              "    }\n",
              "\n",
              "    [theme=dark] .colab-df-convert:hover {\n",
              "      background-color: #434B5C;\n",
              "      box-shadow: 0px 1px 3px 1px rgba(0, 0, 0, 0.15);\n",
              "      filter: drop-shadow(0px 1px 2px rgba(0, 0, 0, 0.3));\n",
              "      fill: #FFFFFF;\n",
              "    }\n",
              "  </style>\n",
              "\n",
              "      <script>\n",
              "        const buttonEl =\n",
              "          document.querySelector('#df-25c89aaa-bbe0-4b52-900c-bc91044b499e button.colab-df-convert');\n",
              "        buttonEl.style.display =\n",
              "          google.colab.kernel.accessAllowed ? 'block' : 'none';\n",
              "\n",
              "        async function convertToInteractive(key) {\n",
              "          const element = document.querySelector('#df-25c89aaa-bbe0-4b52-900c-bc91044b499e');\n",
              "          const dataTable =\n",
              "            await google.colab.kernel.invokeFunction('convertToInteractive',\n",
              "                                                     [key], {});\n",
              "          if (!dataTable) return;\n",
              "\n",
              "          const docLinkHtml = 'Like what you see? Visit the ' +\n",
              "            '<a target=\"_blank\" href=https://colab.research.google.com/notebooks/data_table.ipynb>data table notebook</a>'\n",
              "            + ' to learn more about interactive tables.';\n",
              "          element.innerHTML = '';\n",
              "          dataTable['output_type'] = 'display_data';\n",
              "          await google.colab.output.renderOutput(dataTable, element);\n",
              "          const docLink = document.createElement('div');\n",
              "          docLink.innerHTML = docLinkHtml;\n",
              "          element.appendChild(docLink);\n",
              "        }\n",
              "      </script>\n",
              "    </div>\n",
              "  </div>\n",
              "  "
            ],
            "text/plain": [
              "   tw (mm)  lw (mm)  hw (mm)  M/(V.L)  P/(Ag.fc)  fc (MPa)  Agb (cm2)  \\\n",
              "0    150.0     1000   2200.0     2.20       0.00      30.5      300.0   \n",
              "1    150.0     1400   2000.0     1.43       0.01      46.8        0.0   \n",
              "2    150.0     1400   2000.0     1.43       0.01      46.6        0.0   \n",
              "3    127.0     1625  12000.0     7.38       0.10      49.0      771.4   \n",
              "4    100.0      700   1600.0     2.50       0.15      27.4      100.0   \n",
              "\n",
              "   ρbl.fybl (MPa)  ρsh.fysh (MPa)  ρl.fyl (MPa)  ρt.fyt (MPa)  v_test (kN)  \\\n",
              "0        5.652500        7.395000      2.847500      3.740000       155.15   \n",
              "1        0.000000        0.000000      4.410368      2.021229       666.82   \n",
              "2        0.000000        0.000000      7.725619      2.021229       787.40   \n",
              "3        2.956163        2.667677      1.219476      1.177428       144.75   \n",
              "4       14.732880        0.000000      2.673600      2.655481       143.15   \n",
              "\n",
              "   failure_mode  \n",
              "0           3.0  \n",
              "1           3.0  \n",
              "2           1.0  \n",
              "3           3.0  \n",
              "4           2.0  "
            ]
          },
          "execution_count": 4,
          "metadata": {},
          "output_type": "execute_result"
        }
      ],
      "source": [
        "raw_data = raw_data[raw_data[\"conformity_ec\"] == 0]\n",
        "raw_data.drop([\"Paper No\", \"Specimen\", \"conformity_ec\", \"hw/lw\", \"Agb/Ag\"], axis=1, inplace=True)\n",
        "raw_data.head()"
      ]
    },
    {
      "cell_type": "code",
      "execution_count": null,
      "metadata": {
        "colab": {
          "base_uri": "https://localhost:8080/",
          "height": 0
        },
        "id": "7t0J59HR7iD8",
        "outputId": "9e48620a-a922-4170-9f48-88b25b4289fb"
      },
      "outputs": [],
      "source": [
        "raw_data.dropna(inplace=True, axis=0)"
      ]
    },
    {
      "cell_type": "code",
      "execution_count": 13,
      "metadata": {
        "colab": {
          "base_uri": "https://localhost:8080/",
          "height": 698
        },
        "id": "NHrRre756nP3",
        "outputId": "c3c74852-4a31-4e71-b2dc-0347f1b713cf"
      },
      "outputs": [
        {
          "data": {
            "image/png": "[encoded data removed]",
            "text/plain": [
              "<Figure size 720x720 with 16 Axes>"
            ]
          },
          "metadata": {
            "needs_background": "light"
          },
          "output_type": "display_data"
        }
      ],
      "source": [
        "axes = raw_data.hist(column=raw_data.columns.to_list(), grid=True, figsize=(10,10), bins=20, layout=(4, 4))\n",
        "plt.tight_layout(pad=4.0)\n",
        "\n",
        "axes[0, 0].set_title(f\"input (C, R)\\nMean:{round(raw_data['tw (mm)'].mean(), 2)} | Std:{round(raw_data['tw (mm)'].std(), 2)}\")\n",
        "axes[0, 0].set_xlabel(r\"$t_w$ (mm)\")\n",
        "axes[0, 0].set_ylabel(\"Frequency\")\n",
        "\n",
        "axes[0, 1].set_title(f\"input (C, R)\\nMean:{round(raw_data['lw (mm)'].mean(), 2)} | Std:{round(raw_data['lw (mm)'].std(), 2)}\")\n",
        "axes[0, 1].set_xlabel(r\"$l_w$ (mm)\")\n",
        "axes[0, 1].set_ylabel(\"Frequency\")\n",
        "\n",
        "axes[0, 2].set_title(f\"input (C, R)\\nMean:{round(raw_data['hw (mm)'].mean(), 2)} | Std:{round(raw_data['hw (mm)'].std(), 2)}\")\n",
        "axes[0, 2].set_xlabel(r\"$h_w$ (mm)\")\n",
        "axes[0, 2].set_ylabel(\"Frequency\")\n",
        "\n",
        "axes[0, 3].set_title(f\"input (C, R)\\nMean:{round(raw_data['M/(V.L)'].mean(), 2)} | Std:{round(raw_data['M/(V.L)'].std(), 2)}\")\n",
        "axes[0, 3].set_xlabel(r\"$M/V\\,l_w$\")\n",
        "axes[0, 3].set_ylabel(\"Frequency\")\n",
        "\n",
        "axes[1, 0].set_title(f\"input (C, R)\\nMean:{round(raw_data['P/(Ag.fc)'].mean(), 2)} | Std:{round(raw_data['P/(Ag.fc)'].std(), 2)}\")\n",
        "axes[1, 0].set_xlabel(r\"$P/A_{g}\\,f_{c}$\")\n",
        "axes[1, 0].set_ylabel(\"Frequency\")\n",
        "\n",
        "axes[1, 1].set_title(f\"input (C, R)\\nMean:{round(raw_data['fc (MPa)'].mean(), 2)} | Std:{round(raw_data['fc (MPa)'].std(), 2)}\")\n",
        "axes[1, 1].set_xlabel(r\"$f_c$ (MPa)\")\n",
        "axes[1, 1].set_ylabel(\"Frequency\")\n",
        "\n",
        "axes[1, 2].set_title(f\"input (C, R)\\nMean:{round(raw_data['Agb (cm2)'].mean(), 2)} | Std:{round(raw_data['Agb (cm2)'].std(), 2)}\")\n",
        "axes[1, 2].set_xlabel(r\"$A_{gb}$ $(cm^2)$\")\n",
        "axes[1, 2].set_ylabel(\"Frequency\")\n",
        "\n",
        "axes[1, 3].set_title(f\"input (C, R)\\nMean:{round(raw_data['ρbl.fybl (MPa)'].mean(), 2)} | Std:{round(raw_data['ρbl.fybl (MPa)'].std(), 2)}\")\n",
        "axes[1, 3].set_xlabel(r\"$ρ_{bl}\\,f_{ybl}$ (MPa)\")\n",
        "axes[1, 3].set_ylabel(\"Frequency\")\n",
        "\n",
        "axes[2, 0].set_title(f\"input (C, R)\\nMean:{round(raw_data['ρsh.fysh (MPa)'].mean(), 2)} | Std:{round(raw_data['ρsh.fysh (MPa)'].std(), 2)}\")\n",
        "axes[2, 0].set_xlabel(r\"$ρ_{sh}\\,f_{ysh}$ (MPa)\")\n",
        "axes[2, 0].set_ylabel(\"Frequency\")\n",
        "\n",
        "axes[2, 1].set_title(f\"input (C, R)\\nMean:{round(raw_data['ρl.fyl (MPa)'].mean(), 2)} | Std:{round(raw_data['ρl.fyl (MPa)'].std(), 2)}\")\n",
        "axes[2, 1].set_xlabel(r\"$ρ_l\\,f_{yl}$ (MPa)\")\n",
        "axes[2, 1].set_ylabel(\"Frequency\")\n",
        "\n",
        "axes[2, 2].set_title(f\"input (C, R)\\nMean:{round(raw_data['ρt.fyt (MPa)'].mean(), 2)} | Std:{round(raw_data['ρt.fyt (MPa)'].std(), 2)}\")\n",
        "axes[2, 2].set_xlabel(r\"$ρ_t\\,f_{yt}$ (MPa)\")\n",
        "axes[2, 2].set_ylabel(\"Frequency\")\n",
        "\n",
        "axes[2, 3].set_title(f\"output (R)\\nMean:{round(raw_data['v_test (kN)'].mean(), 2)} | Std:{round(raw_data['v_test (kN)'].std(), 2)}\")\n",
        "axes[2, 3].set_xlabel(r\"$V_{test}$ (kN)\")\n",
        "axes[2, 3].set_ylabel(\"Frequency\")\n",
        "\n",
        "axes[3, 0].clear()\n",
        "axes[3, 0].bar([\"S\", \"SF\", \"F\"], raw_data[\"failure_mode\"].value_counts(), width=0.3)\n",
        "axes[3, 0].set_title(\"output (C), input (R)\")\n",
        "axes[3, 0].set_xlabel(\"Failure Mode\")\n",
        "axes[3, 0].set_ylabel(\"Frequency\")\n",
        "\n",
        "plt.show()"
      ]
    },
    {
      "cell_type": "code",
      "execution_count": 15,
      "metadata": {
        "colab": {
          "base_uri": "https://localhost:8080/",
          "height": 206
        },
        "id": "oH_wM_kxQLVm",
        "outputId": "ee1cd002-c72d-451f-853d-cd9cbc27f5af"
      },
      "outputs": [
        {
          "data": {
            "text/html": [
              "\n",
              "  <div id=\"df-290dc700-5425-457c-a1e6-8509362ebfc2\">\n",
              "    <div class=\"colab-df-container\">\n",
              "      <div>\n",
              "<style scoped>\n",
              "    .dataframe tbody tr th:only-of-type {\n",
              "        vertical-align: middle;\n",
              "    }\n",
              "\n",
              "    .dataframe tbody tr th {\n",
              "        vertical-align: top;\n",
              "    }\n",
              "\n",
              "    .dataframe thead th {\n",
              "        text-align: right;\n",
              "    }\n",
              "</style>\n",
              "<table border=\"1\" class=\"dataframe\">\n",
              "  <thead>\n",
              "    <tr style=\"text-align: right;\">\n",
              "      <th></th>\n",
              "      <th>tw</th>\n",
              "      <th>lw</th>\n",
              "      <th>hw</th>\n",
              "      <th>M/(V.lw)</th>\n",
              "      <th>P/(Ag.fc)</th>\n",
              "      <th>fc</th>\n",
              "      <th>Agb</th>\n",
              "      <th>ρbl.fybl</th>\n",
              "      <th>ρsh.fysh</th>\n",
              "      <th>ρl.fyl</th>\n",
              "      <th>ρt.fyt</th>\n",
              "      <th>failure_mode</th>\n",
              "    </tr>\n",
              "  </thead>\n",
              "  <tbody>\n",
              "    <tr>\n",
              "      <th>0</th>\n",
              "      <td>150.0</td>\n",
              "      <td>1000</td>\n",
              "      <td>2200.0</td>\n",
              "      <td>2.20</td>\n",
              "      <td>0.00</td>\n",
              "      <td>30.5</td>\n",
              "      <td>30000.0</td>\n",
              "      <td>5.652500</td>\n",
              "      <td>7.395000</td>\n",
              "      <td>2.847500</td>\n",
              "      <td>3.740000</td>\n",
              "      <td>3.0</td>\n",
              "    </tr>\n",
              "    <tr>\n",
              "      <th>1</th>\n",
              "      <td>150.0</td>\n",
              "      <td>1400</td>\n",
              "      <td>2000.0</td>\n",
              "      <td>1.43</td>\n",
              "      <td>0.01</td>\n",
              "      <td>46.8</td>\n",
              "      <td>0.0</td>\n",
              "      <td>0.000000</td>\n",
              "      <td>0.000000</td>\n",
              "      <td>4.410368</td>\n",
              "      <td>2.021229</td>\n",
              "      <td>3.0</td>\n",
              "    </tr>\n",
              "    <tr>\n",
              "      <th>2</th>\n",
              "      <td>150.0</td>\n",
              "      <td>1400</td>\n",
              "      <td>2000.0</td>\n",
              "      <td>1.43</td>\n",
              "      <td>0.01</td>\n",
              "      <td>46.6</td>\n",
              "      <td>0.0</td>\n",
              "      <td>0.000000</td>\n",
              "      <td>0.000000</td>\n",
              "      <td>7.725619</td>\n",
              "      <td>2.021229</td>\n",
              "      <td>1.0</td>\n",
              "    </tr>\n",
              "    <tr>\n",
              "      <th>3</th>\n",
              "      <td>127.0</td>\n",
              "      <td>1625</td>\n",
              "      <td>12000.0</td>\n",
              "      <td>7.38</td>\n",
              "      <td>0.10</td>\n",
              "      <td>49.0</td>\n",
              "      <td>77140.0</td>\n",
              "      <td>2.956163</td>\n",
              "      <td>2.667677</td>\n",
              "      <td>1.219476</td>\n",
              "      <td>1.177428</td>\n",
              "      <td>3.0</td>\n",
              "    </tr>\n",
              "    <tr>\n",
              "      <th>4</th>\n",
              "      <td>100.0</td>\n",
              "      <td>700</td>\n",
              "      <td>1600.0</td>\n",
              "      <td>2.50</td>\n",
              "      <td>0.15</td>\n",
              "      <td>27.4</td>\n",
              "      <td>10000.0</td>\n",
              "      <td>14.732880</td>\n",
              "      <td>0.000000</td>\n",
              "      <td>2.673600</td>\n",
              "      <td>2.655481</td>\n",
              "      <td>2.0</td>\n",
              "    </tr>\n",
              "  </tbody>\n",
              "</table>\n",
              "</div>\n",
              "      <button class=\"colab-df-convert\" onclick=\"convertToInteractive('df-290dc700-5425-457c-a1e6-8509362ebfc2')\"\n",
              "              title=\"Convert this dataframe to an interactive table.\"\n",
              "              style=\"display:none;\">\n",
              "        \n",
              "  <svg xmlns=\"http://www.w3.org/2000/svg\" height=\"24px\"viewBox=\"0 0 24 24\"\n",
              "       width=\"24px\">\n",
              "    <path d=\"M0 0h24v24H0V0z\" fill=\"none\"/>\n",
              "    <path d=\"M18.56 5.44l.94 2.06.94-2.06 2.06-.94-2.06-.94-.94-2.06-.94 2.06-2.06.94zm-11 1L8.5 8.5l.94-2.06 2.06-.94-2.06-.94L8.5 2.5l-.94 2.06-2.06.94zm10 10l.94 2.06.94-2.06 2.06-.94-2.06-.94-.94-2.06-.94 2.06-2.06.94z\"/><path d=\"M17.41 7.96l-1.37-1.37c-.4-.4-.92-.59-1.43-.59-.52 0-1.04.2-1.43.59L10.3 9.45l-7.72 7.72c-.78.78-.78 2.05 0 2.83L4 21.41c.39.39.9.59 1.41.59.51 0 1.02-.2 1.41-.59l7.78-7.78 2.81-2.81c.8-.78.8-2.07 0-2.86zM5.41 20L4 18.59l7.72-7.72 1.47 1.35L5.41 20z\"/>\n",
              "  </svg>\n",
              "      </button>\n",
              "      \n",
              "  <style>\n",
              "    .colab-df-container {\n",
              "      display:flex;\n",
              "      flex-wrap:wrap;\n",
              "      gap: 12px;\n",
              "    }\n",
              "\n",
              "    .colab-df-convert {\n",
              "      background-color: #E8F0FE;\n",
              "      border: none;\n",
              "      border-radius: 50%;\n",
              "      cursor: pointer;\n",
              "      display: none;\n",
              "      fill: #1967D2;\n",
              "      height: 32px;\n",
              "      padding: 0 0 0 0;\n",
              "      width: 32px;\n",
              "    }\n",
              "\n",
              "    .colab-df-convert:hover {\n",
              "      background-color: #E2EBFA;\n",
              "      box-shadow: 0px 1px 2px rgba(60, 64, 67, 0.3), 0px 1px 3px 1px rgba(60, 64, 67, 0.15);\n",
              "      fill: #174EA6;\n",
              "    }\n",
              "\n",
              "    [theme=dark] .colab-df-convert {\n",
              "      background-color: #3B4455;\n",
              "      fill: #D2E3FC;\n",
              "    }\n",
              "\n",
              "    [theme=dark] .colab-df-convert:hover {\n",
              "      background-color: #434B5C;\n",
              "      box-shadow: 0px 1px 3px 1px rgba(0, 0, 0, 0.15);\n",
              "      filter: drop-shadow(0px 1px 2px rgba(0, 0, 0, 0.3));\n",
              "      fill: #FFFFFF;\n",
              "    }\n",
              "  </style>\n",
              "\n",
              "      <script>\n",
              "        const buttonEl =\n",
              "          document.querySelector('#df-290dc700-5425-457c-a1e6-8509362ebfc2 button.colab-df-convert');\n",
              "        buttonEl.style.display =\n",
              "          google.colab.kernel.accessAllowed ? 'block' : 'none';\n",
              "\n",
              "        async function convertToInteractive(key) {\n",
              "          const element = document.querySelector('#df-290dc700-5425-457c-a1e6-8509362ebfc2');\n",
              "          const dataTable =\n",
              "            await google.colab.kernel.invokeFunction('convertToInteractive',\n",
              "                                                     [key], {});\n",
              "          if (!dataTable) return;\n",
              "\n",
              "          const docLinkHtml = 'Like what you see? Visit the ' +\n",
              "            '<a target=\"_blank\" href=https://colab.research.google.com/notebooks/data_table.ipynb>data table notebook</a>'\n",
              "            + ' to learn more about interactive tables.';\n",
              "          element.innerHTML = '';\n",
              "          dataTable['output_type'] = 'display_data';\n",
              "          await google.colab.output.renderOutput(dataTable, element);\n",
              "          const docLink = document.createElement('div');\n",
              "          docLink.innerHTML = docLinkHtml;\n",
              "          element.appendChild(docLink);\n",
              "        }\n",
              "      </script>\n",
              "    </div>\n",
              "  </div>\n",
              "  "
            ],
            "text/plain": [
              "      tw    lw       hw  M/(V.lw)  P/(Ag.fc)    fc      Agb   ρbl.fybl  \\\n",
              "0  150.0  1000   2200.0      2.20       0.00  30.5  30000.0   5.652500   \n",
              "1  150.0  1400   2000.0      1.43       0.01  46.8      0.0   0.000000   \n",
              "2  150.0  1400   2000.0      1.43       0.01  46.6      0.0   0.000000   \n",
              "3  127.0  1625  12000.0      7.38       0.10  49.0  77140.0   2.956163   \n",
              "4  100.0   700   1600.0      2.50       0.15  27.4  10000.0  14.732880   \n",
              "\n",
              "   ρsh.fysh    ρl.fyl    ρt.fyt  failure_mode  \n",
              "0  7.395000  2.847500  3.740000           3.0  \n",
              "1  0.000000  4.410368  2.021229           3.0  \n",
              "2  0.000000  7.725619  2.021229           1.0  \n",
              "3  2.667677  1.219476  1.177428           3.0  \n",
              "4  0.000000  2.673600  2.655481           2.0  "
            ]
          },
          "execution_count": 15,
          "metadata": {},
          "output_type": "execute_result"
        }
      ],
      "source": [
        "df = df[df[\"conformity_ec\"] == 0]\n",
        "df.drop([\"Paper No\", \"Specimen\", \"conformity_ec\", \"hw/lw\", \"Agb/Ag\",\n",
        "       \"v_test\", \"v_ec8\", \"Ag\"], axis=1, inplace=True)\n",
        "df.head()"
      ]
    },
    {
      "cell_type": "code",
      "execution_count": 16,
      "metadata": {
        "colab": {
          "base_uri": "https://localhost:8080/",
          "height": 0
        },
        "id": "D6RT30JmgmAh",
        "outputId": "9472cba4-f759-4270-d061-909769b29baa"
      },
      "outputs": [
        {
          "data": {
            "text/plain": [
              "(454, 12)"
            ]
          },
          "execution_count": 16,
          "metadata": {},
          "output_type": "execute_result"
        }
      ],
      "source": [
        "df.shape"
      ]
    },
    {
      "cell_type": "code",
      "execution_count": 17,
      "metadata": {
        "colab": {
          "base_uri": "https://localhost:8080/",
          "height": 0
        },
        "id": "bziqweXYgmAh",
        "outputId": "d3c02da7-2cce-43e9-c202-81af14727b9e"
      },
      "outputs": [
        {
          "data": {
            "text/plain": [
              "tw               0\n",
              "lw               0\n",
              "hw               0\n",
              "M/(V.lw)         0\n",
              "P/(Ag.fc)        0\n",
              "fc               0\n",
              "Agb              0\n",
              "ρbl.fybl         4\n",
              "ρsh.fysh        20\n",
              "ρl.fyl           0\n",
              "ρt.fyt           0\n",
              "failure_mode     4\n",
              "dtype: int64"
            ]
          },
          "execution_count": 17,
          "metadata": {},
          "output_type": "execute_result"
        }
      ],
      "source": [
        "df.isnull().sum()"
      ]
    },
    {
      "cell_type": "code",
      "execution_count": 18,
      "metadata": {
        "colab": {
          "base_uri": "https://localhost:8080/",
          "height": 0
        },
        "id": "RpKasYaIgmAi",
        "outputId": "16f50089-277f-447d-bd54-fdd178959114"
      },
      "outputs": [
        {
          "data": {
            "text/plain": [
              "(432, 12)"
            ]
          },
          "execution_count": 18,
          "metadata": {},
          "output_type": "execute_result"
        }
      ],
      "source": [
        "df.dropna(inplace=True, axis=0)\n",
        "df.shape"
      ]
    },
    {
      "cell_type": "code",
      "execution_count": 19,
      "metadata": {
        "colab": {
          "base_uri": "https://localhost:8080/",
          "height": 0
        },
        "id": "lYCLvObOgmAj",
        "outputId": "37a117d6-cabb-4723-e7e3-884d596047e0"
      },
      "outputs": [
        {
          "data": {
            "text/plain": [
              "1.0    166\n",
              "2.0    135\n",
              "3.0    131\n",
              "Name: failure_mode, dtype: int64"
            ]
          },
          "execution_count": 19,
          "metadata": {},
          "output_type": "execute_result"
        }
      ],
      "source": [
        "df.failure_mode.value_counts()"
      ]
    },
    {
      "cell_type": "code",
      "execution_count": 20,
      "metadata": {
        "id": "g8lJT2OygmAj"
      },
      "outputs": [],
      "source": [
        "X = df.drop('failure_mode', axis=1)\n",
        "y = df[\"failure_mode\"]"
      ]
    },
    {
      "cell_type": "code",
      "execution_count": 21,
      "metadata": {
        "id": "C7UEuLbiPXUL"
      },
      "outputs": [],
      "source": [
        "cols = X.columns\n",
        "scaler = RobustScaler()\n",
        "X_scaled = scaler.fit_transform(X)\n",
        "X_scaled = pd.DataFrame(X_scaled, columns=cols)"
      ]
    },
    {
      "cell_type": "code",
      "execution_count": 22,
      "metadata": {
        "id": "lP2_ftqDqGCR"
      },
      "outputs": [],
      "source": [
        "randomlist = random.sample(range(1, 10000), 100)"
      ]
    },
    {
      "cell_type": "markdown",
      "metadata": {
        "id": "ND0vhBNXtn_w"
      },
      "source": [
        "# Performances"
      ]
    },
    {
      "cell_type": "markdown",
      "metadata": {
        "id": "FVoCTTxWq4E-"
      },
      "source": [
        "## LightGBM"
      ]
    },
    {
      "cell_type": "code",
      "execution_count": 25,
      "metadata": {
        "colab": {
          "base_uri": "https://localhost:8080/",
          "height": 0
        },
        "id": "-lo-MUmemik4",
        "outputId": "1a1e8055-af81-49df-ada6-3b5b7bd6333d"
      },
      "outputs": [
        {
          "name": "stdout",
          "output_type": "stream",
          "text": [
            "Average Training Accuracy Score: 0.9965\n",
            "Standard Deviation of Training Accuracy Scores: 0.0029\n",
            "Average Testing Accuracy Score: 0.84\n",
            "Standard Deviation of Testing Accuracy Scores: 0.0404\n",
            "Average Precision of S Score: 0.8729\n",
            "Average Precision of SF Score: 0.8028\n",
            "Average Precision of F Score: 0.8359\n",
            "Random state that gives the best accuracy: 6317\n",
            "Random state that gives the worst accuracy: 2381\n"
          ]
        }
      ],
      "source": [
        "# lgbm parameters were obtained previously using gridsearch cv with 5 fold cross-validation\n",
        "lgb = LGBMClassifier(n_estimators=100, num_leaves=8, subsample=0.7, max_depth=6)\n",
        "scores = {\"training\": [], \"testing\": [], \"S\": [], \"SF\": [], \"F\": []}\n",
        "feature_imp_scores = pd.DataFrame()\n",
        "\n",
        "for i in randomlist:\n",
        "    X_train, X_test, y_train, y_test = train_test_split(X, y, test_size=0.20, random_state=i)\n",
        "    lgb.fit(X_train, y_train)\n",
        "    y_pred_train = lgb.predict(X_train)\n",
        "    y_pred_test = lgb.predict(X_test)\n",
        "    train_acc_score = accuracy_score(y_train, y_pred_train)\n",
        "    test_acc_score = accuracy_score(y_test, y_pred_test)\n",
        "    scores[\"training\"].append(train_acc_score)\n",
        "    scores[\"testing\"].append(test_acc_score)\n",
        "    scores[\"S\"].append(precision_score(y_test, y_pred_test, average=None)[0])\n",
        "    scores[\"SF\"].append(precision_score(y_test, y_pred_test, average=None)[1])\n",
        "    scores[\"F\"].append(precision_score(y_test, y_pred_test, average=None)[2])\n",
        "    feature_imp = pd.Series(lgb.feature_importances_, index=X_train.columns).sort_values(ascending=False)\n",
        "    feature_imp_scores = pd.concat([feature_imp_scores, feature_imp], axis=1) \n",
        "\n",
        "print(f\"Average Training Accuracy Score: {round(np.mean(scores['training']), 4)}\")\n",
        "print(f\"Standard Deviation of Training Accuracy Scores: {round(np.std(scores['training']), 4)}\")\n",
        "print(f\"Average Testing Accuracy Score: {round(np.mean(scores['testing']), 4)}\")\n",
        "print(f\"Standard Deviation of Testing Accuracy Scores: {round(np.std(scores['testing']), 4)}\")\n",
        "\n",
        "print(f\"Average Precision of S Score: {round(np.mean(scores['S']), 4)}\")\n",
        "print(f\"Average Precision of SF Score: {round(np.mean(scores['SF']), 4)}\")\n",
        "print(f\"Average Precision of F Score: {round(np.mean(scores['F']), 4)}\")\n",
        "\n",
        "print(\"Random state that gives the best accuracy:\", randomlist[np.argmax(scores[\"testing\"])])\n",
        "print(\"Random state that gives the worst accuracy:\", randomlist[np.argmin(scores[\"testing\"])])\n",
        "\n",
        "feature_imp_scores[\"std\"] = feature_imp_scores.std(axis=1)\n",
        "feature_imp_scores[\"mean\"] = feature_imp_scores.mean(axis=1)\n",
        "feature_imp_scores = feature_imp_scores.sort_values(by=[\"mean\"], ascending=False)\n",
        "feature_imp_final = pd.Series(feature_imp_scores[\"mean\"].values, feature_imp_scores.index).sort_values(ascending=False)"
      ]
    },
    {
      "cell_type": "code",
      "execution_count": 26,
      "metadata": {
        "id": "GNx3cf88daAy"
      },
      "outputs": [],
      "source": [
        "df_scores_lgbm = pd.DataFrame()\n",
        "df_scores_lgbm[\"All\"] = scores[\"testing\"]\n",
        "df_scores_lgbm[\"S\"] = scores[\"S\"]\n",
        "df_scores_lgbm[\"SF\"] = scores[\"SF\"]\n",
        "df_scores_lgbm[\"F\"] = scores[\"F\"]"
      ]
    },
    {
      "cell_type": "code",
      "execution_count": 27,
      "metadata": {
        "colab": {
          "base_uri": "https://localhost:8080/",
          "height": 511
        },
        "id": "50TqTLkdyLmy",
        "outputId": "6414cb85-66d3-4686-c3ab-e9a79ddde393"
      },
      "outputs": [
        {
          "data": {
            "image/png": "[encoded data removed]",
            "text/plain": [
              "<Figure size 720x576 with 1 Axes>"
            ]
          },
          "metadata": {
            "needs_background": "light"
          },
          "output_type": "display_data"
        }
      ],
      "source": [
        "plt.figure(figsize = (10, 8))\n",
        "sns.barplot(x=feature_imp_final, y=feature_imp_final.index)\n",
        "plt.xlabel('Feature Importance Scores')\n",
        "plt.ylabel('Features')\n",
        "plt.title(\"LightGBM Overall Feature Importance Scores\")\n",
        "plt.show()"
      ]
    },
    {
      "cell_type": "code",
      "execution_count": 28,
      "metadata": {
        "id": "UZECoydent7j"
      },
      "outputs": [],
      "source": [
        "# Feature-selection based on the feature importance scores obtained above\n",
        "acc_scores = {\"all\": [], \"S\": [], \"SF\": [], \"F\": []}\n",
        "selected_features = []\n",
        "Z = X.copy()\n",
        "\n",
        "lgbm_sel = LGBMClassifier(n_estimators=100, num_leaves=8, subsample=0.7, max_depth=6)\n",
        "\n",
        "for j in range(len(Z.columns)-1):\n",
        "\n",
        "    Z.drop(feature_imp_final.index[-(j+1)], axis=1, inplace=True)\n",
        "    selected_features.append(Z.columns.to_list())\n",
        "    scores = {\"all\": [], \"S\": [], \"SF\": [], \"F\": []}\n",
        "\n",
        "    for i in randomlist:\n",
        "        Z_train, Z_test, y_train, y_test = train_test_split(Z, y, test_size=0.2, random_state=i)\n",
        "        lgbm_sel.fit(Z_train, y_train)\n",
        "        y_pred_test = lgbm_sel.predict(Z_test)\n",
        "        scores[\"all\"].append(accuracy_score(y_test, y_pred_test))\n",
        "        scores[\"S\"].append(precision_score(y_test, y_pred_test, average=None)[0])\n",
        "        scores[\"SF\"].append(precision_score(y_test, y_pred_test, average=None)[1])\n",
        "        scores[\"F\"].append(precision_score(y_test, y_pred_test, average=None)[2])\n",
        "\n",
        "    acc_scores[\"all\"].append(np.mean(scores['all']))\n",
        "    acc_scores[\"S\"].append(np.mean(scores['S']))\n",
        "    acc_scores[\"SF\"].append(np.mean(scores['SF']))\n",
        "    acc_scores[\"F\"].append(np.mean(scores['F']))"
      ]
    },
    {
      "cell_type": "code",
      "execution_count": 29,
      "metadata": {
        "colab": {
          "base_uri": "https://localhost:8080/",
          "height": 0
        },
        "id": "1P5whNJtCSdp",
        "outputId": "0b0e3144-3961-4584-c16c-551ee32bc7cb"
      },
      "outputs": [
        {
          "name": "stdout",
          "output_type": "stream",
          "text": [
            "0.8386206896551723\n",
            "0.8352873563218393\n",
            "0.8357471264367817\n",
            "0.8162068965517242\n",
            "0.8211494252873563\n",
            "0.8158620689655172\n",
            "0.8075862068965516\n",
            "0.7805747126436781\n",
            "0.7698850574712643\n",
            "0.705632183908046\n"
          ]
        }
      ],
      "source": [
        "for i in acc_scores[\"all\"]:\n",
        "    print(i)"
      ]
    },
    {
      "cell_type": "code",
      "execution_count": 30,
      "metadata": {
        "colab": {
          "base_uri": "https://localhost:8080/",
          "height": 0
        },
        "id": "R35I0ADbbSHP",
        "outputId": "54d5c1de-b1f3-407c-cd7d-24d380f11a13"
      },
      "outputs": [
        {
          "name": "stdout",
          "output_type": "stream",
          "text": [
            "0.8787327451378151\n",
            "0.8671208869598029\n",
            "0.8695474626778315\n",
            "0.8692406063777796\n",
            "0.8772380870806554\n",
            "0.8728134200914588\n",
            "0.8570453422196325\n",
            "0.8450386777469663\n",
            "0.8219845084538498\n",
            "0.7967909480059798\n"
          ]
        }
      ],
      "source": [
        "for i in acc_scores[\"S\"]:\n",
        "    print(i)"
      ]
    },
    {
      "cell_type": "code",
      "execution_count": 31,
      "metadata": {
        "colab": {
          "base_uri": "https://localhost:8080/",
          "height": 0
        },
        "id": "c4CghTOSCDtK",
        "outputId": "61440db0-7a20-4966-8c8a-899fd263a914"
      },
      "outputs": [
        {
          "name": "stdout",
          "output_type": "stream",
          "text": [
            "0.7930163286968168\n",
            "0.7962369531502332\n",
            "0.784475032088121\n",
            "0.7462674026400812\n",
            "0.7430849049064062\n",
            "0.7397794722627242\n",
            "0.7400683621929636\n",
            "0.7070006416955447\n",
            "0.7044717307615765\n",
            "0.6928260937578284\n"
          ]
        }
      ],
      "source": [
        "for i in acc_scores[\"SF\"]:\n",
        "    print(i)"
      ]
    },
    {
      "cell_type": "code",
      "execution_count": 32,
      "metadata": {
        "colab": {
          "base_uri": "https://localhost:8080/",
          "height": 0
        },
        "id": "nK8ksxGoCHdX",
        "outputId": "036883b6-c3fb-44c4-fb7d-fa5978553902"
      },
      "outputs": [
        {
          "name": "stdout",
          "output_type": "stream",
          "text": [
            "0.8341195686297729\n",
            "0.8334605251479336\n",
            "0.8428737356910686\n",
            "0.821660288370566\n",
            "0.833841591411979\n",
            "0.8218697473504143\n",
            "0.8110200106732246\n",
            "0.7671621182366742\n",
            "0.7596428769948956\n",
            "0.6222315121401341\n"
          ]
        }
      ],
      "source": [
        "for i in acc_scores[\"F\"]:\n",
        "    print(i)"
      ]
    },
    {
      "cell_type": "markdown",
      "metadata": {
        "id": "Yd_ZU9S-rEWH"
      },
      "source": [
        "## CatBoost"
      ]
    },
    {
      "cell_type": "code",
      "execution_count": 33,
      "metadata": {
        "colab": {
          "base_uri": "https://localhost:8080/",
          "height": 0
        },
        "id": "xMnJtIScrGsK",
        "outputId": "e5367b41-00cd-488d-8d07-5852fb64e882"
      },
      "outputs": [
        {
          "name": "stdout",
          "output_type": "stream",
          "text": [
            "Average Training Accuracy Score: 0.9996\n",
            "Standard Deviation of Training Accuracy Scores: 0.001\n",
            "Average Testing Accuracy Score: 0.8457\n",
            "Standard Deviation of Testing Accuracy Scores: 0.0369\n",
            "Average Precision of S Score: 0.8753\n",
            "Average Precision of SF Score: 0.8094\n",
            "Average Precision of F Score: 0.8452\n",
            "Random state that gives the best accuracy: 5269\n",
            "Random state that gives the worst accuracy: 1381\n"
          ]
        }
      ],
      "source": [
        "# catb parameters were obtained previously using gridsearch cv with 5 fold cross-validation\n",
        "catb = CatBoostClassifier(depth=5, iterations=100, silent=True)\n",
        "scores = {\"training\": [], \"testing\": [], \"S\": [], \"SF\": [], \"F\": []}\n",
        "feature_imp_scores = pd.DataFrame()\n",
        "\n",
        "for i in randomlist:\n",
        "    X_train, X_test, y_train, y_test = train_test_split(X, y, test_size=0.20, random_state=i)\n",
        "    catb.fit(X_train, y_train)\n",
        "    y_pred_train = catb.predict(X_train)\n",
        "    y_pred_test = catb.predict(X_test)\n",
        "    train_acc_score = accuracy_score(y_train, y_pred_train)\n",
        "    test_acc_score = accuracy_score(y_test, y_pred_test)\n",
        "    scores[\"training\"].append(train_acc_score)\n",
        "    scores[\"testing\"].append(test_acc_score)\n",
        "    scores[\"S\"].append(precision_score(y_test, y_pred_test, average=None)[0])\n",
        "    scores[\"SF\"].append(precision_score(y_test, y_pred_test, average=None)[1])\n",
        "    scores[\"F\"].append(precision_score(y_test, y_pred_test, average=None)[2])\n",
        "    feature_imp = pd.Series(catb.feature_importances_, index=X_train.columns).sort_values(ascending=False)\n",
        "    feature_imp_scores = pd.concat([feature_imp_scores, feature_imp], axis=1) \n",
        "\n",
        "print(f\"Average Training Accuracy Score: {round(np.mean(scores['training']), 4)}\")\n",
        "print(f\"Standard Deviation of Training Accuracy Scores: {round(np.std(scores['training']), 4)}\")\n",
        "print(f\"Average Testing Accuracy Score: {round(np.mean(scores['testing']), 4)}\")\n",
        "print(f\"Standard Deviation of Testing Accuracy Scores: {round(np.std(scores['testing']), 4)}\")\n",
        "\n",
        "print(f\"Average Precision of S Score: {round(np.mean(scores['S']), 4)}\")\n",
        "print(f\"Average Precision of SF Score: {round(np.mean(scores['SF']), 4)}\")\n",
        "print(f\"Average Precision of F Score: {round(np.mean(scores['F']), 4)}\")\n",
        "\n",
        "print(\"Random state that gives the best accuracy:\", randomlist[np.argmax(scores[\"testing\"])])\n",
        "print(\"Random state that gives the worst accuracy:\", randomlist[np.argmin(scores[\"testing\"])])\n",
        "\n",
        "feature_imp_scores[\"std\"] = feature_imp_scores.std(axis=1)\n",
        "feature_imp_scores[\"mean\"] = feature_imp_scores.mean(axis=1)\n",
        "feature_imp_scores = feature_imp_scores.sort_values(by=[\"mean\"], ascending=False)\n",
        "feature_imp_final = pd.Series(feature_imp_scores[\"mean\"].values, feature_imp_scores.index).sort_values(ascending=False)"
      ]
    },
    {
      "cell_type": "code",
      "execution_count": 34,
      "metadata": {
        "id": "4YcxGsu3vKNg"
      },
      "outputs": [],
      "source": [
        "df_scores_catb = pd.DataFrame()\n",
        "df_scores_catb[\"All\"] = scores[\"testing\"]\n",
        "df_scores_catb[\"S\"] = scores[\"S\"]\n",
        "df_scores_catb[\"SF\"] = scores[\"SF\"]\n",
        "df_scores_catb[\"F\"] = scores[\"F\"]"
      ]
    },
    {
      "cell_type": "code",
      "execution_count": 35,
      "metadata": {
        "colab": {
          "base_uri": "https://localhost:8080/",
          "height": 511
        },
        "id": "TC4XCGYM-Z3J",
        "outputId": "61fac675-7c18-4611-ba41-b849aef2f06e"
      },
      "outputs": [
        {
          "data": {
            "image/png": "[encoded data removed]",
            "text/plain": [
              "<Figure size 720x576 with 1 Axes>"
            ]
          },
          "metadata": {
            "needs_background": "light"
          },
          "output_type": "display_data"
        }
      ],
      "source": [
        "plt.figure(figsize = (10, 8))\n",
        "sns.barplot(x=feature_imp_final, y=feature_imp_final.index)\n",
        "plt.xlabel('Feature Importance Scores')\n",
        "plt.ylabel('Features')\n",
        "plt.title(\"CatBoost Overall Feature Importance Scores\")\n",
        "plt.show()"
      ]
    },
    {
      "cell_type": "code",
      "execution_count": 36,
      "metadata": {
        "id": "SS3jV0f0vXeF"
      },
      "outputs": [],
      "source": [
        "# Feature-selection based on the feature importance scores obtained above\n",
        "acc_scores = {\"all\": [], \"S\": [], \"SF\": [], \"F\": []}\n",
        "selected_features = []\n",
        "Z = X.copy()\n",
        "\n",
        "catb_sel = CatBoostClassifier(depth=5, iterations=100, silent=True)\n",
        "\n",
        "for j in range(len(Z.columns)-1):\n",
        "\n",
        "    Z.drop(feature_imp_final.index[-(j+1)], axis=1, inplace=True)\n",
        "    selected_features.append(Z.columns.to_list())\n",
        "    scores = {\"all\": [], \"S\": [], \"SF\": [], \"F\": []}\n",
        "\n",
        "    for i in randomlist:\n",
        "        Z_train, Z_test, y_train, y_test = train_test_split(Z, y, test_size=0.2, random_state=i)\n",
        "        catb_sel.fit(Z_train, y_train)\n",
        "        y_pred_test = catb_sel.predict(Z_test)\n",
        "        scores[\"all\"].append(accuracy_score(y_test, y_pred_test))\n",
        "        scores[\"S\"].append(precision_score(y_test, y_pred_test, average=None)[0])\n",
        "        scores[\"SF\"].append(precision_score(y_test, y_pred_test, average=None)[1])\n",
        "        scores[\"F\"].append(precision_score(y_test, y_pred_test, average=None)[2])\n",
        "\n",
        "    acc_scores[\"all\"].append(np.mean(scores['all']))\n",
        "    acc_scores[\"S\"].append(np.mean(scores['S']))\n",
        "    acc_scores[\"SF\"].append(np.mean(scores['SF']))\n",
        "    acc_scores[\"F\"].append(np.mean(scores['F']))"
      ]
    },
    {
      "cell_type": "code",
      "execution_count": 37,
      "metadata": {
        "colab": {
          "base_uri": "https://localhost:8080/",
          "height": 0
        },
        "id": "gq79IU9Jvqqw",
        "outputId": "cb6a53e8-8593-4f4a-e7ab-c6b239480949"
      },
      "outputs": [
        {
          "name": "stdout",
          "output_type": "stream",
          "text": [
            "0.838735632183908\n",
            "0.8488505747126436\n",
            "0.8456321839080458\n",
            "0.8489655172413793\n",
            "0.8303448275862069\n",
            "0.8241379310344827\n",
            "0.8236781609195403\n",
            "0.8227586206896551\n",
            "0.7928735632183909\n",
            "0.7073563218390805\n"
          ]
        }
      ],
      "source": [
        "for i in acc_scores[\"all\"]:\n",
        "    print(i)"
      ]
    },
    {
      "cell_type": "code",
      "execution_count": 38,
      "metadata": {
        "colab": {
          "base_uri": "https://localhost:8080/",
          "height": 0
        },
        "id": "wqmZErv-C8k-",
        "outputId": "86bc0b68-3e00-4a6a-a649-8815c6268ca0"
      },
      "outputs": [
        {
          "name": "stdout",
          "output_type": "stream",
          "text": [
            "0.8739891651276198\n",
            "0.8830367438580349\n",
            "0.8763076911791944\n",
            "0.8868799407003242\n",
            "0.8830867747241995\n",
            "0.8667377767033397\n",
            "0.8722579402123786\n",
            "0.8594327887083777\n",
            "0.8421160254953725\n",
            "0.7941586459019107\n"
          ]
        }
      ],
      "source": [
        "for i in acc_scores[\"S\"]:\n",
        "    print(i)"
      ]
    },
    {
      "cell_type": "code",
      "execution_count": 39,
      "metadata": {
        "colab": {
          "base_uri": "https://localhost:8080/",
          "height": 0
        },
        "id": "uMeaTMclC-SD",
        "outputId": "9c838b08-94e4-454e-c61b-9d64226ca4fd"
      },
      "outputs": [
        {
          "name": "stdout",
          "output_type": "stream",
          "text": [
            "0.794258071536105\n",
            "0.8071738023053556\n",
            "0.8093605254866755\n",
            "0.8009334487348742\n",
            "0.7695497855842433\n",
            "0.7605121162191151\n",
            "0.7601547880420799\n",
            "0.7717773772314573\n",
            "0.7261800187859158\n",
            "0.699445772633029\n"
          ]
        }
      ],
      "source": [
        "for i in acc_scores[\"SF\"]:\n",
        "    print(i)"
      ]
    },
    {
      "cell_type": "code",
      "execution_count": 40,
      "metadata": {
        "colab": {
          "base_uri": "https://localhost:8080/",
          "height": 0
        },
        "id": "w1VAv2SnC-8a",
        "outputId": "b4e3024f-728c-4bf8-8caa-83d2d3b5786a"
      },
      "outputs": [
        {
          "name": "stdout",
          "output_type": "stream",
          "text": [
            "0.83993129823773\n",
            "0.8496866689620629\n",
            "0.842492562159003\n",
            "0.8504683240476142\n",
            "0.8244551902013412\n",
            "0.8344722393205406\n",
            "0.8254967660905073\n",
            "0.8274401277598509\n",
            "0.7943291252224911\n",
            "0.6258805448575759\n"
          ]
        }
      ],
      "source": [
        "for i in acc_scores[\"F\"]:\n",
        "    print(i)"
      ]
    },
    {
      "cell_type": "code",
      "execution_count": 42,
      "metadata": {
        "colab": {
          "base_uri": "https://localhost:8080/",
          "height": 0
        },
        "id": "-vG23PuKy-LR",
        "outputId": "aeafb572-e91c-49ae-9c37-d67089957f5e"
      },
      "outputs": [
        {
          "name": "stdout",
          "output_type": "stream",
          "text": [
            "Accuracy of the Best Case: 94.25%\n",
            "Confusion Matrix of the Best Case:\n",
            "[[33  0  0]\n",
            " [ 2 27  2]\n",
            " [ 0  1 22]]\n"
          ]
        }
      ],
      "source": [
        "X_train, X_test, y_train, y_test = train_test_split(X, y, test_size=0.2, random_state=5269)\n",
        "catb_tuned = CatBoostClassifier(depth=5, iterations=100, silent=True).fit(X_train, y_train)\n",
        "y_pred = catb_tuned.predict(X_test)\n",
        "acc_score = accuracy_score(y_test, y_pred)\n",
        "print('Accuracy of the Best Case: %.2f%%' % (acc_score * 100))\n",
        "print(f\"Confusion Matrix of the Best Case:\\n{confusion_matrix(y_test, y_pred)}\")"
      ]
    },
    {
      "cell_type": "code",
      "execution_count": 43,
      "metadata": {
        "colab": {
          "base_uri": "https://localhost:8080/",
          "height": 0
        },
        "id": "9nO-lRR51YUa",
        "outputId": "e6e119ab-c681-496e-8fa4-09dfb9a240a3"
      },
      "outputs": [
        {
          "name": "stdout",
          "output_type": "stream",
          "text": [
            "Accuracy of the Worst Case: 74.71%\n",
            "Confusion Matrix of the Worst Case:\n",
            "[[26  6  1]\n",
            " [ 6 20  5]\n",
            " [ 3  1 19]]\n"
          ]
        }
      ],
      "source": [
        "X_train, X_test, y_train, y_test = train_test_split(X, y, test_size=0.2, random_state=1381)\n",
        "catb_tuned = CatBoostClassifier(depth=5, iterations=100, silent=True).fit(X_train, y_train)\n",
        "y_pred = catb_tuned.predict(X_test)\n",
        "acc_score = accuracy_score(y_test, y_pred)\n",
        "print('Accuracy of the Worst Case: %.2f%%' % (acc_score * 100))\n",
        "print(f\"Confusion Matrix of the Worst Case:\\n{confusion_matrix(y_test, y_pred)}\")"
      ]
    },
    {
      "cell_type": "markdown",
      "metadata": {
        "id": "PZmhScFbrKEJ"
      },
      "source": [
        "## XGBoost"
      ]
    },
    {
      "cell_type": "code",
      "execution_count": 44,
      "metadata": {
        "colab": {
          "base_uri": "https://localhost:8080/",
          "height": 0
        },
        "id": "yA64-sjYZ2pv",
        "outputId": "f8fa5d12-8444-4973-bcea-5ddd76571cab"
      },
      "outputs": [
        {
          "name": "stdout",
          "output_type": "stream",
          "text": [
            "Average Training Accuracy Score: 0.9994\n",
            "Standard Deviation of Training Accuracy Scores: 0.0012\n",
            "Average Testing Accuracy Score: 0.8518\n",
            "Standard Deviation of Testing Accuracy Scores: 0.0347\n",
            "Average Precision of S Score: 0.8674\n",
            "Average Precision of SF Score: 0.8319\n",
            "Average Precision of F Score: 0.852\n",
            "Random state that gives the best accuracy: 7750\n",
            "Random state that gives the worst accuracy: 2985\n"
          ]
        }
      ],
      "source": [
        "# xgb parameters were obtained previously using gridsearch cv with 5 fold cross-validation\n",
        "xgb = XGBClassifier(verbosity=0, colsample_bytree=0.3, learning_rate=0.1, max_depth=6, n_estimators=100)\n",
        "scores = {\"training\": [], \"testing\": [], \"S\": [], \"SF\": [], \"F\": []}\n",
        "feature_imp_scores = pd.DataFrame()\n",
        "\n",
        "for i in randomlist:\n",
        "    X_train, X_test, y_train, y_test = train_test_split(X, y, test_size=0.20, random_state=i)\n",
        "    xgb.fit(X_train, y_train)\n",
        "    y_pred_train = xgb.predict(X_train)\n",
        "    y_pred_test = xgb.predict(X_test)\n",
        "    train_acc_score = accuracy_score(y_train, y_pred_train)\n",
        "    test_acc_score = accuracy_score(y_test, y_pred_test)\n",
        "    scores[\"training\"].append(train_acc_score)\n",
        "    scores[\"testing\"].append(test_acc_score)\n",
        "    scores[\"S\"].append(precision_score(y_test, y_pred_test, average=None)[0])\n",
        "    scores[\"SF\"].append(precision_score(y_test, y_pred_test, average=None)[1])\n",
        "    scores[\"F\"].append(precision_score(y_test, y_pred_test, average=None)[2])\n",
        "    feature_imp = pd.Series(xgb.feature_importances_, index=X_train.columns).sort_values(ascending=False)\n",
        "    feature_imp_scores = pd.concat([feature_imp_scores, feature_imp], axis=1) \n",
        "\n",
        "print(f\"Average Training Accuracy Score: {round(np.mean(scores['training']), 4)}\")\n",
        "print(f\"Standard Deviation of Training Accuracy Scores: {round(np.std(scores['training']), 4)}\")\n",
        "print(f\"Average Testing Accuracy Score: {round(np.mean(scores['testing']), 4)}\")\n",
        "print(f\"Standard Deviation of Testing Accuracy Scores: {round(np.std(scores['testing']), 4)}\")\n",
        "\n",
        "print(f\"Average Precision of S Score: {round(np.mean(scores['S']), 4)}\")\n",
        "print(f\"Average Precision of SF Score: {round(np.mean(scores['SF']), 4)}\")\n",
        "print(f\"Average Precision of F Score: {round(np.mean(scores['F']), 4)}\")\n",
        "\n",
        "print(\"Random state that gives the best accuracy:\", randomlist[np.argmax(scores[\"testing\"])])\n",
        "print(\"Random state that gives the worst accuracy:\", randomlist[np.argmin(scores[\"testing\"])])\n",
        "\n",
        "feature_imp_scores[\"std\"] = feature_imp_scores.std(axis=1)\n",
        "feature_imp_scores[\"mean\"] = feature_imp_scores.mean(axis=1)\n",
        "feature_imp_scores = feature_imp_scores.sort_values(by=[\"mean\"], ascending=False)\n",
        "feature_imp_final = pd.Series(feature_imp_scores[\"mean\"].values, feature_imp_scores.index).sort_values(ascending=False)"
      ]
    },
    {
      "cell_type": "code",
      "execution_count": 45,
      "metadata": {
        "id": "ylPasx-RaXwr"
      },
      "outputs": [],
      "source": [
        "df_scores_xgb = pd.DataFrame()\n",
        "df_scores_xgb[\"All\"] = scores[\"testing\"]\n",
        "df_scores_xgb[\"S\"] = scores[\"S\"]\n",
        "df_scores_xgb[\"SF\"] = scores[\"SF\"]\n",
        "df_scores_xgb[\"F\"] = scores[\"F\"]"
      ]
    },
    {
      "cell_type": "code",
      "execution_count": 46,
      "metadata": {
        "colab": {
          "base_uri": "https://localhost:8080/",
          "height": 511
        },
        "id": "am53hpBz2wd8",
        "outputId": "13f6b773-f5ac-4918-be31-396c9311b24c"
      },
      "outputs": [
        {
          "data": {
            "image/png": "[encoded data removed]",
            "text/plain": [
              "<Figure size 720x576 with 1 Axes>"
            ]
          },
          "metadata": {
            "needs_background": "light"
          },
          "output_type": "display_data"
        }
      ],
      "source": [
        "plt.figure(figsize = (10, 8))\n",
        "sns.barplot(x=feature_imp_final, y=feature_imp_final.index)\n",
        "plt.xlabel('Feature Importance Scores')\n",
        "plt.ylabel('Features')\n",
        "plt.title(\"XGBoost Overall Feature Importance Scores\")\n",
        "plt.show()"
      ]
    },
    {
      "cell_type": "code",
      "execution_count": 47,
      "metadata": {
        "id": "gagqCEKu2kJT"
      },
      "outputs": [],
      "source": [
        "# Feature-selection based on the feature importance scores obtained above\n",
        "acc_scores = {\"all\": [], \"S\": [], \"SF\": [], \"F\": []}\n",
        "selected_features = []\n",
        "Z = X.copy()\n",
        "\n",
        "xgb_sel = XGBClassifier(verbosity=0, colsample_bytree=0.3, learning_rate=0.1, max_depth=6, n_estimators=100)\n",
        "\n",
        "for j in range(len(Z.columns)-1):\n",
        "\n",
        "    Z.drop(feature_imp_final.index[-(j+1)], axis=1, inplace=True)\n",
        "    selected_features.append(Z.columns.to_list())\n",
        "    scores = {\"all\": [], \"S\": [], \"SF\": [], \"F\": []}\n",
        "\n",
        "    for i in randomlist:\n",
        "        Z_train, Z_test, y_train, y_test = train_test_split(Z, y, test_size=0.2, random_state=i)\n",
        "        xgb_sel.fit(Z_train, y_train)\n",
        "        y_pred_test = xgb_sel.predict(Z_test)\n",
        "        scores[\"all\"].append(accuracy_score(y_test, y_pred_test))\n",
        "        scores[\"S\"].append(precision_score(y_test, y_pred_test, average=None)[0])\n",
        "        scores[\"SF\"].append(precision_score(y_test, y_pred_test, average=None)[1])\n",
        "        scores[\"F\"].append(precision_score(y_test, y_pred_test, average=None)[2])\n",
        "\n",
        "    acc_scores[\"all\"].append(np.mean(scores['all']))\n",
        "    acc_scores[\"S\"].append(np.mean(scores['S']))\n",
        "    acc_scores[\"SF\"].append(np.mean(scores['SF']))\n",
        "    acc_scores[\"F\"].append(np.mean(scores['F']))"
      ]
    },
    {
      "cell_type": "code",
      "execution_count": 48,
      "metadata": {
        "colab": {
          "base_uri": "https://localhost:8080/",
          "height": 0
        },
        "id": "5PjRGDeX3iVr",
        "outputId": "51f05d9e-77cd-4bbf-8ace-7b0ac08ee3e6"
      },
      "outputs": [
        {
          "name": "stdout",
          "output_type": "stream",
          "text": [
            "0.837241379310345\n",
            "0.8373563218390805\n",
            "0.8382758620689655\n",
            "0.8350574712643677\n",
            "0.8194252873563219\n",
            "0.8165517241379311\n",
            "0.8118390804597702\n",
            "0.802528735632184\n",
            "0.7714942528735632\n",
            "0.7068965517241379\n"
          ]
        }
      ],
      "source": [
        "for i in acc_scores[\"all\"]:\n",
        "    print(i)"
      ]
    },
    {
      "cell_type": "code",
      "execution_count": 49,
      "metadata": {
        "colab": {
          "base_uri": "https://localhost:8080/",
          "height": 0
        },
        "id": "OBwI7nm3EIMQ",
        "outputId": "8769d22c-3d5d-4d28-f12a-067abfcd692a"
      },
      "outputs": [
        {
          "name": "stdout",
          "output_type": "stream",
          "text": [
            "0.8723299529582758\n",
            "0.862040129734956\n",
            "0.8687425502567753\n",
            "0.8814467827070607\n",
            "0.8635268806276993\n",
            "0.852437764502288\n",
            "0.8528498761159119\n",
            "0.8444890274888824\n",
            "0.830343795115866\n",
            "0.792895281322119\n"
          ]
        }
      ],
      "source": [
        "for i in acc_scores[\"S\"]:\n",
        "    print(i)"
      ]
    },
    {
      "cell_type": "code",
      "execution_count": 50,
      "metadata": {
        "colab": {
          "base_uri": "https://localhost:8080/",
          "height": 0
        },
        "id": "UJ3tSafTEJI7",
        "outputId": "8f5dbfe5-df8b-4c49-8a9d-9f9dfe413395"
      },
      "outputs": [
        {
          "name": "stdout",
          "output_type": "stream",
          "text": [
            "0.8043710039764969\n",
            "0.8196809606301447\n",
            "0.8095565358157494\n",
            "0.7920540476715007\n",
            "0.7618506041676533\n",
            "0.7766460391279528\n",
            "0.772189327354173\n",
            "0.7668178321903534\n",
            "0.7293857238113358\n",
            "0.6981185613246419\n"
          ]
        }
      ],
      "source": [
        "for i in acc_scores[\"SF\"]:\n",
        "    print(i)"
      ]
    },
    {
      "cell_type": "code",
      "execution_count": 51,
      "metadata": {
        "colab": {
          "base_uri": "https://localhost:8080/",
          "height": 0
        },
        "id": "hW576sWFEJvo",
        "outputId": "98a982a4-e03c-4124-be66-84e4c4796287"
      },
      "outputs": [
        {
          "name": "stdout",
          "output_type": "stream",
          "text": [
            "0.8249158640130417\n",
            "0.8234381175224046\n",
            "0.8266522387652082\n",
            "0.8181978035445558\n",
            "0.8219495469533332\n",
            "0.811667354363736\n",
            "0.8015154777459155\n",
            "0.7840374483759186\n",
            "0.7415355214992269\n",
            "0.6284277801644245\n"
          ]
        }
      ],
      "source": [
        "for i in acc_scores[\"F\"]:\n",
        "    print(i)"
      ]
    },
    {
      "cell_type": "markdown",
      "metadata": {
        "id": "m5B_JDvNtXfu"
      },
      "source": [
        "## SVM"
      ]
    },
    {
      "cell_type": "code",
      "execution_count": null,
      "metadata": {
        "id": "_IPsOUqvyJPq"
      },
      "outputs": [],
      "source": [
        "svm = SVC()\n",
        "\n",
        "svm_params = {\n",
        "    'C': [0.0001, 0.001, 0.1, 1, 5, 10, 50 ,100],\n",
        "    \"kernel\":['linear','poly','rbf','sigmoid'],\n",
        "    \"gamma\": [\"auto\", \"scale\"]\n",
        "}\n",
        "\n",
        "X_train, X_test, y_train, y_test = train_test_split(X_scaled, y, test_size=0.2)\n",
        "gs_cv = GridSearchCV(svm,\n",
        "                    svm_params,\n",
        "                    cv = 5, \n",
        "                    n_jobs = -1, \n",
        "                    verbose = 2 \n",
        "                    ).fit(X_train, y_train)\n",
        "print(f\"Best Params: {gs_cv.best_params_}\")\n",
        "svm_tuned = SVC(**gs_cv.best_params_).fit(X_train, y_train)\n",
        "y_pred = svm_tuned.predict(X_test)\n",
        "score = accuracy_score(y_test, y_pred)\n",
        "print(f\"Accuracy Score: {round(score, 4)}\")"
      ]
    },
    {
      "cell_type": "code",
      "execution_count": 57,
      "metadata": {
        "colab": {
          "base_uri": "https://localhost:8080/",
          "height": 0
        },
        "id": "b3I0wkKUymSl",
        "outputId": "b1ab0600-0f0d-4222-d231-3524505dcf61"
      },
      "outputs": [
        {
          "name": "stdout",
          "output_type": "stream",
          "text": [
            "Average Training Accuracy Score: 0.8288\n",
            "Standard Deviation of Training Accuracy Scores: 0.0096\n",
            "Average Testing Accuracy Score: 0.7626\n",
            "Standard Deviation of Testing Accuracy Scores: 0.0411\n",
            "Average Precision of S Score: 0.7885\n",
            "Average Precision of SF Score: 0.6922\n",
            "Average Precision of F Score: 0.7965\n",
            "Random state that gives the best accuracy: 9320\n",
            "Random state that gives the worst accuracy: 2985\n"
          ]
        }
      ],
      "source": [
        "svm = SVC(C=1, gamma=\"auto\", kernel=\"rbf\")\n",
        "scores = {\"training\": [], \"testing\": [], \"S\": [], \"SF\": [], \"F\": []}\n",
        "feature_imp_scores = pd.DataFrame()\n",
        "\n",
        "for i in randomlist:\n",
        "    X_train, X_test, y_train, y_test = train_test_split(X_scaled, y, test_size=0.20, random_state=i)\n",
        "    svm.fit(X_train, y_train)\n",
        "    y_pred_train = svm.predict(X_train)\n",
        "    y_pred_test = svm.predict(X_test)\n",
        "    train_acc_score = accuracy_score(y_train, y_pred_train)\n",
        "    test_acc_score = accuracy_score(y_test, y_pred_test)\n",
        "    scores[\"training\"].append(train_acc_score)\n",
        "    scores[\"testing\"].append(test_acc_score)\n",
        "    scores[\"S\"].append(precision_score(y_test, y_pred_test, average=None)[0])\n",
        "    scores[\"SF\"].append(precision_score(y_test, y_pred_test, average=None)[1])\n",
        "    scores[\"F\"].append(precision_score(y_test, y_pred_test, average=None)[2])\n",
        "\n",
        "print(f\"Average Training Accuracy Score: {round(np.mean(scores['training']), 4)}\")\n",
        "print(f\"Standard Deviation of Training Accuracy Scores: {round(np.std(scores['training']), 4)}\")\n",
        "print(f\"Average Testing Accuracy Score: {round(np.mean(scores['testing']), 4)}\")\n",
        "print(f\"Standard Deviation of Testing Accuracy Scores: {round(np.std(scores['testing']), 4)}\")\n",
        "\n",
        "print(f\"Average Precision of S Score: {round(np.mean(scores['S']), 4)}\")\n",
        "print(f\"Average Precision of SF Score: {round(np.mean(scores['SF']), 4)}\")\n",
        "print(f\"Average Precision of F Score: {round(np.mean(scores['F']), 4)}\")\n",
        "\n",
        "print(\"Random state that gives the best accuracy:\", randomlist[np.argmax(scores[\"testing\"])])\n",
        "print(\"Random state that gives the worst accuracy:\", randomlist[np.argmin(scores[\"testing\"])])"
      ]
    },
    {
      "cell_type": "code",
      "execution_count": 58,
      "metadata": {
        "id": "v5fDd-N8gmAo"
      },
      "outputs": [],
      "source": [
        "df_scores_svm = pd.DataFrame()\n",
        "df_scores_svm[\"All\"] = scores[\"testing\"]\n",
        "df_scores_svm[\"S\"] = scores[\"S\"]\n",
        "df_scores_svm[\"SF\"] = scores[\"SF\"]\n",
        "df_scores_svm[\"F\"] = scores[\"F\"]"
      ]
    },
    {
      "cell_type": "markdown",
      "metadata": {
        "id": "pwvlnFIrtaVu"
      },
      "source": [
        "## MLP"
      ]
    },
    {
      "cell_type": "code",
      "execution_count": null,
      "metadata": {
        "id": "vw-NTPBvzEbE"
      },
      "outputs": [],
      "source": [
        "mlp = MLPClassifier()\n",
        "\n",
        "mlp_params = {\"alpha\": [1, 0.1, 0.01, 0.001], # regularization parameter\n",
        "              \"hidden_layer_sizes\": [(5, 5),\n",
        "                                     (10, 10), \n",
        "                                     (10, 10, 10)],\n",
        "              \"solver\" : [\"lbfgs\",\"adam\",\"sgd\"], \n",
        "               # lbfgs: quasi-Newton metodu\n",
        "               # sgd: stochastic gradient descent\n",
        "               # adam: stochastic gradient-based optimizer proposed by Kingma, Diederik, and Jimmy Ba\n",
        "              \"activation\": [\"tanh\",\"logistic\", \"relu\"]}\n",
        "\n",
        "X_train, X_test, y_train, y_test = train_test_split(X_scaled, y, test_size=0.2)\n",
        "gs_cv = GridSearchCV(mlp,\n",
        "                     mlp_params,\n",
        "                     cv = 5, \n",
        "                     n_jobs = -1, # -1 means using all processors\n",
        "                     verbose = 2 \n",
        "                     ).fit(X_train, y_train)\n",
        "print(f\"Best params: {gs_cv.best_params_}\")\n",
        "mlp_tuned = MLPClassifier(**gs_cv.best_params_).fit(X_train, y_train)\n",
        "y_pred = mlp_tuned.predict(X_test)\n",
        "score = accuracy_score(y_test, y_pred)\n",
        "print(f\"Accuracy Score: {round(score, 4)}\")"
      ]
    },
    {
      "cell_type": "code",
      "execution_count": 59,
      "metadata": {
        "colab": {
          "base_uri": "https://localhost:8080/",
          "height": 0
        },
        "id": "M-Y2VL4pzWM3",
        "outputId": "c3c13f3a-1750-445a-a8f9-400191c1fa0c"
      },
      "outputs": [
        {
          "name": "stdout",
          "output_type": "stream",
          "text": [
            "Average Training Accuracy Score: 0.9997\n",
            "Standard Deviation of Training Accuracy Scores: 0.0012\n",
            "Average Testing Accuracy Score: 0.7823\n",
            "Standard Deviation of Testing Accuracy Scores: 0.0467\n",
            "Average Precision of S Score: 0.8627\n",
            "Average Precision of SF Score: 0.6974\n",
            "Average Precision of F Score: 0.7797\n",
            "Random state that gives the best accuracy: 2610\n",
            "Random state that gives the worst accuracy: 452\n"
          ]
        }
      ],
      "source": [
        "mlp = MLPClassifier(activation=\"tanh\", alpha=0.1, solver=\"lbfgs\", hidden_layer_sizes=(10,10))\n",
        "scores = {\"training\": [], \"testing\": [], \"S\": [], \"SF\": [], \"F\": []}\n",
        "feature_imp_scores = pd.DataFrame()\n",
        "\n",
        "for i in randomlist:\n",
        "    X_train, X_test, y_train, y_test = train_test_split(X_scaled, y, test_size=0.20, random_state=i)\n",
        "    mlp.fit(X_train, y_train)\n",
        "    y_pred_train = mlp.predict(X_train)\n",
        "    y_pred_test = mlp.predict(X_test)\n",
        "    train_acc_score = accuracy_score(y_train, y_pred_train)\n",
        "    test_acc_score = accuracy_score(y_test, y_pred_test)\n",
        "    scores[\"training\"].append(train_acc_score)\n",
        "    scores[\"testing\"].append(test_acc_score)\n",
        "    scores[\"S\"].append(precision_score(y_test, y_pred_test, average=None)[0])\n",
        "    scores[\"SF\"].append(precision_score(y_test, y_pred_test, average=None)[1])\n",
        "    scores[\"F\"].append(precision_score(y_test, y_pred_test, average=None)[2])\n",
        "\n",
        "print(f\"Average Training Accuracy Score: {round(np.mean(scores['training']), 4)}\")\n",
        "print(f\"Standard Deviation of Training Accuracy Scores: {round(np.std(scores['training']), 4)}\")\n",
        "print(f\"Average Testing Accuracy Score: {round(np.mean(scores['testing']), 4)}\")\n",
        "print(f\"Standard Deviation of Testing Accuracy Scores: {round(np.std(scores['testing']), 4)}\")\n",
        "\n",
        "print(f\"Average Precision of S Score: {round(np.mean(scores['S']), 4)}\")\n",
        "print(f\"Average Precision of SF Score: {round(np.mean(scores['SF']), 4)}\")\n",
        "print(f\"Average Precision of F Score: {round(np.mean(scores['F']), 4)}\")\n",
        "\n",
        "print(\"Random state that gives the best accuracy:\", randomlist[np.argmax(scores[\"testing\"])])\n",
        "print(\"Random state that gives the worst accuracy:\", randomlist[np.argmin(scores[\"testing\"])])"
      ]
    },
    {
      "cell_type": "code",
      "execution_count": 60,
      "metadata": {
        "id": "m2PPnTaPgmAp"
      },
      "outputs": [],
      "source": [
        "df_scores_mlp = pd.DataFrame()\n",
        "df_scores_mlp[\"All\"] = scores[\"testing\"]\n",
        "df_scores_mlp[\"S\"] = scores[\"S\"]\n",
        "df_scores_mlp[\"SF\"] = scores[\"SF\"]\n",
        "df_scores_mlp[\"F\"] = scores[\"F\"]"
      ]
    },
    {
      "cell_type": "markdown",
      "metadata": {
        "id": "87SLKpZTtdNo"
      },
      "source": [
        "## Random Forests"
      ]
    },
    {
      "cell_type": "code",
      "execution_count": null,
      "metadata": {
        "id": "F847AjlC1Pkf"
      },
      "outputs": [],
      "source": [
        "rf = RandomForestClassifier()\n",
        "\n",
        "rf_params = {\"max_depth\": [3, 6, 8, 10], \n",
        "            \"max_features\": [2, 5, 8], # The number of features to consider when looking for the best split\n",
        "            \"n_estimators\": [50, 100, 150, 200], \n",
        "            \"min_samples_split\": [2, 5, 8, 10]}  # The minimum number of samples required to split an internal node\n",
        "\n",
        "X_train, X_test, y_train, y_test = train_test_split(X, y, test_size=0.2)\n",
        "gs_cv = GridSearchCV(rf,\n",
        "                     rf_params,\n",
        "                     cv = 5, \n",
        "                     n_jobs = -1, # -1 means using all processors\n",
        "                     verbose = 2  # The higher, the more messages.\n",
        "                     ).fit(X_train, y_train)\n",
        "print(f\"Best params: {gs_cv.best_params_}\")\n",
        "rf_tuned = RandomForestClassifier(**gs_cv.best_params_).fit(X_train, y_train)\n",
        "y_pred = rf_tuned.predict(X_test)\n",
        "score = accuracy_score(y_test, y_pred)\n",
        "print(f\"Accuracy Score: {round(score, 4)}\")"
      ]
    },
    {
      "cell_type": "code",
      "execution_count": 61,
      "metadata": {
        "colab": {
          "base_uri": "https://localhost:8080/",
          "height": 0
        },
        "id": "7XaiUta31pqr",
        "outputId": "32e4d136-9cab-4e02-fa0d-7b4c3c93c310"
      },
      "outputs": [
        {
          "name": "stdout",
          "output_type": "stream",
          "text": [
            "Average Training Accuracy Score: 0.9996\n",
            "Standard Deviation of Training Accuracy Scores: 0.0011\n",
            "Average Testing Accuracy Score: 0.837\n",
            "Standard Deviation of Testing Accuracy Scores: 0.0355\n",
            "Average Precision of S Score: 0.8604\n",
            "Average Precision of SF Score: 0.8012\n",
            "Average Precision of F Score: 0.8451\n",
            "Random state that gives the best accuracy: 7750\n",
            "Random state that gives the worst accuracy: 2573\n"
          ]
        }
      ],
      "source": [
        "rf = RandomForestClassifier(max_depth=10, max_features=2, min_samples_split=2, n_estimators=100)\n",
        "scores = {\"training\": [], \"testing\": [], \"S\": [], \"SF\": [], \"F\": []}\n",
        "feature_imp_scores = pd.DataFrame()\n",
        "\n",
        "for i in randomlist:\n",
        "    X_train, X_test, y_train, y_test = train_test_split(X, y, test_size=0.20, random_state=i)\n",
        "    rf.fit(X_train, y_train)\n",
        "    y_pred_train = rf.predict(X_train)\n",
        "    y_pred_test = rf.predict(X_test)\n",
        "    train_acc_score = accuracy_score(y_train, y_pred_train)\n",
        "    test_acc_score = accuracy_score(y_test, y_pred_test)\n",
        "    scores[\"training\"].append(train_acc_score)\n",
        "    scores[\"testing\"].append(test_acc_score)\n",
        "    scores[\"S\"].append(precision_score(y_test, y_pred_test, average=None)[0])\n",
        "    scores[\"SF\"].append(precision_score(y_test, y_pred_test, average=None)[1])\n",
        "    scores[\"F\"].append(precision_score(y_test, y_pred_test, average=None)[2])\n",
        "    feature_imp = pd.Series(rf.feature_importances_, index=X_train.columns).sort_values(ascending=False)\n",
        "    feature_imp_scores = pd.concat([feature_imp_scores, feature_imp], axis=1) \n",
        "\n",
        "print(f\"Average Training Accuracy Score: {round(np.mean(scores['training']), 4)}\")\n",
        "print(f\"Standard Deviation of Training Accuracy Scores: {round(np.std(scores['training']), 4)}\")\n",
        "print(f\"Average Testing Accuracy Score: {round(np.mean(scores['testing']), 4)}\")\n",
        "print(f\"Standard Deviation of Testing Accuracy Scores: {round(np.std(scores['testing']), 4)}\")\n",
        "\n",
        "print(f\"Average Precision of S Score: {round(np.mean(scores['S']), 4)}\")\n",
        "print(f\"Average Precision of SF Score: {round(np.mean(scores['SF']), 4)}\")\n",
        "print(f\"Average Precision of F Score: {round(np.mean(scores['F']), 4)}\")\n",
        "\n",
        "print(\"Random state that gives the best accuracy:\", randomlist[np.argmax(scores[\"testing\"])])\n",
        "print(\"Random state that gives the worst accuracy:\", randomlist[np.argmin(scores[\"testing\"])])\n",
        "\n",
        "feature_imp_scores[\"std\"] = feature_imp_scores.std(axis=1)\n",
        "feature_imp_scores[\"mean\"] = feature_imp_scores.mean(axis=1)\n",
        "feature_imp_scores = feature_imp_scores.sort_values(by=[\"mean\"], ascending=False)\n",
        "feature_imp_final = pd.Series(feature_imp_scores[\"mean\"].values, feature_imp_scores.index).sort_values(ascending=False)"
      ]
    },
    {
      "cell_type": "code",
      "execution_count": 62,
      "metadata": {
        "id": "aYZp9BSrgmAp"
      },
      "outputs": [],
      "source": [
        "df_scores_rf = pd.DataFrame()\n",
        "df_scores_rf[\"All\"] = scores[\"testing\"]\n",
        "df_scores_rf[\"S\"] = scores[\"S\"]\n",
        "df_scores_rf[\"SF\"] = scores[\"SF\"]\n",
        "df_scores_rf[\"F\"] = scores[\"F\"]"
      ]
    },
    {
      "cell_type": "code",
      "execution_count": 63,
      "metadata": {
        "colab": {
          "base_uri": "https://localhost:8080/",
          "height": 511
        },
        "id": "Yk4SkvvSQamD",
        "outputId": "232ba65f-cc66-46e7-d663-6cb4df31f507"
      },
      "outputs": [
        {
          "data": {
            "image/png": "[encoded data removed]",
            "text/plain": [
              "<Figure size 720x576 with 1 Axes>"
            ]
          },
          "metadata": {
            "needs_background": "light"
          },
          "output_type": "display_data"
        }
      ],
      "source": [
        "plt.figure(figsize = (10, 8))\n",
        "sns.barplot(x=feature_imp_final, y=feature_imp_final.index)\n",
        "plt.xlabel('Feature Importance Scores')\n",
        "plt.ylabel('Features')\n",
        "plt.title(\"Random Forests Overall Feature Importance Scores\")\n",
        "plt.show()"
      ]
    },
    {
      "cell_type": "code",
      "execution_count": 64,
      "metadata": {
        "id": "BtZyAPU58xK-"
      },
      "outputs": [],
      "source": [
        "# Feature-selection based on the feature importance scores obtained above\n",
        "acc_scores = {\"all\": [], \"S\": [], \"SF\": [], \"F\": []}\n",
        "selected_features = []\n",
        "Z = X.copy()\n",
        "\n",
        "rf_sel = RandomForestClassifier(max_depth=10, min_samples_split=2, n_estimators=100)\n",
        "\n",
        "for j in range(len(Z.columns)-1):\n",
        "\n",
        "    Z.drop(feature_imp_final.index[-(j+1)], axis=1, inplace=True)\n",
        "    selected_features.append(Z.columns.to_list())\n",
        "    scores = {\"all\": [], \"S\": [], \"SF\": [], \"F\": []}\n",
        "\n",
        "    for i in randomlist:\n",
        "        Z_train, Z_test, y_train, y_test = train_test_split(Z, y, test_size=0.2, random_state=i)\n",
        "        rf_sel.fit(Z_train, y_train)\n",
        "        y_pred_test = rf_sel.predict(Z_test)\n",
        "        scores[\"all\"].append(accuracy_score(y_test, y_pred_test))\n",
        "        scores[\"S\"].append(precision_score(y_test, y_pred_test, average=None)[0])\n",
        "        scores[\"SF\"].append(precision_score(y_test, y_pred_test, average=None)[1])\n",
        "        scores[\"F\"].append(precision_score(y_test, y_pred_test, average=None)[2])\n",
        "\n",
        "    acc_scores[\"all\"].append(np.mean(scores['all']))\n",
        "    acc_scores[\"S\"].append(np.mean(scores['S']))\n",
        "    acc_scores[\"SF\"].append(np.mean(scores['SF']))\n",
        "    acc_scores[\"F\"].append(np.mean(scores['F']))"
      ]
    },
    {
      "cell_type": "code",
      "execution_count": 65,
      "metadata": {
        "colab": {
          "base_uri": "https://localhost:8080/",
          "height": 0
        },
        "id": "eUwm8KDGAqrh",
        "outputId": "c3694a8b-3a70-4803-8510-175419dd4466"
      },
      "outputs": [
        {
          "name": "stdout",
          "output_type": "stream",
          "text": [
            "0.8348275862068966\n",
            "0.8160919540229883\n",
            "0.8232183908045977\n",
            "0.8134482758620689\n",
            "0.8113793103448278\n",
            "0.8118390804597702\n",
            "0.8112643678160919\n",
            "0.8190804597701148\n",
            "0.806551724137931\n",
            "0.7019540229885056\n"
          ]
        }
      ],
      "source": [
        "for i in acc_scores[\"all\"]:\n",
        "    print(i)"
      ]
    },
    {
      "cell_type": "code",
      "execution_count": 67,
      "metadata": {
        "colab": {
          "base_uri": "https://localhost:8080/",
          "height": 0
        },
        "id": "GAR8TuFYCDXG",
        "outputId": "c215caba-564d-453f-f181-8502398db501"
      },
      "outputs": [
        {
          "name": "stdout",
          "output_type": "stream",
          "text": [
            "0.8615981461710338\n",
            "0.8596923558358776\n",
            "0.8568904965036853\n",
            "0.8415518935327263\n",
            "0.840637784324155\n",
            "0.8523430479453077\n",
            "0.8555110819869882\n",
            "0.8642659457251715\n",
            "0.8449043173030552\n",
            "0.7890303087562006\n"
          ]
        }
      ],
      "source": [
        "for i in acc_scores[\"S\"]:\n",
        "    print(i)"
      ]
    },
    {
      "cell_type": "code",
      "execution_count": 68,
      "metadata": {
        "colab": {
          "base_uri": "https://localhost:8080/",
          "height": 0
        },
        "id": "qdEaTnyXFgBC",
        "outputId": "7983d18e-b83f-4e25-dd63-6f1f9305b23b"
      },
      "outputs": [
        {
          "name": "stdout",
          "output_type": "stream",
          "text": [
            "0.7917500892720193\n",
            "0.7524362893296669\n",
            "0.7700626799021398\n",
            "0.7618918027892185\n",
            "0.7520668294910291\n",
            "0.7442610854311361\n",
            "0.7551300180718524\n",
            "0.7655954394681558\n",
            "0.7794022826732633\n",
            "0.6995191938636198\n"
          ]
        }
      ],
      "source": [
        "for i in acc_scores[\"SF\"]:\n",
        "    print(i)"
      ]
    },
    {
      "cell_type": "code",
      "execution_count": 69,
      "metadata": {
        "colab": {
          "base_uri": "https://localhost:8080/",
          "height": 0
        },
        "id": "WiN7ful8Fgip",
        "outputId": "5a1b8bc9-1ef7-45c3-9f5f-0b1d98dd778c"
      },
      "outputs": [
        {
          "name": "stdout",
          "output_type": "stream",
          "text": [
            "0.8467064218108098\n",
            "0.8290390601521406\n",
            "0.8329889921944287\n",
            "0.8276394676160234\n",
            "0.8325914216767485\n",
            "0.8284618283347313\n",
            "0.8093726666774065\n",
            "0.8130242833671931\n",
            "0.7846593395218585\n",
            "0.6150901738906199\n"
          ]
        }
      ],
      "source": [
        "for i in acc_scores[\"F\"]:\n",
        "    print(i)"
      ]
    },
    {
      "cell_type": "markdown",
      "metadata": {
        "id": "vhUUcXwAtid4"
      },
      "source": [
        "## Logistic Regression"
      ]
    },
    {
      "cell_type": "code",
      "execution_count": null,
      "metadata": {
        "id": "TjnGTLAO2mag"
      },
      "outputs": [],
      "source": [
        "lr = LogisticRegression()\n",
        "\n",
        "lr_params = {'C': [0.0001, 0.001, 0.01, 0.1, 1, 10, 100],\n",
        "            'fit_intercept': [True, False],\n",
        "            'solver': ['newton-cg', 'lbfgs', 'liblinear', 'sag', 'saga'],\n",
        "            \"penalty\": [\"l1\", \"l2\", \"elasticnet\", \"none\"]\n",
        "            }\n",
        "\n",
        "X_train, X_test, y_train, y_test = train_test_split(X_scaled, y, test_size=0.2)\n",
        "gs_cv = GridSearchCV(lr,\n",
        "                     lr_params,\n",
        "                     cv = 5, \n",
        "                     n_jobs = -1,\n",
        "                     verbose = 2  \n",
        "                     ).fit(X_train, y_train)\n",
        "print(f\"Best params: {gs_cv.best_params_}\")   \n",
        "lr_tuned = LogisticRegression(**gs_cv.best_params_).fit(X_train, y_train)\n",
        "y_pred = lr_tuned.predict(X_test)\n",
        "score = accuracy_score(y_test, y_pred)\n",
        "print(f\"Accuracy Score: {round(score, 4)}\")"
      ]
    },
    {
      "cell_type": "code",
      "execution_count": 70,
      "metadata": {
        "colab": {
          "base_uri": "https://localhost:8080/",
          "height": 0
        },
        "id": "QhKvJsYz3c4t",
        "outputId": "1f1abcf3-9515-44d8-dc46-30348e56aeb5"
      },
      "outputs": [
        {
          "name": "stdout",
          "output_type": "stream",
          "text": [
            "Average Training Accuracy Score: 0.7321\n",
            "Standard Deviation of Training Accuracy Scores: 0.0151\n",
            "Average Testing Accuracy Score: 0.6946\n",
            "Standard Deviation of Testing Accuracy Scores: 0.0476\n",
            "Average Precision of S Score: 0.7769\n",
            "Average Precision of SF Score: 0.5713\n",
            "Average Precision of F Score: 0.6983\n",
            "Random state that gives the best accuracy: 5909\n",
            "Random state that gives the worst accuracy: 682\n"
          ]
        }
      ],
      "source": [
        "lr = LogisticRegression(C=0.001, penalty=\"none\", solver=\"newton-cg\")\n",
        "scores = {\"training\": [], \"testing\": [], \"S\": [], \"SF\": [], \"F\": []}\n",
        "feature_imp_scores = pd.DataFrame()\n",
        "\n",
        "for i in randomlist:\n",
        "    X_train, X_test, y_train, y_test = train_test_split(X_scaled, y, test_size=0.20, random_state=i)\n",
        "    lr.fit(X_train, y_train)\n",
        "    y_pred_train = lr.predict(X_train)\n",
        "    y_pred_test = lr.predict(X_test)\n",
        "    train_acc_score = accuracy_score(y_train, y_pred_train)\n",
        "    test_acc_score = accuracy_score(y_test, y_pred_test)\n",
        "    scores[\"training\"].append(train_acc_score)\n",
        "    scores[\"testing\"].append(test_acc_score)\n",
        "    scores[\"S\"].append(precision_score(y_test, y_pred_test, average=None)[0])\n",
        "    scores[\"SF\"].append(precision_score(y_test, y_pred_test, average=None)[1])\n",
        "    scores[\"F\"].append(precision_score(y_test, y_pred_test, average=None)[2])\n",
        "\n",
        "print(f\"Average Training Accuracy Score: {round(np.mean(scores['training']), 4)}\")\n",
        "print(f\"Standard Deviation of Training Accuracy Scores: {round(np.std(scores['training']), 4)}\")\n",
        "print(f\"Average Testing Accuracy Score: {round(np.mean(scores['testing']), 4)}\")\n",
        "print(f\"Standard Deviation of Testing Accuracy Scores: {round(np.std(scores['testing']), 4)}\")\n",
        "\n",
        "print(f\"Average Precision of S Score: {round(np.mean(scores['S']), 4)}\")\n",
        "print(f\"Average Precision of SF Score: {round(np.mean(scores['SF']), 4)}\")\n",
        "print(f\"Average Precision of F Score: {round(np.mean(scores['F']), 4)}\")\n",
        "\n",
        "print(\"Random state that gives the best accuracy:\", randomlist[np.argmax(scores[\"testing\"])])\n",
        "print(\"Random state that gives the worst accuracy:\", randomlist[np.argmin(scores[\"testing\"])])"
      ]
    },
    {
      "cell_type": "code",
      "execution_count": 71,
      "metadata": {
        "id": "cJY3Zy-gQcAJ"
      },
      "outputs": [],
      "source": [
        "df_scores_lr = pd.DataFrame()\n",
        "df_scores_lr[\"All\"] = scores[\"testing\"]\n",
        "df_scores_lr[\"S\"] = scores[\"S\"]\n",
        "df_scores_lr[\"SF\"] = scores[\"SF\"]\n",
        "df_scores_lr[\"F\"] = scores[\"F\"]"
      ]
    },
    {
      "cell_type": "markdown",
      "metadata": {
        "id": "m7IL_kXcq6iG"
      },
      "source": [
        "## Overall Evaluation"
      ]
    },
    {
      "cell_type": "code",
      "execution_count": 73,
      "metadata": {
        "colab": {
          "base_uri": "https://localhost:8080/",
          "height": 855
        },
        "id": "aqLyo2S1Emio",
        "outputId": "12fd424e-55cd-42d4-f90d-c2098ad4146e"
      },
      "outputs": [
        {
          "data": {
            "image/png": "[encoded data removed]",
            "text/plain": [
              "<Figure size 864x864 with 4 Axes>"
            ]
          },
          "metadata": {
            "needs_background": "light"
          },
          "output_type": "display_data"
        }
      ],
      "source": [
        "all_dict = {'LR': df_scores_lr[\"All\"].values, 'RF': df_scores_rf[\"All\"].values,\n",
        "           'MLP': df_scores_mlp[\"All\"].values, 'SVM': df_scores_svm[\"All\"].values,\n",
        "           'XGBoost': df_scores_xgb[\"All\"].values, 'LightGBM': df_scores_lgbm[\"All\"].values,\n",
        "           'CatBoost': df_scores_catb[\"All\"].values,\n",
        "           }\n",
        "\n",
        "s_dict = {'LR': df_scores_lr[\"S\"].values, 'RF': df_scores_rf[\"S\"].values,\n",
        "           'MLP': df_scores_mlp[\"S\"].values, 'SVM': df_scores_svm[\"S\"].values,\n",
        "           'XGBoost': df_scores_xgb[\"S\"].values, 'LightGBM': df_scores_lgbm[\"S\"].values,\n",
        "           'CatBoost': df_scores_catb[\"S\"].values,\n",
        "           }\n",
        "\n",
        "sf_dict = {'LR': df_scores_lr[\"SF\"].values, 'RF': df_scores_rf[\"SF\"].values,\n",
        "           'MLP': df_scores_mlp[\"SF\"].values, 'SVM': df_scores_svm[\"SF\"].values,\n",
        "           'XGBoost': df_scores_xgb[\"SF\"].values, 'LightGBM': df_scores_lgbm[\"SF\"].values,\n",
        "           'CatBoost': df_scores_catb[\"SF\"].values,\n",
        "           }\n",
        "\n",
        "f_dict = {'LR': df_scores_lr[\"F\"].values, 'RF': df_scores_rf[\"F\"].values,\n",
        "           'MLP': df_scores_mlp[\"F\"].values, 'SVM': df_scores_svm[\"F\"].values,\n",
        "           'XGBoost': df_scores_xgb[\"F\"].values, 'LightGBM': df_scores_lgbm[\"F\"].values,\n",
        "           'CatBoost': df_scores_catb[\"F\"].values,\n",
        "           }\n",
        "\n",
        "fig, axs = plt.subplots(2, 2, figsize=(12, 12))\n",
        "\n",
        "colours = [\"lightgray\", \"gray\", \"lightblue\", \"pink\", \"red\", \"magenta\", \"green\"]\n",
        "\n",
        "axs[0, 0].set_title(\"All Classes\")\n",
        "bplot1 = axs[0, 0].boxplot(all_dict.values(), patch_artist=True)\n",
        "axs[0, 0].set_xticklabels(all_dict.keys())\n",
        "axs[0, 0].set_ylabel(\"Accuracy\")\n",
        "axs[0, 0].set_ylim([0.3, 1.05])\n",
        "axs[0, 0].grid(which=\"minor\", linewidth=0.75)\n",
        "axs[0, 0].grid(which=\"major\", linewidth=2)\n",
        "axs[0, 0].minorticks_on()\n",
        "for patch, color in zip(bplot1['boxes'], colours):\n",
        "    patch.set_facecolor(color)\n",
        "\n",
        "axs[0, 1].set_title(\"S Class\")\n",
        "bplot2 = axs[0, 1].boxplot(s_dict.values(), patch_artist=True)\n",
        "axs[0, 1].set_xticklabels(s_dict.keys())\n",
        "axs[0, 1].set_ylabel(\"Accuracy\")\n",
        "axs[0, 1].set_ylim([0.3, 1.05])\n",
        "axs[0, 1].grid(which=\"minor\", linewidth=0.75)\n",
        "axs[0, 1].grid(which=\"major\", linewidth=2)\n",
        "axs[0, 1].minorticks_on()\n",
        "for patch, color in zip(bplot2['boxes'], colours):\n",
        "    patch.set_facecolor(color)\n",
        "\n",
        "axs[1, 0].set_title(\"SF Class\")\n",
        "bplot3 = axs[1, 0].boxplot(sf_dict.values(), patch_artist=True)\n",
        "axs[1, 0].set_xticklabels(sf_dict.keys())\n",
        "axs[1, 0].set_ylabel(\"Accuracy\")\n",
        "axs[1, 0].set_ylim([0.3, 1.05])\n",
        "axs[1, 0].grid(which=\"minor\", linewidth=0.75)\n",
        "axs[1, 0].grid(which=\"major\", linewidth=2)\n",
        "axs[1, 0].minorticks_on()\n",
        "for patch, color in zip(bplot3['boxes'], colours):\n",
        "    patch.set_facecolor(color)\n",
        "\n",
        "axs[1, 1].set_title(\"F Class\")\n",
        "bplot4 = axs[1, 1].boxplot(f_dict.values(), patch_artist=True)\n",
        "axs[1, 1].set_xticklabels(f_dict.keys())\n",
        "axs[1, 1].set_ylabel(\"Accuracy\")\n",
        "axs[1, 1].set_ylim([0.3, 1.05])\n",
        "axs[1, 1].grid(which=\"minor\", linewidth=0.75)\n",
        "axs[1, 1].grid(which=\"major\", linewidth=2)\n",
        "axs[1, 1].minorticks_on()\n",
        "for patch, color in zip(bplot4['boxes'], colours):\n",
        "    patch.set_facecolor(color)\n",
        "\n",
        "plt.tight_layout(pad=2)\n",
        "\n",
        "plt.show()"
      ]
    },
    {
      "cell_type": "markdown",
      "metadata": {
        "id": "Lo3LKmH7q_hg"
      },
      "source": [
        "## McNemar Test for Boosting Models and RF"
      ]
    },
    {
      "cell_type": "code",
      "execution_count": null,
      "metadata": {
        "id": "sgawdwqYrAcn"
      },
      "outputs": [],
      "source": [
        "lgb = LGBMClassifier(n_estimators=100, num_leaves=8, subsample=0.7, max_depth=6)\n",
        "catb = CatBoostClassifier(depth=5, iterations=200, silent=True)\n",
        "xgb = XGBClassifier(verbosity=0, colsample_bytree=0.3, learning_rate=0.1, max_depth=6, n_estimators=100)\n",
        "rf = RandomForestClassifier(max_depth=10, max_features=2, min_samples_split=2, n_estimators=100)\n",
        "\n",
        "lgb_preds = np.empty([0])\n",
        "catb_preds = np.empty([0])\n",
        "xgb_preds = np.empty([0])\n",
        "rf_preds = np.empty([0])\n",
        "\n",
        "\n",
        "for i in randomlist:\n",
        "    X_train, X_test, y_train, y_test = train_test_split(X, y, test_size=0.20, random_state=i)\n",
        "\n",
        "    lgb.fit(X_train, y_train)\n",
        "    catb.fit(X_train, y_train)\n",
        "    xgb.fit(X_train, y_train)\n",
        "    rf.fit(X_train, y_train)\n",
        "    \n",
        "    y_pred_lgb = lgb.predict(X_test)\n",
        "    y_pred_catb = catb.predict(X_test)\n",
        "    y_pred_xgb = xgb.predict(X_test)\n",
        "    y_pred_rf = rf.predict(X_test)\n",
        "\n",
        "    lgb_preds = np.concatenate((lgb_preds, (y_pred_lgb==y_test).values), axis=0)\n",
        "    catb_preds= np.concatenate((catb_preds, (y_pred_catb.T[0]==y_test).values), axis=0)\n",
        "    xgb_preds = np.concatenate((xgb_preds, (y_pred_xgb==y_test).values), axis=0)\n",
        "    rf_preds = np.concatenate((rf_preds, (y_pred_rf==y_test).values), axis=0)"
      ]
    },
    {
      "cell_type": "code",
      "execution_count": null,
      "metadata": {
        "colab": {
          "base_uri": "https://localhost:8080/"
        },
        "id": "csWxKlzivfSL",
        "outputId": "f2ab9b42-d627-4468-862d-7fc5380c0d26"
      },
      "outputs": [
        {
          "data": {
            "text/plain": [
              "array([[1101,  291],\n",
              "       [ 224, 7084]])"
            ]
          },
          "execution_count": 156,
          "metadata": {},
          "output_type": "execute_result"
        }
      ],
      "source": [
        "confusion_matrix(lgb_preds, catb_preds)"
      ]
    },
    {
      "cell_type": "code",
      "execution_count": null,
      "metadata": {
        "colab": {
          "base_uri": "https://localhost:8080/"
        },
        "id": "t-V9_vf92O7X",
        "outputId": "ba4a2ce6-bb99-44cf-806e-d7334382ae90"
      },
      "outputs": [
        {
          "name": "stdout",
          "output_type": "stream",
          "text": [
            "Null hypothesis rejected\n",
            "There is significant difference - p value : 0.003153420127748996\n"
          ]
        }
      ],
      "source": [
        "cm = confusion_matrix(lgb_preds, catb_preds)\n",
        "# McNemars Statistic \n",
        "MCStatistic = ((cm[0,1] - cm[1,0])**2 )/ (cm[0,1] + cm[1,0])\n",
        "\n",
        "# Degree of freedom (n-1)*(k-1)\n",
        "degreOfFreedom = (len(cm[0])-1) * (len(cm[1])-1)\n",
        "\n",
        "# Obtain p-value from Chi-Sqaure Distribution\n",
        "r1 = 1- stats.chi2.cdf(MCStatistic , degreOfFreedom)\n",
        "r2 = stats.distributions.chi2.sf(MCStatistic , degreOfFreedom)\n",
        "\n",
        "if r1 > 0.05:\n",
        "    print('Null hypothesis can not be rejected')\n",
        "    print('There is not significant difference - p value :' , r1)\n",
        "else:\n",
        "    print('Null hypothesis rejected')\n",
        "    print('There is significant difference - p value :' , r1)"
      ]
    },
    {
      "cell_type": "code",
      "execution_count": null,
      "metadata": {
        "colab": {
          "base_uri": "https://localhost:8080/"
        },
        "id": "WXj8F60tl9T2",
        "outputId": "bd981db8-5aea-4bc8-ae5a-74c9c62f1ed2"
      },
      "outputs": [
        {
          "data": {
            "text/plain": [
              "array([[1051,  341],\n",
              "       [ 238, 7070]])"
            ]
          },
          "execution_count": 158,
          "metadata": {},
          "output_type": "execute_result"
        }
      ],
      "source": [
        "confusion_matrix(lgb_preds, xgb_preds)"
      ]
    },
    {
      "cell_type": "code",
      "execution_count": null,
      "metadata": {
        "colab": {
          "base_uri": "https://localhost:8080/"
        },
        "id": "KQEI7wDZ2jKc",
        "outputId": "50ff550d-edf5-4fea-d632-33e0885c5d89"
      },
      "outputs": [
        {
          "name": "stdout",
          "output_type": "stream",
          "text": [
            "Null hypothesis rejected\n",
            "There is significant difference - p value : 1.8644546609491996e-05\n"
          ]
        }
      ],
      "source": [
        "cm = confusion_matrix(lgb_preds, xgb_preds)\n",
        "# McNemars Statistic \n",
        "MCStatistic = ((cm[0,1] - cm[1,0])**2 )/ (cm[0,1] + cm[1,0])\n",
        "\n",
        "# Degree of freedom (n-1)*(k-1)\n",
        "degreOfFreedom = (len(cm[0])-1) * (len(cm[1])-1)\n",
        "\n",
        "# Obtain p-value from Chi-Sqaure Distribution\n",
        "r1 = 1- stats.chi2.cdf(MCStatistic , degreOfFreedom)\n",
        "r2 = stats.distributions.chi2.sf(MCStatistic , degreOfFreedom)\n",
        "\n",
        "if r1 > 0.05:\n",
        "    print('Null hypothesis can not be rejected')\n",
        "    print('There is not significant difference - p value :' , r1)\n",
        "else:\n",
        "    print('Null hypothesis rejected')\n",
        "    print('There is significant difference - p value :' , r1)"
      ]
    },
    {
      "cell_type": "code",
      "execution_count": null,
      "metadata": {
        "colab": {
          "base_uri": "https://localhost:8080/"
        },
        "id": "S1-PObhGmKj0",
        "outputId": "3d719af1-87e0-490b-849f-3d5db6f8d707"
      },
      "outputs": [
        {
          "data": {
            "text/plain": [
              "array([[1102,  290],\n",
              "       [ 300, 7008]])"
            ]
          },
          "execution_count": 160,
          "metadata": {},
          "output_type": "execute_result"
        }
      ],
      "source": [
        "confusion_matrix(lgb_preds, rf_preds)"
      ]
    },
    {
      "cell_type": "code",
      "execution_count": null,
      "metadata": {
        "colab": {
          "base_uri": "https://localhost:8080/"
        },
        "id": "54-9yyTb2uy2",
        "outputId": "30d1365e-669f-4e2b-943c-90f930ea4195"
      },
      "outputs": [
        {
          "name": "stdout",
          "output_type": "stream",
          "text": [
            "Null hypothesis can not be rejected\n",
            "There is not significant difference - p value : 0.6805641009753117\n"
          ]
        }
      ],
      "source": [
        "cm = confusion_matrix(lgb_preds, rf_preds)\n",
        "# McNemars Statistic \n",
        "MCStatistic = ((cm[0,1] - cm[1,0])**2 )/ (cm[0,1] + cm[1,0])\n",
        "\n",
        "# Degree of freedom (n-1)*(k-1)\n",
        "degreOfFreedom = (len(cm[0])-1) * (len(cm[1])-1)\n",
        "\n",
        "# Obtain p-value from Chi-Sqaure Distribution\n",
        "r1 = 1- stats.chi2.cdf(MCStatistic , degreOfFreedom)\n",
        "r2 = stats.distributions.chi2.sf(MCStatistic , degreOfFreedom)\n",
        "\n",
        "if r1 > 0.05:\n",
        "    print('Null hypothesis can not be rejected')\n",
        "    print('There is not significant difference - p value :' , r1)\n",
        "else:\n",
        "    print('Null hypothesis rejected')\n",
        "    print('There is significant difference - p value :' , r1)"
      ]
    },
    {
      "cell_type": "code",
      "execution_count": null,
      "metadata": {
        "colab": {
          "base_uri": "https://localhost:8080/"
        },
        "id": "3FuuwRtimVf2",
        "outputId": "6c82ca19-a131-43db-b44d-69e0d68fe289"
      },
      "outputs": [
        {
          "data": {
            "text/plain": [
              "array([[1058,  231],\n",
              "       [ 267, 7144]])"
            ]
          },
          "execution_count": 162,
          "metadata": {},
          "output_type": "execute_result"
        }
      ],
      "source": [
        "confusion_matrix(xgb_preds, catb_preds)"
      ]
    },
    {
      "cell_type": "code",
      "execution_count": null,
      "metadata": {
        "colab": {
          "base_uri": "https://localhost:8080/"
        },
        "id": "x3KDmW3C22oV",
        "outputId": "06ef3888-50e9-4853-ab41-2a225a495699"
      },
      "outputs": [
        {
          "name": "stdout",
          "output_type": "stream",
          "text": [
            "Null hypothesis can not be rejected\n",
            "There is not significant difference - p value : 0.10670137321371764\n"
          ]
        }
      ],
      "source": [
        "cm = confusion_matrix(xgb_preds, catb_preds)\n",
        "# McNemars Statistic \n",
        "MCStatistic = ((cm[0,1] - cm[1,0])**2 )/ (cm[0,1] + cm[1,0])\n",
        "\n",
        "# Degree of freedom (n-1)*(k-1)\n",
        "degreOfFreedom = (len(cm[0])-1) * (len(cm[1])-1)\n",
        "\n",
        "# Obtain p-value from Chi-Sqaure Distribution\n",
        "r1 = 1- stats.chi2.cdf(MCStatistic , degreOfFreedom)\n",
        "r2 = stats.distributions.chi2.sf(MCStatistic , degreOfFreedom)\n",
        "\n",
        "if r1 > 0.05:\n",
        "    print('Null hypothesis can not be rejected')\n",
        "    print('There is not significant difference - p value :' , r1)\n",
        "else:\n",
        "    print('Null hypothesis rejected')\n",
        "    print('There is significant difference - p value :' , r1)"
      ]
    },
    {
      "cell_type": "code",
      "execution_count": null,
      "metadata": {
        "colab": {
          "base_uri": "https://localhost:8080/"
        },
        "id": "kynmz1M2mgBc",
        "outputId": "a6452e02-9be8-43dc-c34b-5d9e77243915"
      },
      "outputs": [
        {
          "data": {
            "text/plain": [
              "array([[1134,  155],\n",
              "       [ 268, 7143]])"
            ]
          },
          "execution_count": 164,
          "metadata": {},
          "output_type": "execute_result"
        }
      ],
      "source": [
        "confusion_matrix(xgb_preds, rf_preds)"
      ]
    },
    {
      "cell_type": "code",
      "execution_count": null,
      "metadata": {
        "colab": {
          "base_uri": "https://localhost:8080/"
        },
        "id": "NfzLz2r93FaR",
        "outputId": "65ced941-4364-40c7-91c4-6455ad79fba5"
      },
      "outputs": [
        {
          "name": "stdout",
          "output_type": "stream",
          "text": [
            "Null hypothesis rejected\n",
            "There is significant difference - p value : 3.923787428306014e-08\n"
          ]
        }
      ],
      "source": [
        "cm = confusion_matrix(xgb_preds, rf_preds)\n",
        "# McNemars Statistic \n",
        "MCStatistic = ((cm[0,1] - cm[1,0])**2 )/ (cm[0,1] + cm[1,0])\n",
        "\n",
        "# Degree of freedom (n-1)*(k-1)\n",
        "degreOfFreedom = (len(cm[0])-1) * (len(cm[1])-1)\n",
        "\n",
        "# Obtain p-value from Chi-Sqaure Distribution\n",
        "r1 = 1- stats.chi2.cdf(MCStatistic , degreOfFreedom)\n",
        "r2 = stats.distributions.chi2.sf(MCStatistic , degreOfFreedom)\n",
        "\n",
        "if r1 > 0.05:\n",
        "    print('Null hypothesis can not be rejected')\n",
        "    print('There is not significant difference - p value :' , r1)\n",
        "else:\n",
        "    print('Null hypothesis rejected')\n",
        "    print('There is significant difference - p value :' , r1)"
      ]
    },
    {
      "cell_type": "code",
      "execution_count": null,
      "metadata": {
        "colab": {
          "base_uri": "https://localhost:8080/"
        },
        "id": "nlXYkMq3mpSg",
        "outputId": "75668339-25e6-465e-d4f9-31ae05bb34a2"
      },
      "outputs": [
        {
          "data": {
            "text/plain": [
              "array([[1131,  194],\n",
              "       [ 271, 7104]])"
            ]
          },
          "execution_count": 166,
          "metadata": {},
          "output_type": "execute_result"
        }
      ],
      "source": [
        "confusion_matrix(catb_preds, rf_preds)"
      ]
    },
    {
      "cell_type": "code",
      "execution_count": null,
      "metadata": {
        "colab": {
          "base_uri": "https://localhost:8080/"
        },
        "id": "yBO3dfKb3JyW",
        "outputId": "a36c3900-ea42-4a39-e405-92fd5441a5d0"
      },
      "outputs": [
        {
          "name": "stdout",
          "output_type": "stream",
          "text": [
            "Null hypothesis rejected\n",
            "There is significant difference - p value : 0.0003559068452826386\n"
          ]
        }
      ],
      "source": [
        "cm = confusion_matrix(catb_preds, rf_preds)\n",
        "# McNemars Statistic \n",
        "MCStatistic = ((cm[0,1] - cm[1,0])**2 )/ (cm[0,1] + cm[1,0])\n",
        "\n",
        "# Degree of freedom (n-1)*(k-1)\n",
        "degreOfFreedom = (len(cm[0])-1) * (len(cm[1])-1)\n",
        "\n",
        "# Obtain p-value from Chi-Sqaure Distribution\n",
        "r1 = 1- stats.chi2.cdf(MCStatistic , degreOfFreedom)\n",
        "r2 = stats.distributions.chi2.sf(MCStatistic , degreOfFreedom)\n",
        "\n",
        "if r1 > 0.05:\n",
        "    print('Null hypothesis can not be rejected')\n",
        "    print('There is not significant difference - p value :' , r1)\n",
        "else:\n",
        "    print('Null hypothesis rejected')\n",
        "    print('There is significant difference - p value :' , r1)"
      ]
    },
    {
      "cell_type": "markdown",
      "metadata": {
        "id": "gR0jPXzdrBUu"
      },
      "source": [
        "## SVM and MLP McNemar Test"
      ]
    },
    {
      "cell_type": "code",
      "execution_count": null,
      "metadata": {
        "id": "XDK1lr0n3Fne"
      },
      "outputs": [],
      "source": [
        "svm = SVC(C=50, gamma=\"auto\", kernel=\"rbf\")\n",
        "mlp = MLPClassifier(activation=\"tanh\", alpha=1, solver=\"lbfgs\", hidden_layer_sizes=(10,10))\n",
        "\n",
        "svm_preds = np.empty([0])\n",
        "mlp_preds = np.empty([0])\n",
        "\n",
        "for i in randomlist:\n",
        "    X_train, X_test, y_train, y_test = train_test_split(X_scaled, y, test_size=0.20, random_state=i)\n",
        "\n",
        "    svm.fit(X_train, y_train)\n",
        "    mlp.fit(X_train, y_train)\n",
        "   \n",
        "    y_pred_svm = svm.predict(X_test)\n",
        "    y_pred_mlp = mlp.predict(X_test)\n",
        "\n",
        "    svm_preds = np.concatenate((svm_preds, (y_pred_svm==y_test).values), axis=0)\n",
        "    mlp_preds = np.concatenate((mlp_preds, (y_pred_mlp==y_test).values), axis=0)"
      ]
    },
    {
      "cell_type": "code",
      "execution_count": null,
      "metadata": {
        "colab": {
          "base_uri": "https://localhost:8080/"
        },
        "id": "pxHitsFe3eYr",
        "outputId": "70cc5551-4e71-475a-da3e-25c4d1722549"
      },
      "outputs": [
        {
          "data": {
            "text/plain": [
              "array([[1231,  515],\n",
              "       [ 627, 6327]])"
            ]
          },
          "execution_count": 169,
          "metadata": {},
          "output_type": "execute_result"
        }
      ],
      "source": [
        "confusion_matrix(svm_preds, mlp_preds)"
      ]
    },
    {
      "cell_type": "code",
      "execution_count": null,
      "metadata": {
        "colab": {
          "base_uri": "https://localhost:8080/"
        },
        "id": "s9Zm3wzp3jIi",
        "outputId": "0e2d3cd4-9ebc-45fa-98a8-495d2ca788e9"
      },
      "outputs": [
        {
          "name": "stdout",
          "output_type": "stream",
          "text": [
            "Null hypothesis rejected\n",
            "There is significant difference - p value : 0.0009189004749233787\n"
          ]
        }
      ],
      "source": [
        "cm = confusion_matrix(svm_preds, mlp_preds)\n",
        "# McNemars Statistic \n",
        "MCStatistic = ((cm[0,1] - cm[1,0])**2 )/ (cm[0,1] + cm[1,0])\n",
        "\n",
        "# Degree of freedom (n-1)*(k-1)\n",
        "degreOfFreedom = (len(cm[0])-1) * (len(cm[1])-1)\n",
        "\n",
        "# Obtain p-value from Chi-Sqaure Distribution\n",
        "r1 = 1- stats.chi2.cdf(MCStatistic , degreOfFreedom)\n",
        "r2 = stats.distributions.chi2.sf(MCStatistic , degreOfFreedom)\n",
        "\n",
        "if r1 > 0.05:\n",
        "    print('Null hypothesis can not be rejected')\n",
        "    print('There is not significant difference - p value :' , r1)\n",
        "else:\n",
        "    print('Null hypothesis rejected')\n",
        "    print('There is significant difference - p value :' , r1)"
      ]
    }
  ],
  "metadata": {
    "colab": {
      "collapsed_sections": [],
      "name": "classification of failure mode (github).ipynb",
      "provenance": [],
      "toc_visible": true
    },
    "interpreter": {
      "hash": "6dae850c854e085de6caad8c58e88b6138d5383fa2e5d3d20bd29f647f5bea8a"
    },
    "kernelspec": {
      "display_name": "Python 3.8.11 64-bit ('base': conda)",
      "name": "python3"
    },
    "language_info": {
      "codemirror_mode": {
        "name": "ipython",
        "version": 3
      },
      "file_extension": ".py",
      "mimetype": "text/x-python",
      "name": "python",
      "nbconvert_exporter": "python",
      "pygments_lexer": "ipython3",
      "version": "3.8.12"
    },
    "orig_nbformat": 4
  },
  "nbformat": 4,
  "nbformat_minor": 0
}
