{
  "cells": [
    {
      "cell_type": "markdown",
      "metadata": {
        "id": "JogPOOZctxxA"
      },
      "source": [
        "# Data Pre-processing"
      ]
    },
    {
      "cell_type": "code",
      "execution_count": 30,
      "metadata": {
        "id": "bwXKh_KTgmAd"
      },
      "outputs": [],
      "source": [
        "import pandas as pd\n",
        "import numpy as np\n",
        "import seaborn as sns\n",
        "import matplotlib.pyplot as plt\n",
        "import random\n",
        "import matplotlib\n",
        "matplotlib.rcParams['mathtext.fontset'] = 'stix'\n",
        "matplotlib.rcParams['font.family'] = 'STIXGeneral'\n",
        "\n",
        "from sklearn.model_selection import train_test_split, cross_val_score, GridSearchCV, KFold\n",
        "\n",
        "from sklearn.preprocessing import RobustScaler\n",
        "\n",
        "from sklearn.metrics import r2_score, mean_squared_error, mean_absolute_error, mean_absolute_percentage_error, accuracy_score\n",
        "from sklearn.neighbors import KNeighborsRegressor\n",
        "from sklearn.linear_model import Ridge \n",
        "from sklearn.neural_network import MLPRegressor \n",
        "from sklearn.svm import SVR \n",
        "from sklearn.ensemble import RandomForestRegressor\n",
        "from lightgbm import LGBMRegressor\n",
        "from xgboost import XGBRegressor\n",
        "from catboost import CatBoostRegressor\n",
        "from catboost import CatBoostClassifier\n",
        "\n",
        "pd.set_option('display.max_columns', None)\n",
        "pd.set_option('display.max_rows', None)\n",
        "\n",
        "from warnings import filterwarnings\n",
        "filterwarnings('ignore')\n",
        "\n",
        "data = pd.read_excel(\"data.xlsx\")\n",
        "df = data.copy()"
      ]
    },
    {
      "cell_type": "code",
      "execution_count": 31,
      "metadata": {
        "id": "my40_KBjo6KK"
      },
      "outputs": [],
      "source": [
        "df = df[df[\"conformity_ec\"] == 0]\n",
        "\n",
        "df_classification = df.drop([\"Paper No\", \"Specimen\", \"conformity_ec\", \"hw/lw\", \"Agb/Ag\",\n",
        "       \"v_test\", \"v_ec8\", \"Ag\"], axis=1)\n",
        "\n",
        "df_classification.dropna(inplace=True, axis=0)\n",
        "\n",
        "X_c = df_classification.drop('failure_mode', axis=1)\n",
        "y_c = df_classification[\"failure_mode\"]\n",
        "\n",
        "X_train_c, X_test_c, y_train_c, y_test_c = train_test_split(X_c, y_c, test_size=0.2, random_state=5269)\n",
        "catb_tuned_c = CatBoostClassifier(depth=5, iterations=100, silent=True).fit(X_train_c, y_train_c)"
      ]
    },
    {
      "cell_type": "code",
      "execution_count": 32,
      "metadata": {
        "id": "2OSfX6dof9uk"
      },
      "outputs": [],
      "source": [
        "y_ec8 = df[\"v_ec8\"]"
      ]
    },
    {
      "cell_type": "code",
      "execution_count": 33,
      "metadata": {
        "colab": {
          "base_uri": "https://localhost:8080/"
        },
        "id": "d_mCzDYxUKkd",
        "outputId": "87c25290-28c5-4979-d23a-7a9290e81dc7"
      },
      "outputs": [
        {
          "data": {
            "text/plain": [
              "(454, 13)"
            ]
          },
          "execution_count": 33,
          "metadata": {},
          "output_type": "execute_result"
        }
      ],
      "source": [
        "df.drop([\"Paper No\", \"Specimen\", \"conformity_ec\", \"v_ec8\", \"hw/lw\", \"Ag\", \n",
        "         \"Agb/Ag\"], \n",
        "        axis=1, inplace=True)\n",
        "\n",
        "df.shape"
      ]
    },
    {
      "cell_type": "code",
      "execution_count": 34,
      "metadata": {
        "colab": {
          "base_uri": "https://localhost:8080/"
        },
        "id": "bziqweXYgmAh",
        "outputId": "9e91e41e-da9e-4156-ae99-f6c253aa3f3b"
      },
      "outputs": [
        {
          "data": {
            "text/plain": [
              "tw               0\n",
              "lw               0\n",
              "hw               0\n",
              "M/(V.lw)         0\n",
              "P/(Ag.fc)        0\n",
              "fc               0\n",
              "Agb              0\n",
              "ρbl.fybl         4\n",
              "ρsh.fysh        20\n",
              "ρl.fyl           0\n",
              "ρt.fyt           0\n",
              "v_test          24\n",
              "failure_mode     4\n",
              "dtype: int64"
            ]
          },
          "execution_count": 34,
          "metadata": {},
          "output_type": "execute_result"
        }
      ],
      "source": [
        "df.isnull().sum()"
      ]
    },
    {
      "cell_type": "code",
      "execution_count": 35,
      "metadata": {
        "colab": {
          "base_uri": "https://localhost:8080/"
        },
        "id": "RpKasYaIgmAi",
        "outputId": "161099ad-8b3f-4aba-f919-080491c6c034"
      },
      "outputs": [
        {
          "data": {
            "text/plain": [
              "(429, 13)"
            ]
          },
          "execution_count": 35,
          "metadata": {},
          "output_type": "execute_result"
        }
      ],
      "source": [
        "df.dropna(inplace=True, axis=0)\n",
        "df.shape"
      ]
    },
    {
      "cell_type": "code",
      "execution_count": 36,
      "metadata": {
        "id": "e6NOWv2sLcLg"
      },
      "outputs": [],
      "source": [
        "true_failure_mode = pd.DataFrame()\n",
        "true_failure_mode = df[[\"failure_mode\"]]"
      ]
    },
    {
      "cell_type": "code",
      "execution_count": 37,
      "metadata": {
        "colab": {
          "base_uri": "https://localhost:8080/",
          "height": 206
        },
        "id": "g8lJT2OygmAj",
        "outputId": "3b363979-2bb3-487f-ba2f-2e85221f5264"
      },
      "outputs": [
        {
          "data": {
            "text/html": [
              "\n",
              "  <div id=\"df-c65cae62-4a71-4a55-83f1-71835094f824\">\n",
              "    <div class=\"colab-df-container\">\n",
              "      <div>\n",
              "<style scoped>\n",
              "    .dataframe tbody tr th:only-of-type {\n",
              "        vertical-align: middle;\n",
              "    }\n",
              "\n",
              "    .dataframe tbody tr th {\n",
              "        vertical-align: top;\n",
              "    }\n",
              "\n",
              "    .dataframe thead th {\n",
              "        text-align: right;\n",
              "    }\n",
              "</style>\n",
              "<table border=\"1\" class=\"dataframe\">\n",
              "  <thead>\n",
              "    <tr style=\"text-align: right;\">\n",
              "      <th></th>\n",
              "      <th>tw</th>\n",
              "      <th>lw</th>\n",
              "      <th>hw</th>\n",
              "      <th>M/(V.lw)</th>\n",
              "      <th>P/(Ag.fc)</th>\n",
              "      <th>fc</th>\n",
              "      <th>Agb</th>\n",
              "      <th>ρbl.fybl</th>\n",
              "      <th>ρsh.fysh</th>\n",
              "      <th>ρl.fyl</th>\n",
              "      <th>ρt.fyt</th>\n",
              "      <th>failure_mode</th>\n",
              "    </tr>\n",
              "  </thead>\n",
              "  <tbody>\n",
              "    <tr>\n",
              "      <th>0</th>\n",
              "      <td>150.0</td>\n",
              "      <td>1000</td>\n",
              "      <td>2200.0</td>\n",
              "      <td>2.20</td>\n",
              "      <td>0.00</td>\n",
              "      <td>30.5</td>\n",
              "      <td>30000.0</td>\n",
              "      <td>5.652500</td>\n",
              "      <td>7.395000</td>\n",
              "      <td>2.847500</td>\n",
              "      <td>3.740000</td>\n",
              "      <td>3.0</td>\n",
              "    </tr>\n",
              "    <tr>\n",
              "      <th>1</th>\n",
              "      <td>150.0</td>\n",
              "      <td>1400</td>\n",
              "      <td>2000.0</td>\n",
              "      <td>1.43</td>\n",
              "      <td>0.01</td>\n",
              "      <td>46.8</td>\n",
              "      <td>0.0</td>\n",
              "      <td>0.000000</td>\n",
              "      <td>0.000000</td>\n",
              "      <td>4.410368</td>\n",
              "      <td>2.021229</td>\n",
              "      <td>3.0</td>\n",
              "    </tr>\n",
              "    <tr>\n",
              "      <th>2</th>\n",
              "      <td>150.0</td>\n",
              "      <td>1400</td>\n",
              "      <td>2000.0</td>\n",
              "      <td>1.43</td>\n",
              "      <td>0.01</td>\n",
              "      <td>46.6</td>\n",
              "      <td>0.0</td>\n",
              "      <td>0.000000</td>\n",
              "      <td>0.000000</td>\n",
              "      <td>7.725619</td>\n",
              "      <td>2.021229</td>\n",
              "      <td>1.0</td>\n",
              "    </tr>\n",
              "    <tr>\n",
              "      <th>3</th>\n",
              "      <td>127.0</td>\n",
              "      <td>1625</td>\n",
              "      <td>12000.0</td>\n",
              "      <td>7.38</td>\n",
              "      <td>0.10</td>\n",
              "      <td>49.0</td>\n",
              "      <td>77140.0</td>\n",
              "      <td>2.956163</td>\n",
              "      <td>2.667677</td>\n",
              "      <td>1.219476</td>\n",
              "      <td>1.177428</td>\n",
              "      <td>3.0</td>\n",
              "    </tr>\n",
              "    <tr>\n",
              "      <th>4</th>\n",
              "      <td>100.0</td>\n",
              "      <td>700</td>\n",
              "      <td>1600.0</td>\n",
              "      <td>2.50</td>\n",
              "      <td>0.15</td>\n",
              "      <td>27.4</td>\n",
              "      <td>10000.0</td>\n",
              "      <td>14.732880</td>\n",
              "      <td>0.000000</td>\n",
              "      <td>2.673600</td>\n",
              "      <td>2.655481</td>\n",
              "      <td>2.0</td>\n",
              "    </tr>\n",
              "  </tbody>\n",
              "</table>\n",
              "</div>\n",
              "      <button class=\"colab-df-convert\" onclick=\"convertToInteractive('df-c65cae62-4a71-4a55-83f1-71835094f824')\"\n",
              "              title=\"Convert this dataframe to an interactive table.\"\n",
              "              style=\"display:none;\">\n",
              "        \n",
              "  <svg xmlns=\"http://www.w3.org/2000/svg\" height=\"24px\"viewBox=\"0 0 24 24\"\n",
              "       width=\"24px\">\n",
              "    <path d=\"M0 0h24v24H0V0z\" fill=\"none\"/>\n",
              "    <path d=\"M18.56 5.44l.94 2.06.94-2.06 2.06-.94-2.06-.94-.94-2.06-.94 2.06-2.06.94zm-11 1L8.5 8.5l.94-2.06 2.06-.94-2.06-.94L8.5 2.5l-.94 2.06-2.06.94zm10 10l.94 2.06.94-2.06 2.06-.94-2.06-.94-.94-2.06-.94 2.06-2.06.94z\"/><path d=\"M17.41 7.96l-1.37-1.37c-.4-.4-.92-.59-1.43-.59-.52 0-1.04.2-1.43.59L10.3 9.45l-7.72 7.72c-.78.78-.78 2.05 0 2.83L4 21.41c.39.39.9.59 1.41.59.51 0 1.02-.2 1.41-.59l7.78-7.78 2.81-2.81c.8-.78.8-2.07 0-2.86zM5.41 20L4 18.59l7.72-7.72 1.47 1.35L5.41 20z\"/>\n",
              "  </svg>\n",
              "      </button>\n",
              "      \n",
              "  <style>\n",
              "    .colab-df-container {\n",
              "      display:flex;\n",
              "      flex-wrap:wrap;\n",
              "      gap: 12px;\n",
              "    }\n",
              "\n",
              "    .colab-df-convert {\n",
              "      background-color: #E8F0FE;\n",
              "      border: none;\n",
              "      border-radius: 50%;\n",
              "      cursor: pointer;\n",
              "      display: none;\n",
              "      fill: #1967D2;\n",
              "      height: 32px;\n",
              "      padding: 0 0 0 0;\n",
              "      width: 32px;\n",
              "    }\n",
              "\n",
              "    .colab-df-convert:hover {\n",
              "      background-color: #E2EBFA;\n",
              "      box-shadow: 0px 1px 2px rgba(60, 64, 67, 0.3), 0px 1px 3px 1px rgba(60, 64, 67, 0.15);\n",
              "      fill: #174EA6;\n",
              "    }\n",
              "\n",
              "    [theme=dark] .colab-df-convert {\n",
              "      background-color: #3B4455;\n",
              "      fill: #D2E3FC;\n",
              "    }\n",
              "\n",
              "    [theme=dark] .colab-df-convert:hover {\n",
              "      background-color: #434B5C;\n",
              "      box-shadow: 0px 1px 3px 1px rgba(0, 0, 0, 0.15);\n",
              "      filter: drop-shadow(0px 1px 2px rgba(0, 0, 0, 0.3));\n",
              "      fill: #FFFFFF;\n",
              "    }\n",
              "  </style>\n",
              "\n",
              "      <script>\n",
              "        const buttonEl =\n",
              "          document.querySelector('#df-c65cae62-4a71-4a55-83f1-71835094f824 button.colab-df-convert');\n",
              "        buttonEl.style.display =\n",
              "          google.colab.kernel.accessAllowed ? 'block' : 'none';\n",
              "\n",
              "        async function convertToInteractive(key) {\n",
              "          const element = document.querySelector('#df-c65cae62-4a71-4a55-83f1-71835094f824');\n",
              "          const dataTable =\n",
              "            await google.colab.kernel.invokeFunction('convertToInteractive',\n",
              "                                                     [key], {});\n",
              "          if (!dataTable) return;\n",
              "\n",
              "          const docLinkHtml = 'Like what you see? Visit the ' +\n",
              "            '<a target=\"_blank\" href=https://colab.research.google.com/notebooks/data_table.ipynb>data table notebook</a>'\n",
              "            + ' to learn more about interactive tables.';\n",
              "          element.innerHTML = '';\n",
              "          dataTable['output_type'] = 'display_data';\n",
              "          await google.colab.output.renderOutput(dataTable, element);\n",
              "          const docLink = document.createElement('div');\n",
              "          docLink.innerHTML = docLinkHtml;\n",
              "          element.appendChild(docLink);\n",
              "        }\n",
              "      </script>\n",
              "    </div>\n",
              "  </div>\n",
              "  "
            ],
            "text/plain": [
              "      tw    lw       hw  M/(V.lw)  P/(Ag.fc)    fc      Agb   ρbl.fybl  \\\n",
              "0  150.0  1000   2200.0      2.20       0.00  30.5  30000.0   5.652500   \n",
              "1  150.0  1400   2000.0      1.43       0.01  46.8      0.0   0.000000   \n",
              "2  150.0  1400   2000.0      1.43       0.01  46.6      0.0   0.000000   \n",
              "3  127.0  1625  12000.0      7.38       0.10  49.0  77140.0   2.956163   \n",
              "4  100.0   700   1600.0      2.50       0.15  27.4  10000.0  14.732880   \n",
              "\n",
              "   ρsh.fysh    ρl.fyl    ρt.fyt  failure_mode  \n",
              "0  7.395000  2.847500  3.740000           3.0  \n",
              "1  0.000000  4.410368  2.021229           3.0  \n",
              "2  0.000000  7.725619  2.021229           1.0  \n",
              "3  2.667677  1.219476  1.177428           3.0  \n",
              "4  0.000000  2.673600  2.655481           2.0  "
            ]
          },
          "execution_count": 37,
          "metadata": {},
          "output_type": "execute_result"
        }
      ],
      "source": [
        "X = df.drop(['v_test'], axis=1)\n",
        "y = df[\"v_test\"]\n",
        "X.head()"
      ]
    },
    {
      "cell_type": "code",
      "execution_count": 38,
      "metadata": {
        "id": "zkkkSJYbTy2t"
      },
      "outputs": [],
      "source": [
        "cols = X.columns\n",
        "scaler = RobustScaler()\n",
        "X_scaled = scaler.fit_transform(X)\n",
        "X_scaled = pd.DataFrame(X_scaled, columns=cols)"
      ]
    },
    {
      "cell_type": "code",
      "execution_count": 39,
      "metadata": {
        "id": "KJfTR9JcTy2u"
      },
      "outputs": [],
      "source": [
        "X_train_scaled, X_test_scaled, y_train, y_test = train_test_split(X_scaled, y, test_size=0.2, random_state=42)\n",
        "X_train, X_test, y_train, y_test = train_test_split(X, y, test_size=0.20, random_state=42)"
      ]
    },
    {
      "cell_type": "markdown",
      "metadata": {
        "id": "ND0vhBNXtn_w"
      },
      "source": [
        "# Performances"
      ]
    },
    {
      "cell_type": "markdown",
      "metadata": {
        "id": "FVoCTTxWq4E-"
      },
      "source": [
        "## LightGBM"
      ]
    },
    {
      "cell_type": "code",
      "execution_count": 16,
      "metadata": {
        "id": "L3UtoWOXC5Ig"
      },
      "outputs": [],
      "source": [
        "randomlist = random.sample(range(1, 10000), 100)"
      ]
    },
    {
      "cell_type": "code",
      "execution_count": 18,
      "metadata": {
        "colab": {
          "base_uri": "https://localhost:8080/"
        },
        "id": "-lo-MUmemik4",
        "outputId": "a0db64de-441b-4f67-9cfe-2afa19a1c996"
      },
      "outputs": [
        {
          "name": "stdout",
          "output_type": "stream",
          "text": [
            "Average Training R2 Score: 0.9949, (0.0007)\n",
            "Average Testing R2 Score: 0.9348, (0.0202)\n",
            "Average Training RMSE: 44.8677, (3.0371)\n",
            "Average Testing RMSE: 155.2703, (22.9724)\n",
            "Average Training Mean Absolute Error: 31.0305, (1.899)\n",
            "Average Testing Mean Absolute Error: 97.9041, (11.3303)\n",
            "Average Training Mean Absolute Percentage Error: 0.0912, (0.0068)\n",
            "Average Testing Mean Absolute Percentage Error: 0.2437, (0.0385)\n",
            "Average Training Prediction Ratio: 1.0023, (0.0039)\n",
            "Average Testing Prediction Ratio: 1.0425, (0.055)\n",
            "Average Covariance of Training Prediction Ratios: 0.0258, (0.0058)\n",
            "Average Covariance of Testing Prediction Ratios: 0.175, (0.0905)\n",
            "Random state that gives the best testing R2: 1173\n"
          ]
        }
      ],
      "source": [
        "# lgbm parameters were obtained previously using gridsearch cv with 5 fold cross-validation\n",
        "lgb = LGBMRegressor(n_estimators=300, num_leaves=12, max_depth=4, max_bin=100)\n",
        "r2_scores = {\"training\": [], \"testing\": []}\n",
        "rmse = {\"training\": [], \"testing\": []}\n",
        "mae = {\"training\": [], \"testing\": []}\n",
        "mape = {\"training\": [], \"testing\": []}\n",
        "p_ratio = {\"training\": [], \"testing\": []}\n",
        "cov = {\"training\": [], \"testing\": []}\n",
        "\n",
        "for i in randomlist:\n",
        "    X_train, X_test, y_train, y_test = train_test_split(X, y, test_size=0.20, random_state=i)\n",
        "    lgb.fit(X_train, y_train)\n",
        "    X_test[\"failure_mode\"] = catb_tuned_c.predict((X_test.iloc[:, :-1]))\n",
        "    y_pred_train = lgb.predict(X_train)\n",
        "    y_pred_test = lgb.predict(X_test)\n",
        "    r2_scores[\"training\"].append(r2_score(y_train, y_pred_train))\n",
        "    r2_scores[\"testing\"].append(r2_score(y_test, y_pred_test))\n",
        "    rmse[\"training\"].append(mean_squared_error(y_train, y_pred_train, squared=False))\n",
        "    rmse[\"testing\"].append(mean_squared_error(y_test, y_pred_test, squared=False))\n",
        "    mae[\"training\"].append(mean_absolute_error(y_train, y_pred_train))\n",
        "    mae[\"testing\"].append(mean_absolute_error(y_test, y_pred_test))\n",
        "    mape[\"training\"].append(mean_absolute_percentage_error(y_train, y_pred_train))\n",
        "    mape[\"testing\"].append(mean_absolute_percentage_error(y_test, y_pred_test))\n",
        "    p_ratio[\"training\"].append(np.mean(y_pred_train / y_train))\n",
        "    p_ratio[\"testing\"].append(np.mean(y_pred_test / y_test))\n",
        "    cov[\"training\"].append(np.cov(y_pred_train / y_train).tolist())\n",
        "    cov[\"testing\"].append(np.cov(y_pred_test / y_test).tolist())\n",
        "\n",
        "print(f\"Average Training R2 Score: {round(np.mean(r2_scores['training']), 4)}, ({round(np.std(r2_scores['training']), 4)})\")\n",
        "print(f\"Average Testing R2 Score: {round(np.mean(r2_scores['testing']), 4)}, ({round(np.std(r2_scores['testing']), 4)})\")\n",
        "\n",
        "print(f\"Average Training RMSE: {round(np.mean(rmse['training']), 4)}, ({round(np.std(rmse['training']), 4)})\")\n",
        "print(f\"Average Testing RMSE: {round(np.mean(rmse['testing']), 4)}, ({round(np.std(rmse['testing']), 4)})\")\n",
        "\n",
        "print(f\"Average Training Mean Absolute Error: {round(np.mean(mae['training']), 4)}, ({round(np.std(mae['training']), 4)})\")\n",
        "print(f\"Average Testing Mean Absolute Error: {round(np.mean(mae['testing']), 4)}, ({round(np.std(mae['testing']), 4)})\")\n",
        "\n",
        "print(f\"Average Training Mean Absolute Percentage Error: {round(np.mean(mape['training']), 4)}, ({round(np.std(mape['training']), 4)})\")\n",
        "print(f\"Average Testing Mean Absolute Percentage Error: {round(np.mean(mape['testing']), 4)}, ({round(np.std(mape['testing']), 4)})\")\n",
        "\n",
        "print(f\"Average Training Prediction Ratio: {round(np.mean(p_ratio['training']), 4)}, ({round(np.std(p_ratio['training']), 4)})\")\n",
        "print(f\"Average Testing Prediction Ratio: {round(np.mean(p_ratio['testing']), 4)}, ({round(np.std(p_ratio['testing']), 4)})\")\n",
        "\n",
        "print(f\"Average Covariance of Training Prediction Ratios: {round(np.mean(cov['training']), 4)}, ({round(np.std(cov['training']), 4)})\")\n",
        "print(f\"Average Covariance of Testing Prediction Ratios: {round(np.mean(cov['testing']), 4)}, ({round(np.std(cov['testing']), 4)})\")\n",
        "\n",
        "print(\"Random state that gives the best testing R2:\", randomlist[np.argmax(r2_scores[\"testing\"])])"
      ]
    },
    {
      "cell_type": "code",
      "execution_count": 19,
      "metadata": {
        "id": "LL2lrrj7UJwb"
      },
      "outputs": [],
      "source": [
        "df_scores_lgbm = pd.DataFrame()\n",
        "df_scores_lgbm[\"R\\u00b2\"] = r2_scores[\"testing\"]\n",
        "df_scores_lgbm[\"RMSE (kN)\"] = rmse[\"testing\"]\n",
        "df_scores_lgbm[\"MAE (kN)\"] = mae[\"testing\"]\n",
        "df_scores_lgbm[\"MAPE (%)\"] = mape[\"testing\"]\n",
        "df_scores_lgbm[\"Vpred / Vtrue\"] = p_ratio[\"testing\"]\n",
        "df_scores_lgbm[\"COV\"] = cov[\"testing\"]"
      ]
    },
    {
      "cell_type": "markdown",
      "metadata": {
        "id": "Yd_ZU9S-rEWH"
      },
      "source": [
        "## CatBoost"
      ]
    },
    {
      "cell_type": "code",
      "execution_count": 20,
      "metadata": {
        "colab": {
          "base_uri": "https://localhost:8080/"
        },
        "id": "xMnJtIScrGsK",
        "outputId": "7e25c1e9-bb0f-4398-e034-38907418d1b8"
      },
      "outputs": [
        {
          "name": "stdout",
          "output_type": "stream",
          "text": [
            "Average Training R2 Score: 0.9931, (0.0006)\n",
            "Average Testing R2 Score: 0.9425, (0.0195)\n",
            "Average Training RMSE: 51.8646, (2.408)\n",
            "Average Testing RMSE: 145.7768, (25.3659)\n",
            "Average Training Mean Absolute Error: 38.8163, (1.7708)\n",
            "Average Testing Mean Absolute Error: 91.9114, (12.7108)\n",
            "Average Training Mean Absolute Percentage Error: 0.1224, (0.0059)\n",
            "Average Testing Mean Absolute Percentage Error: 0.2005, (0.0261)\n",
            "Average Training Prediction Ratio: 1.0551, (0.0041)\n",
            "Average Testing Prediction Ratio: 1.0618, (0.0372)\n",
            "Average Covariance of Training Prediction Ratios: 0.0383, (0.0049)\n",
            "Average Covariance of Testing Prediction Ratios: 0.0893, (0.0316)\n",
            "Random state that gives the best testing R2: 8839\n"
          ]
        }
      ],
      "source": [
        "# catb parameters were obtained previously using gridsearch cv with 5 fold cross-validation\n",
        "catb = CatBoostRegressor(iterations=500, depth=4, silent=True, loss_function=\"Poisson\")\n",
        "r2_scores = {\"training\": [], \"testing\": []}\n",
        "rmse = {\"training\": [], \"testing\": []}\n",
        "mae = {\"training\": [], \"testing\": []}\n",
        "mape = {\"training\": [], \"testing\": []}\n",
        "p_ratio = {\"training\": [], \"testing\": []}\n",
        "cov = {\"training\": [], \"testing\": []}\n",
        "\n",
        "for i in randomlist:\n",
        "    X_train, X_test, y_train, y_test = train_test_split(X, y, test_size=0.20, random_state=i)\n",
        "    catb.fit(X_train, y_train)\n",
        "    X_test[\"failure_mode\"] = catb_tuned_c.predict((X_test.iloc[:, :-1]))\n",
        "    y_pred_train = catb.predict(X_train)\n",
        "    y_pred_test = catb.predict(X_test)\n",
        "    r2_scores[\"training\"].append(r2_score(y_train, y_pred_train))\n",
        "    r2_scores[\"testing\"].append(r2_score(y_test, y_pred_test))\n",
        "    rmse[\"training\"].append(mean_squared_error(y_train, y_pred_train, squared=False))\n",
        "    rmse[\"testing\"].append(mean_squared_error(y_test, y_pred_test, squared=False))\n",
        "    mae[\"training\"].append(mean_absolute_error(y_train, y_pred_train))\n",
        "    mae[\"testing\"].append(mean_absolute_error(y_test, y_pred_test))\n",
        "    mape[\"training\"].append(mean_absolute_percentage_error(y_train, y_pred_train))\n",
        "    mape[\"testing\"].append(mean_absolute_percentage_error(y_test, y_pred_test))\n",
        "    p_ratio[\"training\"].append(np.mean(y_pred_train / y_train))\n",
        "    p_ratio[\"testing\"].append(np.mean(y_pred_test / y_test))\n",
        "    cov[\"training\"].append(np.cov(y_pred_train / y_train).tolist())\n",
        "    cov[\"testing\"].append(np.cov(y_pred_test / y_test).tolist())\n",
        "\n",
        "print(f\"Average Training R2 Score: {round(np.mean(r2_scores['training']), 4)}, ({round(np.std(r2_scores['training']), 4)})\")\n",
        "print(f\"Average Testing R2 Score: {round(np.mean(r2_scores['testing']), 4)}, ({round(np.std(r2_scores['testing']), 4)})\")\n",
        "\n",
        "print(f\"Average Training RMSE: {round(np.mean(rmse['training']), 4)}, ({round(np.std(rmse['training']), 4)})\")\n",
        "print(f\"Average Testing RMSE: {round(np.mean(rmse['testing']), 4)}, ({round(np.std(rmse['testing']), 4)})\")\n",
        "\n",
        "print(f\"Average Training Mean Absolute Error: {round(np.mean(mae['training']), 4)}, ({round(np.std(mae['training']), 4)})\")\n",
        "print(f\"Average Testing Mean Absolute Error: {round(np.mean(mae['testing']), 4)}, ({round(np.std(mae['testing']), 4)})\")\n",
        "\n",
        "print(f\"Average Training Mean Absolute Percentage Error: {round(np.mean(mape['training']), 4)}, ({round(np.std(mape['training']), 4)})\")\n",
        "print(f\"Average Testing Mean Absolute Percentage Error: {round(np.mean(mape['testing']), 4)}, ({round(np.std(mape['testing']), 4)})\")\n",
        "\n",
        "print(f\"Average Training Prediction Ratio: {round(np.mean(p_ratio['training']), 4)}, ({round(np.std(p_ratio['training']), 4)})\")\n",
        "print(f\"Average Testing Prediction Ratio: {round(np.mean(p_ratio['testing']), 4)}, ({round(np.std(p_ratio['testing']), 4)})\")\n",
        "\n",
        "print(f\"Average Covariance of Training Prediction Ratios: {round(np.mean(cov['training']), 4)}, ({round(np.std(cov['training']), 4)})\")\n",
        "print(f\"Average Covariance of Testing Prediction Ratios: {round(np.mean(cov['testing']), 4)}, ({round(np.std(cov['testing']), 4)})\")\n",
        "\n",
        "print(\"Random state that gives the best testing R2:\", randomlist[np.argmax(r2_scores[\"testing\"])])"
      ]
    },
    {
      "cell_type": "code",
      "execution_count": 21,
      "metadata": {
        "id": "-Qox5VwOaJRi"
      },
      "outputs": [],
      "source": [
        "df_scores_catb = pd.DataFrame()\n",
        "df_scores_catb[\"R\\u00b2\"] = r2_scores[\"testing\"]\n",
        "df_scores_catb[\"RMSE (kN)\"] = rmse[\"testing\"]\n",
        "df_scores_catb[\"MAE (kN)\"] = mae[\"testing\"]\n",
        "df_scores_catb[\"MAPE (%)\"] = mape[\"testing\"]\n",
        "df_scores_catb[\"Vpred / Vtrue\"] = p_ratio[\"testing\"]\n",
        "df_scores_catb[\"COV\"] = cov[\"testing\"]"
      ]
    },
    {
      "cell_type": "code",
      "execution_count": 25,
      "metadata": {
        "colab": {
          "base_uri": "https://localhost:8080/",
          "height": 375
        },
        "id": "BIgzvHY5gmAn",
        "outputId": "47538866-67a2-42d5-eee7-f27a5d2f64a7"
      },
      "outputs": [
        {
          "data": {
            "image/png": "[encoded data removed]",
            "text/plain": [
              "<Figure size 720x360 with 2 Axes>"
            ]
          },
          "metadata": {
            "needs_background": "light"
          },
          "output_type": "display_data"
        }
      ],
      "source": [
        "X_train, X_test, y_train, y_test = train_test_split(X, y, test_size=0.2, random_state=6859)\n",
        "X_test[\"failure_mode\"] = catb_tuned_c.predict((X_test.iloc[:, :-1]))\n",
        "catb_tuned = CatBoostRegressor(iterations=500, depth=4, silent=True, loss_function=\"Poisson\").fit(X_train, y_train)\n",
        "y_pred_test = catb_tuned.predict(X_test)\n",
        "y_pred_train = catb_tuned.predict(X_train)\n",
        "\n",
        "X_test.reset_index(inplace=True, drop=True)\n",
        "X_train.reset_index(inplace=True, drop=True)\n",
        "y_train.reset_index(inplace=True, drop=True)\n",
        "y_test.reset_index(inplace=True, drop=True)\n",
        "\n",
        "fig, axs = plt.subplots(1, 2, figsize=(10, 5))\n",
        "\n",
        "S_index = X_train[X_train[\"failure_mode\"]==1].index\n",
        "SF_index = X_train[X_train[\"failure_mode\"]==2].index\n",
        "F_index = X_train[X_train[\"failure_mode\"]==3].index\n",
        "\n",
        "axs[0].scatter(x=y_train.loc[S_index], y=y_pred_train[S_index])\n",
        "axs[0].scatter(x=y_train.loc[SF_index], y=y_pred_train[SF_index])\n",
        "axs[0].scatter(x=y_train.loc[F_index], y=y_pred_train[F_index])\n",
        "axs[0].legend([\"S\", \"SF\", \"F\"])\n",
        "axs[0].set_xlim([0, 3000])\n",
        "axs[0].set_ylim([0, 3000])\n",
        "axs[0].plot([0,1],[0,1], transform=axs[0].transAxes)\n",
        "axs[0].set_xlabel('True Value (kN)')\n",
        "axs[0].set_ylabel(\"Predicted Value (kN)\")\n",
        "axs[0].set_title(f\"(a) Training Data\\nR\\u00b2 Score:{round(r2_score(y_pred_train, y_train), 2)}\\nRMSE: {round(mean_squared_error(y_train, y_pred_train, squared=False), 2)} kN\")\n",
        "\n",
        "\n",
        "S_index = X_test[X_test[\"failure_mode\"]==1].index\n",
        "SF_index = X_test[X_test[\"failure_mode\"]==2].index\n",
        "F_index = X_test[X_test[\"failure_mode\"]==3].index\n",
        "\n",
        "axs[1].scatter(x=y_test.loc[S_index], y=y_pred_test[S_index])\n",
        "axs[1].scatter(x=y_test.loc[SF_index], y=y_pred_test[SF_index])\n",
        "axs[1].scatter(x=y_test.loc[F_index], y=y_pred_test[F_index])\n",
        "axs[1].legend([\"S\", \"SF\", \"F\"])\n",
        "axs[1].set_xlim([0, 3000])\n",
        "axs[1].set_ylim([0, 3000])\n",
        "axs[1].plot([0,1],[0,1], transform=axs[1].transAxes)\n",
        "axs[1].set_xlabel('True Value (kN)')\n",
        "axs[1].set_ylabel(\"Predicted Value (kN)\")\n",
        "axs[1].set_title(f\"(b) Test Data\\nR\\u00b2 Score:{round(r2_score(y_pred_test, y_test), 2)}\\nRMSE: {round(mean_squared_error(y_test, y_pred_test, squared=False), 2)} kN\")\n",
        "\n",
        "plt.show()"
      ]
    },
    {
      "cell_type": "code",
      "execution_count": 28,
      "metadata": {
        "colab": {
          "base_uri": "https://localhost:8080/",
          "height": 511
        },
        "id": "TC4XCGYM-Z3J",
        "outputId": "7112d829-a42e-46b2-a3d1-ff102d58252a"
      },
      "outputs": [
        {
          "data": {
            "image/png": "[encoded data removed]",
            "text/plain": [
              "<Figure size 720x576 with 1 Axes>"
            ]
          },
          "metadata": {
            "needs_background": "light"
          },
          "output_type": "display_data"
        }
      ],
      "source": [
        "feature_imp = pd.Series(catb_tuned.feature_importances_,\n",
        "                index=X.columns).sort_values(ascending=False)\n",
        "plt.figure(figsize = (10, 8))\n",
        "sns.barplot(x=feature_imp, y=feature_imp.index)\n",
        "plt.xlabel('Feature Importance Scores')\n",
        "plt.ylabel('Features')\n",
        "plt.title(\"CatBoost Feature Importance Scores\")\n",
        "plt.show()"
      ]
    },
    {
      "cell_type": "code",
      "execution_count": 44,
      "metadata": {
        "colab": {
          "base_uri": "https://localhost:8080/",
          "height": 690
        },
        "id": "52mEsNSi11w4",
        "outputId": "4b1cb70e-93eb-41ff-a451-470501abc9a2"
      },
      "outputs": [
        {
          "data": {
            "image/png": "[encoded data removed]",
            "text/plain": [
              "<Figure size 1080x720 with 8 Axes>"
            ]
          },
          "metadata": {
            "needs_background": "light"
          },
          "output_type": "display_data"
        }
      ],
      "source": [
        "X_train, X_test, y_train, y_test = train_test_split(X, y, test_size=0.2, random_state=6859)\n",
        "\n",
        "fails = true_failure_mode.loc[X_test.index]\n",
        "\n",
        "y_pred_ec8_all = y_ec8[y_test.index]\n",
        "y_pred_ec8_all.dropna(inplace=True)\n",
        "y_pred_catb_all = catb_tuned.predict(X_test.loc[y_pred_ec8_all.index, :])\n",
        "\n",
        "y_pred_ec8_s = y_ec8[fails[fails[\"failure_mode\"]==1].index]\n",
        "y_pred_ec8_s.dropna(inplace=True)\n",
        "y_pred_catb_s = catb_tuned.predict(X_test.loc[y_pred_ec8_s.index, :])\n",
        "\n",
        "y_pred_ec8_t = y_ec8[fails[fails[\"failure_mode\"]==2].index]\n",
        "y_pred_ec8_t.dropna(inplace=True)\n",
        "y_pred_catb_t = catb_tuned.predict(X_test.loc[y_pred_ec8_t.index, :])\n",
        "\n",
        "y_pred_ec8_f = y_ec8[fails[fails[\"failure_mode\"]==3].index]\n",
        "y_pred_ec8_f.dropna(inplace=True)\n",
        "y_pred_catb_f = catb_tuned.predict(X_test.loc[y_pred_ec8_f.index, :])\n",
        "\n",
        "fig, axs = plt.subplots(2, 4, figsize=(15, 10))\n",
        "plt.tight_layout(pad=5.0)\n",
        "axs[0, 0].scatter(y_test.loc[y_pred_ec8_all.index], y_pred_catb_all, s=50, color=\"tab:red\")\n",
        "axs[0, 0].set_xlim([0, 2900])\n",
        "axs[0, 0].set_ylim([0, 2900])\n",
        "axs[0, 0].plot([0,1],[0,1], transform=axs[0, 0].transAxes)\n",
        "axs[0, 0].set_xlabel('True Value (kN)')\n",
        "axs[0, 0].set_ylabel(\"Predicted Value (kN)\")\n",
        "axs[0, 0].set_title(\"CatBoost\\nAll 83 Specimens\")\n",
        "\n",
        "axs[1, 0].scatter(y_test.loc[y_pred_ec8_all.index], y_pred_ec8_all, s=50, color=\"tab:red\")\n",
        "axs[1, 0].set_xlim([0, 2900])\n",
        "axs[1, 0].set_ylim([0, 2900])\n",
        "axs[1, 0].plot([0,1],[0,1], transform=axs[1, 0].transAxes)\n",
        "axs[1, 0].set_xlabel('True Value (kN)')\n",
        "axs[1, 0].set_ylabel(\"Predicted Value (kN)\")\n",
        "axs[1, 0].set_title(\"Eurocode 8\\nAll 83 Specimens\")\n",
        "\n",
        "axs[0, 1].scatter(y_test.loc[y_pred_ec8_s.index], y_pred_catb_s, s=50, color=\"tab:blue\")\n",
        "axs[0, 1].set_xlim([0, 2900])\n",
        "axs[0, 1].set_ylim([0, 2900])\n",
        "axs[0, 1].plot([0,1],[0,1], transform=axs[0, 1].transAxes)\n",
        "axs[0, 1].set_xlabel('True Value (kN)')\n",
        "axs[0, 1].set_ylabel(\"Predicted Value (kN)\")\n",
        "axs[0, 1].set_title(\"CatBoost\\n31 Shear-controlled Specimens\")\n",
        "\n",
        "axs[1, 1].scatter(y_test.loc[y_pred_ec8_s.index], y_pred_ec8_s, s=50, color=\"tab:blue\")\n",
        "axs[1, 1].set_xlim([0, 2900])\n",
        "axs[1, 1].set_ylim([0, 2900])\n",
        "axs[1, 1].plot([0,1],[0,1], transform=axs[1, 1].transAxes)\n",
        "axs[1, 1].set_xlabel('True Value (kN)')\n",
        "axs[1, 1].set_ylabel(\"Predicted Value (kN)\")\n",
        "axs[1, 1].set_title(\"Eurocode 8\\n31 Shear-controlled Specimens\")\n",
        "\n",
        "axs[0, 2].scatter(y_test.loc[y_pred_ec8_t.index], y_pred_catb_t, s=50, color=\"tab:orange\")\n",
        "axs[0, 2].set_xlim([0, 1600])\n",
        "axs[0, 2].set_ylim([0, 1600])\n",
        "axs[0, 2].plot([0,1],[0,1], transform=axs[0, 2].transAxes)\n",
        "axs[0, 2].set_xlabel('True Value (kN)')\n",
        "axs[0, 2].set_ylabel(\"Predicted Value (kN)\")\n",
        "axs[0, 2].set_title(\"CatBoost\\n26 Transition Specimens\")\n",
        "\n",
        "axs[1, 2].scatter(y_test.loc[y_pred_ec8_t.index], y_pred_ec8_t, s=50, color=\"tab:orange\")\n",
        "axs[1, 2].set_xlim([0, 1600])\n",
        "axs[1, 2].set_ylim([0, 1600])\n",
        "axs[1, 2].plot([0,1],[0,1], transform=axs[1, 2].transAxes)\n",
        "axs[1, 2].set_xlabel('True Value (kN)')\n",
        "axs[1, 2].set_ylabel(\"Predicted Value (kN)\")\n",
        "axs[1, 2].set_title(\"Eurocode 8\\n26 Transition Specimens\")\n",
        "\n",
        "\n",
        "axs[0, 3].scatter(y_test.loc[y_pred_ec8_f.index], y_pred_catb_f, s=50, color=\"tab:green\")\n",
        "axs[0, 3].set_xlim([0, 1100])\n",
        "axs[0, 3].set_ylim([0, 1100])\n",
        "axs[0, 3].plot([0,1],[0,1], transform=axs[0, 3].transAxes)\n",
        "axs[0, 3].set_xlabel('True Value (kN)')\n",
        "axs[0, 3].set_ylabel(\"Predicted Value (kN)\")\n",
        "axs[0, 3].set_title(\"CatBoost\\n26 Flexure-controlled Specimens\")\n",
        "\n",
        "axs[1, 3].scatter(y_test.loc[y_pred_ec8_f.index], y_pred_ec8_f, s=50, color=\"tab:green\")\n",
        "axs[1, 3].set_xlim([0, 1100])\n",
        "axs[1, 3].set_ylim([0, 1100])\n",
        "axs[1, 3].plot([0,1],[0,1], transform=axs[1, 3].transAxes)\n",
        "axs[1, 3].set_xlabel('True Value (kN)')\n",
        "axs[1, 3].set_ylabel(\"Predicted Value (kN)\")\n",
        "axs[1, 3].set_title(\"Eurocode 8\\n26 Flexure-controlled Specimens\")\n",
        "\n",
        "plt.show()"
      ]
    },
    {
      "cell_type": "markdown",
      "metadata": {
        "id": "PZmhScFbrKEJ"
      },
      "source": [
        "## XGBoost"
      ]
    },
    {
      "cell_type": "code",
      "execution_count": 45,
      "metadata": {
        "colab": {
          "base_uri": "https://localhost:8080/"
        },
        "id": "SIlJHlZ_Rx8Z",
        "outputId": "a6f4ec44-3172-42eb-b910-b94f9b7020c4"
      },
      "outputs": [
        {
          "name": "stdout",
          "output_type": "stream",
          "text": [
            "Average Training R2 Score: 0.9957, (0.0005)\n",
            "Average Testing R2 Score: 0.9369, (0.0202)\n",
            "Average Training RMSE: 41.1524, (2.1253)\n",
            "Average Testing RMSE: 152.7223, (23.9283)\n",
            "Average Training Mean Absolute Error: 30.0632, (1.5581)\n",
            "Average Testing Mean Absolute Error: 97.5673, (12.2658)\n",
            "Average Training Mean Absolute Percentage Error: 0.0919, (0.0068)\n",
            "Average Testing Mean Absolute Percentage Error: 0.2312, (0.0338)\n",
            "Average Training Prediction Ratio: 1.003, (0.0046)\n",
            "Average Testing Prediction Ratio: 1.0746, (0.0479)\n",
            "Average Covariance of Training Prediction Ratios: 0.0275, (0.009)\n",
            "Average Covariance of Testing Prediction Ratios: 0.144, (0.0668)\n",
            "Random state that gives the best testing R2: 4207\n"
          ]
        }
      ],
      "source": [
        "# xgb parameters were obtained previously using gridsearch cv with 5 fold cross-validation\n",
        "xgb = XGBRegressor(verbosity=0, n_estimators=150, colsample_bytree=0.5, max_depth=4, subsample=0.5, loss_function=\"RMSE\")\n",
        "r2_scores = {\"training\": [], \"testing\": []}\n",
        "rmse = {\"training\": [], \"testing\": []}\n",
        "mae = {\"training\": [], \"testing\": []}\n",
        "mape = {\"training\": [], \"testing\": []}\n",
        "p_ratio = {\"training\": [], \"testing\": []}\n",
        "cov = {\"training\": [], \"testing\": []}\n",
        "\n",
        "for i in randomlist:\n",
        "    X_train, X_test, y_train, y_test = train_test_split(X, y, test_size=0.20, random_state=i)\n",
        "    xgb.fit(X_train, y_train)\n",
        "    X_test[\"failure_mode\"] = catb_tuned_c.predict((X_test.iloc[:, :-1]))\n",
        "    y_pred_train = xgb.predict(X_train)\n",
        "    y_pred_test = xgb.predict(X_test)\n",
        "    r2_scores[\"training\"].append(r2_score(y_train, y_pred_train))\n",
        "    r2_scores[\"testing\"].append(r2_score(y_test, y_pred_test))\n",
        "    rmse[\"training\"].append(mean_squared_error(y_train, y_pred_train, squared=False))\n",
        "    rmse[\"testing\"].append(mean_squared_error(y_test, y_pred_test, squared=False))\n",
        "    mae[\"training\"].append(mean_absolute_error(y_train, y_pred_train))\n",
        "    mae[\"testing\"].append(mean_absolute_error(y_test, y_pred_test))\n",
        "    mape[\"training\"].append(mean_absolute_percentage_error(y_train, y_pred_train))\n",
        "    mape[\"testing\"].append(mean_absolute_percentage_error(y_test, y_pred_test))\n",
        "    p_ratio[\"training\"].append(np.mean(y_pred_train / y_train))\n",
        "    p_ratio[\"testing\"].append(np.mean(y_pred_test / y_test))\n",
        "    cov[\"training\"].append(np.cov(y_pred_train / y_train).tolist())\n",
        "    cov[\"testing\"].append(np.cov(y_pred_test / y_test).tolist())\n",
        "\n",
        "print(f\"Average Training R2 Score: {round(np.mean(r2_scores['training']), 4)}, ({round(np.std(r2_scores['training']), 4)})\")\n",
        "print(f\"Average Testing R2 Score: {round(np.mean(r2_scores['testing']), 4)}, ({round(np.std(r2_scores['testing']), 4)})\")\n",
        "\n",
        "print(f\"Average Training RMSE: {round(np.mean(rmse['training']), 4)}, ({round(np.std(rmse['training']), 4)})\")\n",
        "print(f\"Average Testing RMSE: {round(np.mean(rmse['testing']), 4)}, ({round(np.std(rmse['testing']), 4)})\")\n",
        "\n",
        "print(f\"Average Training Mean Absolute Error: {round(np.mean(mae['training']), 4)}, ({round(np.std(mae['training']), 4)})\")\n",
        "print(f\"Average Testing Mean Absolute Error: {round(np.mean(mae['testing']), 4)}, ({round(np.std(mae['testing']), 4)})\")\n",
        "\n",
        "print(f\"Average Training Mean Absolute Percentage Error: {round(np.mean(mape['training']), 4)}, ({round(np.std(mape['training']), 4)})\")\n",
        "print(f\"Average Testing Mean Absolute Percentage Error: {round(np.mean(mape['testing']), 4)}, ({round(np.std(mape['testing']), 4)})\")\n",
        "\n",
        "print(f\"Average Training Prediction Ratio: {round(np.mean(p_ratio['training']), 4)}, ({round(np.std(p_ratio['training']), 4)})\")\n",
        "print(f\"Average Testing Prediction Ratio: {round(np.mean(p_ratio['testing']), 4)}, ({round(np.std(p_ratio['testing']), 4)})\")\n",
        "\n",
        "print(f\"Average Covariance of Training Prediction Ratios: {round(np.mean(cov['training']), 4)}, ({round(np.std(cov['training']), 4)})\")\n",
        "print(f\"Average Covariance of Testing Prediction Ratios: {round(np.mean(cov['testing']), 4)}, ({round(np.std(cov['testing']), 4)})\")\n",
        "\n",
        "print(\"Random state that gives the best testing R2:\", randomlist[np.argmax(r2_scores[\"testing\"])])"
      ]
    },
    {
      "cell_type": "code",
      "execution_count": 46,
      "metadata": {
        "id": "PRfQLKT7ae0x"
      },
      "outputs": [],
      "source": [
        "df_scores_xgb = pd.DataFrame()\n",
        "df_scores_xgb[\"R\\u00b2\"] = r2_scores[\"testing\"]\n",
        "df_scores_xgb[\"RMSE (kN)\"] = rmse[\"testing\"]\n",
        "df_scores_xgb[\"MAE (kN)\"] = mae[\"testing\"]\n",
        "df_scores_xgb[\"MAPE (%)\"] = mape[\"testing\"]\n",
        "df_scores_xgb[\"Vpred / Vtrue\"] = p_ratio[\"testing\"]\n",
        "df_scores_xgb[\"COV\"] = cov[\"testing\"]"
      ]
    },
    {
      "cell_type": "markdown",
      "metadata": {
        "id": "m5B_JDvNtXfu"
      },
      "source": [
        "## SVM"
      ]
    },
    {
      "cell_type": "code",
      "execution_count": null,
      "metadata": {
        "id": "Spnr19XELRjX"
      },
      "outputs": [],
      "source": [
        "svm = SVR()\n",
        "\n",
        "svm_params = {\n",
        "    'C': [0.0001, 0.001, 0.1, 1, 5, 10, 50, 100, 1000, 10000],\n",
        "    \"kernel\":['linear','poly','rbf','sigmoid'],\n",
        "    \"gamma\": [\"auto\", \"scale\"]\n",
        "}\n",
        "\n",
        "X_train, X_test, y_train, y_test = train_test_split(X_scaled, y, test_size=0.2)\n",
        "gs_cv = GridSearchCV(svm,\n",
        "                    svm_params,\n",
        "                    cv = 5, \n",
        "                    n_jobs = -1, \n",
        "                    verbose = 2  \n",
        "                    ).fit(X_train, y_train)\n",
        "print(f\"Best params: {gs_cv.best_params_}\")\n",
        "svm_tuned = SVR(**gs_cv.best_params_).fit(X_train, y_train)\n",
        "y_pred = svm_tuned.predict(X_test)\n",
        "score = r2_score(y_test, y_pred)\n",
        "print(f\"Accuracy Score: {round(score, 4)}\")"
      ]
    },
    {
      "cell_type": "code",
      "execution_count": 47,
      "metadata": {
        "colab": {
          "base_uri": "https://localhost:8080/"
        },
        "id": "7BQfvnaeLvYG",
        "outputId": "17936211-22b3-4fba-fc9f-9df0adfaafd8"
      },
      "outputs": [
        {
          "name": "stdout",
          "output_type": "stream",
          "text": [
            "Average Training R2 Score: 0.9936, (0.0019)\n",
            "Average Testing R2 Score: 0.9226, (0.0256)\n",
            "Average Training RMSE: 49.5117, (8.0856)\n",
            "Average Testing RMSE: 169.0609, (29.6883)\n",
            "Average Training Mean Absolute Error: 13.8974, (1.4807)\n",
            "Average Testing Mean Absolute Error: 99.4727, (14.4436)\n",
            "Average Training Mean Absolute Percentage Error: 0.0308, (0.0026)\n",
            "Average Testing Mean Absolute Percentage Error: 0.2488, (0.0562)\n",
            "Average Training Prediction Ratio: 1.0053, (0.0029)\n",
            "Average Testing Prediction Ratio: 1.0724, (0.0584)\n",
            "Average Covariance of Training Prediction Ratios: 0.0074, (0.0015)\n",
            "Average Covariance of Testing Prediction Ratios: 0.2625, (0.2258)\n",
            "Random state that gives the best testing R2: 8025\n"
          ]
        }
      ],
      "source": [
        "svm = SVR(C=10000, gamma=\"scale\", kernel=\"rbf\")\n",
        "r2_scores = {\"training\": [], \"testing\": []}\n",
        "rmse = {\"training\": [], \"testing\": []}\n",
        "mae = {\"training\": [], \"testing\": []}\n",
        "mape = {\"training\": [], \"testing\": []}\n",
        "p_ratio = {\"training\": [], \"testing\": []}\n",
        "cov = {\"training\": [], \"testing\": []}\n",
        "\n",
        "for i in randomlist:\n",
        "    X_train, X_test, y_train, y_test = train_test_split(X_scaled, y, test_size=0.20, random_state=i)\n",
        "    svm.fit(X_train, y_train)\n",
        "    y_pred_train = svm.predict(X_train)\n",
        "    y_pred_test = svm.predict(X_test)\n",
        "    r2_scores[\"training\"].append(r2_score(y_train, y_pred_train))\n",
        "    r2_scores[\"testing\"].append(r2_score(y_test, y_pred_test))\n",
        "    rmse[\"training\"].append(mean_squared_error(y_train, y_pred_train, squared=False))\n",
        "    rmse[\"testing\"].append(mean_squared_error(y_test, y_pred_test, squared=False))\n",
        "    mae[\"training\"].append(mean_absolute_error(y_train, y_pred_train))\n",
        "    mae[\"testing\"].append(mean_absolute_error(y_test, y_pred_test))\n",
        "    mape[\"training\"].append(mean_absolute_percentage_error(y_train, y_pred_train))\n",
        "    mape[\"testing\"].append(mean_absolute_percentage_error(y_test, y_pred_test))\n",
        "    p_ratio[\"training\"].append(np.mean(y_pred_train / y_train))\n",
        "    p_ratio[\"testing\"].append(np.mean(y_pred_test / y_test))\n",
        "    cov[\"training\"].append(np.cov(y_pred_train / y_train).tolist())\n",
        "    cov[\"testing\"].append(np.cov(y_pred_test / y_test).tolist())\n",
        "\n",
        "print(f\"Average Training R2 Score: {round(np.mean(r2_scores['training']), 4)}, ({round(np.std(r2_scores['training']), 4)})\")\n",
        "print(f\"Average Testing R2 Score: {round(np.mean(r2_scores['testing']), 4)}, ({round(np.std(r2_scores['testing']), 4)})\")\n",
        "\n",
        "print(f\"Average Training RMSE: {round(np.mean(rmse['training']), 4)}, ({round(np.std(rmse['training']), 4)})\")\n",
        "print(f\"Average Testing RMSE: {round(np.mean(rmse['testing']), 4)}, ({round(np.std(rmse['testing']), 4)})\")\n",
        "\n",
        "print(f\"Average Training Mean Absolute Error: {round(np.mean(mae['training']), 4)}, ({round(np.std(mae['training']), 4)})\")\n",
        "print(f\"Average Testing Mean Absolute Error: {round(np.mean(mae['testing']), 4)}, ({round(np.std(mae['testing']), 4)})\")\n",
        "\n",
        "print(f\"Average Training Mean Absolute Percentage Error: {round(np.mean(mape['training']), 4)}, ({round(np.std(mape['training']), 4)})\")\n",
        "print(f\"Average Testing Mean Absolute Percentage Error: {round(np.mean(mape['testing']), 4)}, ({round(np.std(mape['testing']), 4)})\")\n",
        "\n",
        "print(f\"Average Training Prediction Ratio: {round(np.mean(p_ratio['training']), 4)}, ({round(np.std(p_ratio['training']), 4)})\")\n",
        "print(f\"Average Testing Prediction Ratio: {round(np.mean(p_ratio['testing']), 4)}, ({round(np.std(p_ratio['testing']), 4)})\")\n",
        "\n",
        "print(f\"Average Covariance of Training Prediction Ratios: {round(np.mean(cov['training']), 4)}, ({round(np.std(cov['training']), 4)})\")\n",
        "print(f\"Average Covariance of Testing Prediction Ratios: {round(np.mean(cov['testing']), 4)}, ({round(np.std(cov['testing']), 4)})\")\n",
        "\n",
        "print(\"Random state that gives the best testing R2:\", randomlist[np.argmax(r2_scores[\"testing\"])])"
      ]
    },
    {
      "cell_type": "code",
      "execution_count": 48,
      "metadata": {
        "id": "2faOhymoax6p"
      },
      "outputs": [],
      "source": [
        "df_scores_svm = pd.DataFrame()\n",
        "df_scores_svm[\"R\\u00b2\"] = r2_scores[\"testing\"]\n",
        "df_scores_svm[\"RMSE (kN)\"] = rmse[\"testing\"]\n",
        "df_scores_svm[\"MAE (kN)\"] = mae[\"testing\"]\n",
        "df_scores_svm[\"MAPE (%)\"] = mape[\"testing\"]\n",
        "df_scores_svm[\"Vpred / Vtrue\"] = p_ratio[\"testing\"]\n",
        "df_scores_svm[\"COV\"] = cov[\"testing\"]"
      ]
    },
    {
      "cell_type": "markdown",
      "metadata": {
        "id": "pwvlnFIrtaVu"
      },
      "source": [
        "## MLP"
      ]
    },
    {
      "cell_type": "code",
      "execution_count": null,
      "metadata": {
        "id": "GKIlLs3rMMWG"
      },
      "outputs": [],
      "source": [
        "mlp = MLPRegressor()\n",
        "\n",
        "mlp_params = {\"alpha\": [1, 0.1, 0.01, 0.001], \n",
        "              \"hidden_layer_sizes\": [(5, 5),\n",
        "                                     (10, 10), \n",
        "                                     (10, 10, 10)],\n",
        "              \"solver\" : [\"lbfgs\",\"adam\",\"sgd\"], \n",
        "               # lbfgs: quasi-Newton metodu\n",
        "               # sgd: stochastic gradient descent\n",
        "               # adam: stochastic gradient-based optimizer proposed by Kingma, Diederik, and Jimmy Ba\n",
        "              \"activation\": [\"tanh\",\"logistic\", \"relu\"]}\n",
        "\n",
        "\n",
        "X_train, X_test, y_train, y_test = train_test_split(X_scaled, y, test_size=0.2)\n",
        "gs_cv = GridSearchCV(mlp,\n",
        "                     mlp_params,\n",
        "                     cv = 5, \n",
        "                     n_jobs = -1, \n",
        "                     verbose = 2  \n",
        "                     ).fit(X_train, y_train)\n",
        "\n",
        "print(f\"Best params: {gs_cv.best_params_}\")\n",
        "mlp_tuned = MLPRegressor(**gs_cv.best_params_).fit(X_train, y_train)\n",
        "y_pred = mlp_tuned.predict(X_test)\n",
        "score = r2_score(y_test, y_pred)\n",
        "print(f\"Accuracy Score: {round(score, 4)}\")"
      ]
    },
    {
      "cell_type": "code",
      "execution_count": 56,
      "metadata": {
        "colab": {
          "base_uri": "https://localhost:8080/"
        },
        "id": "__AedfS5MbR3",
        "outputId": "cfda7f62-883d-4478-ed75-0a8ad7ef0400"
      },
      "outputs": [
        {
          "name": "stdout",
          "output_type": "stream",
          "text": [
            "Average Training R2 Score: 0.9839, (0.0047)\n",
            "Average Testing R2 Score: 0.8767, (0.1087)\n",
            "Average Training RMSE: 78.7157, (11.2465)\n",
            "Average Testing RMSE: 205.4481, (67.44)\n",
            "Average Training Mean Absolute Error: 56.0625, (7.3304)\n",
            "Average Testing Mean Absolute Error: 122.4134, (22.6094)\n",
            "Average Training Mean Absolute Percentage Error: 0.1871, (0.0377)\n",
            "Average Testing Mean Absolute Percentage Error: 0.3184, (0.0987)\n",
            "Average Training Prediction Ratio: 1.0711, (0.0374)\n",
            "Average Testing Prediction Ratio: 1.1386, (0.1077)\n",
            "Average Covariance of Training Prediction Ratios: 0.1369, (0.1128)\n",
            "Average Covariance of Testing Prediction Ratios: 0.5213, (1.0638)\n",
            "Random state that gives the best testing R2: 8316\n"
          ]
        }
      ],
      "source": [
        "mlp = MLPRegressor(activation=\"relu\", alpha=0.01, hidden_layer_sizes=(10,15,10), solver=\"lbfgs\")\n",
        "r2_scores = {\"training\": [], \"testing\": []}\n",
        "rmse = {\"training\": [], \"testing\": []}\n",
        "mae = {\"training\": [], \"testing\": []}\n",
        "mape = {\"training\": [], \"testing\": []}\n",
        "p_ratio = {\"training\": [], \"testing\": []}\n",
        "cov = {\"training\": [], \"testing\": []}\n",
        "\n",
        "for i in randomlist:\n",
        "    X_train, X_test, y_train, y_test = train_test_split(X_scaled, y, test_size=0.20, random_state=i)\n",
        "    mlp.fit(X_train, y_train)\n",
        "    y_pred_train = mlp.predict(X_train)\n",
        "    y_pred_test = mlp.predict(X_test)\n",
        "    r2_scores[\"training\"].append(r2_score(y_train, y_pred_train))\n",
        "    r2_scores[\"testing\"].append(r2_score(y_test, y_pred_test))\n",
        "    rmse[\"training\"].append(mean_squared_error(y_train, y_pred_train, squared=False))\n",
        "    rmse[\"testing\"].append(mean_squared_error(y_test, y_pred_test, squared=False))\n",
        "    mae[\"training\"].append(mean_absolute_error(y_train, y_pred_train))\n",
        "    mae[\"testing\"].append(mean_absolute_error(y_test, y_pred_test))\n",
        "    mape[\"training\"].append(mean_absolute_percentage_error(y_train, y_pred_train))\n",
        "    mape[\"testing\"].append(mean_absolute_percentage_error(y_test, y_pred_test))\n",
        "    p_ratio[\"training\"].append(np.mean(y_pred_train / y_train))\n",
        "    p_ratio[\"testing\"].append(np.mean(y_pred_test / y_test))\n",
        "    cov[\"training\"].append(np.cov(y_pred_train / y_train).tolist())\n",
        "    cov[\"testing\"].append(np.cov(y_pred_test / y_test).tolist())\n",
        "\n",
        "print(f\"Average Training R2 Score: {round(np.mean(r2_scores['training']), 4)}, ({round(np.std(r2_scores['training']), 4)})\")\n",
        "print(f\"Average Testing R2 Score: {round(np.mean(r2_scores['testing']), 4)}, ({round(np.std(r2_scores['testing']), 4)})\")\n",
        "\n",
        "print(f\"Average Training RMSE: {round(np.mean(rmse['training']), 4)}, ({round(np.std(rmse['training']), 4)})\")\n",
        "print(f\"Average Testing RMSE: {round(np.mean(rmse['testing']), 4)}, ({round(np.std(rmse['testing']), 4)})\")\n",
        "\n",
        "print(f\"Average Training Mean Absolute Error: {round(np.mean(mae['training']), 4)}, ({round(np.std(mae['training']), 4)})\")\n",
        "print(f\"Average Testing Mean Absolute Error: {round(np.mean(mae['testing']), 4)}, ({round(np.std(mae['testing']), 4)})\")\n",
        "\n",
        "print(f\"Average Training Mean Absolute Percentage Error: {round(np.mean(mape['training']), 4)}, ({round(np.std(mape['training']), 4)})\")\n",
        "print(f\"Average Testing Mean Absolute Percentage Error: {round(np.mean(mape['testing']), 4)}, ({round(np.std(mape['testing']), 4)})\")\n",
        "\n",
        "print(f\"Average Training Prediction Ratio: {round(np.mean(p_ratio['training']), 4)}, ({round(np.std(p_ratio['training']), 4)})\")\n",
        "print(f\"Average Testing Prediction Ratio: {round(np.mean(p_ratio['testing']), 4)}, ({round(np.std(p_ratio['testing']), 4)})\")\n",
        "\n",
        "print(f\"Average Covariance of Training Prediction Ratios: {round(np.mean(cov['training']), 4)}, ({round(np.std(cov['training']), 4)})\")\n",
        "print(f\"Average Covariance of Testing Prediction Ratios: {round(np.mean(cov['testing']), 4)}, ({round(np.std(cov['testing']), 4)})\")\n",
        "\n",
        "print(\"Random state that gives the best testing R2:\", randomlist[np.argmax(r2_scores[\"testing\"])])"
      ]
    },
    {
      "cell_type": "code",
      "execution_count": 57,
      "metadata": {
        "id": "-eiRdVtMbEs6"
      },
      "outputs": [],
      "source": [
        "df_scores_mlp = pd.DataFrame()\n",
        "df_scores_mlp[\"R\\u00b2\"] = r2_scores[\"testing\"]\n",
        "df_scores_mlp[\"RMSE (kN)\"] = rmse[\"testing\"]\n",
        "df_scores_mlp[\"MAE (kN)\"] = mae[\"testing\"]\n",
        "df_scores_mlp[\"MAPE (%)\"] = mape[\"testing\"]\n",
        "df_scores_mlp[\"Vpred / Vtrue\"] = p_ratio[\"testing\"]\n",
        "df_scores_mlp[\"COV\"] = cov[\"testing\"]"
      ]
    },
    {
      "cell_type": "markdown",
      "metadata": {
        "id": "87SLKpZTtdNo"
      },
      "source": [
        "## Random Forests"
      ]
    },
    {
      "cell_type": "code",
      "execution_count": null,
      "metadata": {
        "id": "o71hstlMOB5v"
      },
      "outputs": [],
      "source": [
        "rf = RandomForestRegressor()\n",
        "\n",
        "rf_params = {\"max_depth\": [3, 6, 8, 10], \n",
        "            \"max_features\": [2, 5, 8], # The number of features to consider when looking for the best split\n",
        "            \"n_estimators\": [50, 100, 150, 200], \n",
        "            \"min_samples_split\": [2, 5, 8, 10]}  # The minimum number of samples required to split an internal node\n",
        "\n",
        "X_train, X_test, y_train, y_test = train_test_split(X, y, test_size=0.2)\n",
        "gs_cv = GridSearchCV(rf,\n",
        "                     rf_params,\n",
        "                     cv = 5, \n",
        "                     n_jobs = -1, \n",
        "                     verbose = 2  \n",
        "                     ).fit(X_train, y_train)\n",
        "print(f\"Best params: {gs_cv.best_params_}\")\n",
        "rf_tuned = RandomForestRegressor(**gs_cv.best_params_).fit(X_train, y_train)\n",
        "y_pred = rf_tuned.predict(X_test)\n",
        "score = r2_score(y_test, y_pred)\n",
        "print(f\"Accuracy Score: {round(score, 4)}\")"
      ]
    },
    {
      "cell_type": "code",
      "execution_count": 51,
      "metadata": {
        "colab": {
          "base_uri": "https://localhost:8080/"
        },
        "id": "lRQSVnK9OKFm",
        "outputId": "25514e45-3f3a-4238-9367-6f53d038f8eb"
      },
      "outputs": [
        {
          "name": "stdout",
          "output_type": "stream",
          "text": [
            "Average Training R2 Score: 0.9871, (0.0013)\n",
            "Average Testing R2 Score: 0.9152, (0.0263)\n",
            "Average Training RMSE: 71.1219, (3.363)\n",
            "Average Testing RMSE: 177.6803, (27.9827)\n",
            "Average Training Mean Absolute Error: 46.0834, (1.7787)\n",
            "Average Testing Mean Absolute Error: 113.0548, (13.9938)\n",
            "Average Training Mean Absolute Percentage Error: 0.1076, (0.0056)\n",
            "Average Testing Mean Absolute Percentage Error: 0.2595, (0.0411)\n",
            "Average Training Prediction Ratio: 1.0618, (0.0054)\n",
            "Average Testing Prediction Ratio: 1.1615, (0.0493)\n",
            "Average Covariance of Training Prediction Ratios: 0.0282, (0.0046)\n",
            "Average Covariance of Testing Prediction Ratios: 0.1649, (0.0692)\n",
            "Random state that gives the best testing R2: 9177\n"
          ]
        }
      ],
      "source": [
        "rf = RandomForestRegressor(max_depth=10, max_features=5, min_samples_split=2, n_estimators=100)\n",
        "r2_scores = {\"training\": [], \"testing\": []}\n",
        "rmse = {\"training\": [], \"testing\": []}\n",
        "mae = {\"training\": [], \"testing\": []}\n",
        "mape = {\"training\": [], \"testing\": []}\n",
        "p_ratio = {\"training\": [], \"testing\": []}\n",
        "cov = {\"training\": [], \"testing\": []}\n",
        "\n",
        "for i in randomlist:\n",
        "    X_train, X_test, y_train, y_test = train_test_split(X, y, test_size=0.20, random_state=i)\n",
        "    rf.fit(X_train, y_train)\n",
        "    y_pred_train = rf.predict(X_train)\n",
        "    y_pred_test = rf.predict(X_test)\n",
        "    r2_scores[\"training\"].append(r2_score(y_train, y_pred_train))\n",
        "    r2_scores[\"testing\"].append(r2_score(y_test, y_pred_test))\n",
        "    rmse[\"training\"].append(mean_squared_error(y_train, y_pred_train, squared=False))\n",
        "    rmse[\"testing\"].append(mean_squared_error(y_test, y_pred_test, squared=False))\n",
        "    mae[\"training\"].append(mean_absolute_error(y_train, y_pred_train))\n",
        "    mae[\"testing\"].append(mean_absolute_error(y_test, y_pred_test))\n",
        "    mape[\"training\"].append(mean_absolute_percentage_error(y_train, y_pred_train))\n",
        "    mape[\"testing\"].append(mean_absolute_percentage_error(y_test, y_pred_test))\n",
        "    p_ratio[\"training\"].append(np.mean(y_pred_train / y_train))\n",
        "    p_ratio[\"testing\"].append(np.mean(y_pred_test / y_test))\n",
        "    cov[\"training\"].append(np.cov(y_pred_train / y_train).tolist())\n",
        "    cov[\"testing\"].append(np.cov(y_pred_test / y_test).tolist())\n",
        "\n",
        "print(f\"Average Training R2 Score: {round(np.mean(r2_scores['training']), 4)}, ({round(np.std(r2_scores['training']), 4)})\")\n",
        "print(f\"Average Testing R2 Score: {round(np.mean(r2_scores['testing']), 4)}, ({round(np.std(r2_scores['testing']), 4)})\")\n",
        "\n",
        "print(f\"Average Training RMSE: {round(np.mean(rmse['training']), 4)}, ({round(np.std(rmse['training']), 4)})\")\n",
        "print(f\"Average Testing RMSE: {round(np.mean(rmse['testing']), 4)}, ({round(np.std(rmse['testing']), 4)})\")\n",
        "\n",
        "print(f\"Average Training Mean Absolute Error: {round(np.mean(mae['training']), 4)}, ({round(np.std(mae['training']), 4)})\")\n",
        "print(f\"Average Testing Mean Absolute Error: {round(np.mean(mae['testing']), 4)}, ({round(np.std(mae['testing']), 4)})\")\n",
        "\n",
        "print(f\"Average Training Mean Absolute Percentage Error: {round(np.mean(mape['training']), 4)}, ({round(np.std(mape['training']), 4)})\")\n",
        "print(f\"Average Testing Mean Absolute Percentage Error: {round(np.mean(mape['testing']), 4)}, ({round(np.std(mape['testing']), 4)})\")\n",
        "\n",
        "print(f\"Average Training Prediction Ratio: {round(np.mean(p_ratio['training']), 4)}, ({round(np.std(p_ratio['training']), 4)})\")\n",
        "print(f\"Average Testing Prediction Ratio: {round(np.mean(p_ratio['testing']), 4)}, ({round(np.std(p_ratio['testing']), 4)})\")\n",
        "\n",
        "print(f\"Average Covariance of Training Prediction Ratios: {round(np.mean(cov['training']), 4)}, ({round(np.std(cov['training']), 4)})\")\n",
        "print(f\"Average Covariance of Testing Prediction Ratios: {round(np.mean(cov['testing']), 4)}, ({round(np.std(cov['testing']), 4)})\")\n",
        "\n",
        "print(\"Random state that gives the best testing R2:\", randomlist[np.argmax(r2_scores[\"testing\"])])"
      ]
    },
    {
      "cell_type": "code",
      "execution_count": 52,
      "metadata": {
        "id": "23v3B8rNbOCa"
      },
      "outputs": [],
      "source": [
        "df_scores_rf = pd.DataFrame()\n",
        "df_scores_rf[\"R\\u00b2\"] = r2_scores[\"testing\"]\n",
        "df_scores_rf[\"RMSE (kN)\"] = rmse[\"testing\"]\n",
        "df_scores_rf[\"MAE (kN)\"] = mae[\"testing\"]\n",
        "df_scores_rf[\"MAPE (%)\"] = mape[\"testing\"]\n",
        "df_scores_rf[\"Vpred / Vtrue\"] = p_ratio[\"testing\"]\n",
        "df_scores_rf[\"COV\"] = cov[\"testing\"]"
      ]
    },
    {
      "cell_type": "markdown",
      "metadata": {
        "id": "vhUUcXwAtid4"
      },
      "source": [
        "## Ridge Regression"
      ]
    },
    {
      "cell_type": "code",
      "execution_count": null,
      "metadata": {
        "id": "451s8QFjMNSD"
      },
      "outputs": [],
      "source": [
        "lr = Ridge()\n",
        "\n",
        "lr_params = {'alpha': [0.0001, 0.001, 0.01, 0.1, 1, 10],\n",
        "            'fit_intercept': [True, False],\n",
        "            'normalize': [True, False],\n",
        "            'solver': ['auto', 'svd', 'cholesky', 'lsqr', 'sparse_cg', 'sag', 'saga'],\n",
        "            }\n",
        "\n",
        "X_train, X_test, y_train, y_test = train_test_split(X_scaled, y, test_size=0.2)\n",
        "gs_cv = GridSearchCV(lr,\n",
        "                     lr_params,\n",
        "                     cv = 5, \n",
        "                     n_jobs = -1, \n",
        "                     verbose = 2  \n",
        "                     ).fit(X_train, y_train)\n",
        "print(f\"Best params: {gs_cv.best_params_}\")\n",
        "lr_tuned = Ridge(**gs_cv.best_params_).fit(X_train, y_train)\n",
        "y_pred = lr_tuned.predict(X_test)\n",
        "    \n",
        "score = r2_score(y_test, y_pred)\n",
        "print(f\"Accuracy Score: {round(score, 4)}\")"
      ]
    },
    {
      "cell_type": "code",
      "execution_count": 53,
      "metadata": {
        "colab": {
          "base_uri": "https://localhost:8080/"
        },
        "id": "8XzegDFHQZSr",
        "outputId": "8b643751-0709-48f1-ce44-9f5d4c7ba95f"
      },
      "outputs": [
        {
          "name": "stdout",
          "output_type": "stream",
          "text": [
            "Average Training R2 Score: 0.785, (0.0087)\n",
            "Average Testing R2 Score: 0.7542, (0.0386)\n",
            "Average Training RMSE: 290.7475, (7.3364)\n",
            "Average Testing RMSE: 305.0756, (31.7608)\n",
            "Average Training Mean Absolute Error: 212.7055, (5.783)\n",
            "Average Testing Mean Absolute Error: 223.1534, (19.6619)\n",
            "Average Training Mean Absolute Percentage Error: 1.0501, (0.0574)\n",
            "Average Testing Mean Absolute Percentage Error: 1.0833, (0.2996)\n",
            "Average Training Prediction Ratio: 0.6969, (0.0508)\n",
            "Average Testing Prediction Ratio: 0.7246, (0.3408)\n",
            "Average Covariance of Training Prediction Ratios: 7.7246, (1.1915)\n",
            "Average Covariance of Testing Prediction Ratios: 8.3167, (5.979)\n",
            "Random state that gives the best testing R2: 7756\n"
          ]
        }
      ],
      "source": [
        "lr = Ridge(alpha=0.1, fit_intercept=True, normalize=True, solver=\"sparse_cg\")\n",
        "r2_scores = {\"training\": [], \"testing\": []}\n",
        "rmse = {\"training\": [], \"testing\": []}\n",
        "mae = {\"training\": [], \"testing\": []}\n",
        "mape = {\"training\": [], \"testing\": []}\n",
        "p_ratio = {\"training\": [], \"testing\": []}\n",
        "cov = {\"training\": [], \"testing\": []}\n",
        "\n",
        "for i in randomlist:\n",
        "    X_train, X_test, y_train, y_test = train_test_split(X_scaled, y, test_size=0.20, random_state=i)\n",
        "    lr.fit(X_train, y_train)\n",
        "    y_pred_train = lr.predict(X_train)\n",
        "    y_pred_test = lr.predict(X_test)\n",
        "    r2_scores[\"training\"].append(r2_score(y_train, y_pred_train))\n",
        "    r2_scores[\"testing\"].append(r2_score(y_test, y_pred_test))\n",
        "    rmse[\"training\"].append(mean_squared_error(y_train, y_pred_train, squared=False))\n",
        "    rmse[\"testing\"].append(mean_squared_error(y_test, y_pred_test, squared=False))\n",
        "    mae[\"training\"].append(mean_absolute_error(y_train, y_pred_train))\n",
        "    mae[\"testing\"].append(mean_absolute_error(y_test, y_pred_test))\n",
        "    mape[\"training\"].append(mean_absolute_percentage_error(y_train, y_pred_train))\n",
        "    mape[\"testing\"].append(mean_absolute_percentage_error(y_test, y_pred_test))\n",
        "    p_ratio[\"training\"].append(np.mean(y_pred_train / y_train))\n",
        "    p_ratio[\"testing\"].append(np.mean(y_pred_test / y_test))\n",
        "    cov[\"training\"].append(np.cov(y_pred_train / y_train).tolist())\n",
        "    cov[\"testing\"].append(np.cov(y_pred_test / y_test).tolist())\n",
        "\n",
        "print(f\"Average Training R2 Score: {round(np.mean(r2_scores['training']), 4)}, ({round(np.std(r2_scores['training']), 4)})\")\n",
        "print(f\"Average Testing R2 Score: {round(np.mean(r2_scores['testing']), 4)}, ({round(np.std(r2_scores['testing']), 4)})\")\n",
        "\n",
        "print(f\"Average Training RMSE: {round(np.mean(rmse['training']), 4)}, ({round(np.std(rmse['training']), 4)})\")\n",
        "print(f\"Average Testing RMSE: {round(np.mean(rmse['testing']), 4)}, ({round(np.std(rmse['testing']), 4)})\")\n",
        "\n",
        "print(f\"Average Training Mean Absolute Error: {round(np.mean(mae['training']), 4)}, ({round(np.std(mae['training']), 4)})\")\n",
        "print(f\"Average Testing Mean Absolute Error: {round(np.mean(mae['testing']), 4)}, ({round(np.std(mae['testing']), 4)})\")\n",
        "\n",
        "print(f\"Average Training Mean Absolute Percentage Error: {round(np.mean(mape['training']), 4)}, ({round(np.std(mape['training']), 4)})\")\n",
        "print(f\"Average Testing Mean Absolute Percentage Error: {round(np.mean(mape['testing']), 4)}, ({round(np.std(mape['testing']), 4)})\")\n",
        "\n",
        "print(f\"Average Training Prediction Ratio: {round(np.mean(p_ratio['training']), 4)}, ({round(np.std(p_ratio['training']), 4)})\")\n",
        "print(f\"Average Testing Prediction Ratio: {round(np.mean(p_ratio['testing']), 4)}, ({round(np.std(p_ratio['testing']), 4)})\")\n",
        "\n",
        "print(f\"Average Covariance of Training Prediction Ratios: {round(np.mean(cov['training']), 4)}, ({round(np.std(cov['training']), 4)})\")\n",
        "print(f\"Average Covariance of Testing Prediction Ratios: {round(np.mean(cov['testing']), 4)}, ({round(np.std(cov['testing']), 4)})\")\n",
        "\n",
        "print(\"Random state that gives the best testing R2:\", randomlist[np.argmax(r2_scores[\"testing\"])])"
      ]
    },
    {
      "cell_type": "code",
      "execution_count": 54,
      "metadata": {
        "id": "U5iNOkmGQig-"
      },
      "outputs": [],
      "source": [
        "df_scores_lr = pd.DataFrame()\n",
        "df_scores_lr[\"R\\u00b2\"] = r2_scores[\"testing\"]\n",
        "df_scores_lr[\"RMSE (kN)\"] = rmse[\"testing\"]\n",
        "df_scores_lr[\"MAE (kN)\"] = mae[\"testing\"]\n",
        "df_scores_lr[\"MAPE (%)\"] = mape[\"testing\"]\n",
        "df_scores_lr[\"Vpred / Vtrue\"] = p_ratio[\"testing\"]\n",
        "df_scores_lr[\"COV\"] = cov[\"testing\"]"
      ]
    },
    {
      "cell_type": "markdown",
      "metadata": {
        "id": "P7v83JZayHiT"
      },
      "source": [
        "## Overall Evaluation"
      ]
    },
    {
      "cell_type": "code",
      "execution_count": 58,
      "metadata": {
        "colab": {
          "base_uri": "https://localhost:8080/",
          "height": 711
        },
        "id": "8bArA0mhr563",
        "outputId": "caa96bea-3ee4-4e2e-c339-c6a73e2da7ed"
      },
      "outputs": [
        {
          "data": {
            "image/png": "[encoded data removed]",
            "text/plain": [
              "<Figure size 1080x720 with 6 Axes>"
            ]
          },
          "metadata": {
            "needs_background": "light"
          },
          "output_type": "display_data"
        }
      ],
      "source": [
        "r2_dict = {'RLR': df_scores_lr[\"R\\u00b2\"].values, 'RF': df_scores_rf[\"R\\u00b2\"].values,\n",
        "           'MLP': df_scores_mlp[\"R\\u00b2\"].values, 'SVM': df_scores_svm[\"R\\u00b2\"].values,\n",
        "           'XGBoost': df_scores_xgb[\"R\\u00b2\"].values, 'LightGBM': df_scores_lgbm[\"R\\u00b2\"].values,\n",
        "           'CatBoost': df_scores_catb[\"R\\u00b2\"].values,\n",
        "           }\n",
        "\n",
        "rmse_dict = {'RLR': df_scores_lr[\"RMSE (kN)\"].values, 'RF': df_scores_rf[\"RMSE (kN)\"].values,\n",
        "           'MLP': df_scores_mlp[\"RMSE (kN)\"].values, 'SVM': df_scores_svm[\"RMSE (kN)\"].values,\n",
        "           'XGBoost': df_scores_xgb[\"RMSE (kN)\"].values, 'LightGBM': df_scores_lgbm[\"RMSE (kN)\"].values,\n",
        "           'CatBoost': df_scores_catb[\"RMSE (kN)\"].values,\n",
        "           }\n",
        "\n",
        "mae_dict = {'RLR': df_scores_lr[\"MAE (kN)\"].values, 'RF': df_scores_rf[\"MAE (kN)\"].values,\n",
        "           'MLP': df_scores_mlp[\"MAE (kN)\"].values, 'SVM': df_scores_svm[\"MAE (kN)\"].values,\n",
        "           'XGBoost': df_scores_xgb[\"MAE (kN)\"].values, 'LightGBM': df_scores_lgbm[\"MAE (kN)\"].values,\n",
        "           'CatBoost': df_scores_catb[\"MAE (kN)\"].values,\n",
        "           }\n",
        "\n",
        "mape_dict = {'RLR': df_scores_lr[\"MAPE (%)\"].values, 'RF': df_scores_rf[\"MAPE (%)\"].values,\n",
        "           'MLP': df_scores_mlp[\"MAPE (%)\"].values, 'SVM': df_scores_svm[\"MAPE (%)\"].values,\n",
        "           'XGBoost': df_scores_xgb[\"MAPE (%)\"].values, 'LightGBM': df_scores_lgbm[\"MAPE (%)\"].values,\n",
        "           'CatBoost': df_scores_catb[\"MAPE (%)\"].values,\n",
        "           }\n",
        "\n",
        "ratio_dict = {'RLR': df_scores_lr[\"Vpred / Vtrue\"].values, 'RF': df_scores_rf[\"Vpred / Vtrue\"].values,\n",
        "           'MLP': df_scores_mlp[\"Vpred / Vtrue\"].values, 'SVM': df_scores_svm[\"Vpred / Vtrue\"].values,\n",
        "           'XGBoost': df_scores_xgb[\"Vpred / Vtrue\"].values, 'LightGBM': df_scores_lgbm[\"Vpred / Vtrue\"].values,\n",
        "           'CatBoost': df_scores_catb[\"Vpred / Vtrue\"].values,\n",
        "           }\n",
        "\n",
        "cov_dict = {'RLR': df_scores_lr[\"COV\"].values, 'RF': df_scores_rf[\"COV\"].values,\n",
        "           'MLP': df_scores_mlp[\"COV\"].values, 'SVM': df_scores_svm[\"COV\"].values,\n",
        "           'XGBoost': df_scores_xgb[\"COV\"].values, 'LightGBM': df_scores_lgbm[\"COV\"].values,\n",
        "           'CatBoost': df_scores_catb[\"COV\"].values,\n",
        "           }\n",
        "\n",
        "colours = [\"lightgray\", \"gray\", \"lightblue\", \"pink\", \"red\", \"magenta\", \"green\"]\n",
        "\n",
        "fig, axs = plt.subplots(3, 2, figsize=(15, 10))\n",
        "\n",
        "axs[0, 0].set_title(\"R\\u00b2\")\n",
        "bplot1 = axs[0, 0].boxplot(r2_dict.values(), patch_artist=True)\n",
        "axs[0, 0].set_xticklabels(r2_dict.keys())\n",
        "axs[0, 0].grid(which=\"minor\", linewidth=0.75)\n",
        "axs[0, 0].grid(which=\"major\", linewidth=2)\n",
        "axs[0, 0].minorticks_on()\n",
        "for patch, color in zip(bplot1['boxes'], colours):\n",
        "    patch.set_facecolor(color)\n",
        "\n",
        "axs[0, 1].set_title(\"RMSE (kN)\")\n",
        "bplot2 = axs[0, 1].boxplot(rmse_dict.values(), patch_artist=True)\n",
        "axs[0, 1].set_xticklabels(rmse_dict.keys())\n",
        "axs[0, 1].grid(which=\"minor\", linewidth=0.75)\n",
        "axs[0, 1].grid(which=\"major\", linewidth=2)\n",
        "axs[0, 1].minorticks_on()\n",
        "for patch, color in zip(bplot2['boxes'], colours):\n",
        "    patch.set_facecolor(color)\n",
        "\n",
        "axs[1, 0].set_title(\"MAE (kN)\")\n",
        "bplot3 = axs[1, 0].boxplot(mae_dict.values(), patch_artist=True)\n",
        "axs[1, 0].set_xticklabels(mae_dict.keys())\n",
        "axs[1, 0].grid(which=\"minor\", linewidth=0.75)\n",
        "axs[1, 0].grid(which=\"major\", linewidth=2)\n",
        "axs[1, 0].minorticks_on()\n",
        "for patch, color in zip(bplot3['boxes'], colours):\n",
        "    patch.set_facecolor(color)\n",
        "\n",
        "\n",
        "axs[1, 1].set_title(\"MAPE (%)\")\n",
        "bplot4 = axs[1, 1].boxplot(mape_dict.values(), patch_artist=True)\n",
        "axs[1, 1].set_xticklabels(mape_dict.keys())\n",
        "axs[1, 1].grid(which=\"minor\", linewidth=0.75)\n",
        "axs[1, 1].grid(which=\"major\", linewidth=2)\n",
        "axs[1, 1].minorticks_on()\n",
        "for patch, color in zip(bplot4['boxes'], colours):\n",
        "    patch.set_facecolor(color)\n",
        "\n",
        "axs[2, 0].set_title(r\"$\\hat{y}/y$\")\n",
        "bplot5 = axs[2, 0].boxplot(ratio_dict.values(), patch_artist=True)\n",
        "axs[2, 0].set_xticklabels(ratio_dict.keys())\n",
        "axs[2, 0].grid(which=\"minor\", linewidth=0.75)\n",
        "axs[2, 0].grid(which=\"major\", linewidth=2)\n",
        "axs[2, 0].minorticks_on()\n",
        "for patch, color in zip(bplot5['boxes'], colours):\n",
        "    patch.set_facecolor(color)\n",
        "\n",
        "axs[2, 1].set_title(r\"COV of $\\hat{y}/y$\")\n",
        "bplot6 = axs[2, 1].boxplot(cov_dict.values(), patch_artist=True)\n",
        "axs[2, 1].set_xticklabels(cov_dict.keys())\n",
        "axs[2, 1].grid(which=\"minor\", linewidth=0.75)\n",
        "axs[2, 1].grid(which=\"major\", linewidth=2)\n",
        "axs[2, 1].minorticks_on()\n",
        "for patch, color in zip(bplot6['boxes'], colours):\n",
        "    patch.set_facecolor(color)\n",
        "\n",
        "plt.tight_layout(pad=2)\n",
        "plt.show()"
      ]
    }
  ],
  "metadata": {
    "colab": {
      "collapsed_sections": [],
      "name": "shear strength estimation (github).ipynb",
      "provenance": [],
      "toc_visible": true
    },
    "interpreter": {
      "hash": "6dae850c854e085de6caad8c58e88b6138d5383fa2e5d3d20bd29f647f5bea8a"
    },
    "kernelspec": {
      "display_name": "Python 3.8.11 64-bit ('base': conda)",
      "name": "python3"
    },
    "language_info": {
      "codemirror_mode": {
        "name": "ipython",
        "version": 3
      },
      "file_extension": ".py",
      "mimetype": "text/x-python",
      "name": "python",
      "nbconvert_exporter": "python",
      "pygments_lexer": "ipython3",
      "version": "3.8.12"
    },
    "orig_nbformat": 4
  },
  "nbformat": 4,
  "nbformat_minor": 0
}
